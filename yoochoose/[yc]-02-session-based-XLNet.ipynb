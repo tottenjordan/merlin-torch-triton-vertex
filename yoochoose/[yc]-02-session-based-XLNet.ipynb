{
 "cells": [
  {
   "cell_type": "code",
   "execution_count": 1,
   "id": "e6b21bd8-ddc8-4a20-a566-8c6733487a02",
   "metadata": {},
   "outputs": [
    {
     "name": "stdout",
     "output_type": "stream",
     "text": [
      "/home/jupyter/jt-git-repo-t4rec-triton/merlin-torch-triton-vertex/yoochoose\n"
     ]
    }
   ],
   "source": [
    "!pwd"
   ]
  },
  {
   "cell_type": "code",
   "execution_count": 2,
   "id": "6f56844a-1769-4cc7-b0fa-803e18523bc3",
   "metadata": {},
   "outputs": [
    {
     "name": "stdout",
     "output_type": "stream",
     "text": [
      "PROJECT_ID: hybrid-vertex\n",
      "PROJECT_NUM: 934903580331\n",
      "LOCATION: us-central1\n",
      "REGION: us-central1\n",
      "VERTEX_SA: jt-vertex-sa@hybrid-vertex.iam.gserviceaccount.com\n"
     ]
    }
   ],
   "source": [
    "import os\n",
    "\n",
    "os.environ[\"CUDA_VISIBLE_DEVICES\"]=\"0\"\n",
    "\n",
    "GCP_PROJECTS = !gcloud config get-value project\n",
    "PROJECT_ID = GCP_PROJECTS[0]\n",
    "PROJECT_NUM = !gcloud projects list --filter=\"$PROJECT_ID\" --format=\"value(PROJECT_NUMBER)\"\n",
    "PROJECT_NUM = PROJECT_NUM[0]\n",
    "LOCATION = 'us-central1'\n",
    "REGION = \"us-central1\"\n",
    "\n",
    "# VERTEX_SA = '934903580331-compute@developer.gserviceaccount.com'\n",
    "VERTEX_SA = 'jt-vertex-sa@hybrid-vertex.iam.gserviceaccount.com'\n",
    "\n",
    "print(f\"PROJECT_ID: {PROJECT_ID}\")\n",
    "print(f\"PROJECT_NUM: {PROJECT_NUM}\")\n",
    "print(f\"LOCATION: {LOCATION}\")\n",
    "print(f\"REGION: {REGION}\")\n",
    "print(f\"VERTEX_SA: {VERTEX_SA}\")"
   ]
  },
  {
   "cell_type": "code",
   "execution_count": 4,
   "id": "95dce4bb-3abc-470b-ad9f-bfd777808d34",
   "metadata": {},
   "outputs": [
    {
     "name": "stdout",
     "output_type": "stream",
     "text": [
      "DATA_FOLDER: data\n",
      "TRANSFORMED_WORKFLOW: workflows/processed_nvt\n",
      "OUTPUT_WORKFLOW_DIR: workflows/workflow_etl\n",
      "OUTPUT_DIR: data/sessions_by_day\n"
     ]
    }
   ],
   "source": [
    "DATA_FOLDER='data'\n",
    "WORKFLOW_DIR='workflows'\n",
    "TRANSFORMED_WORKFLOW=f'{WORKFLOW_DIR}/processed_nvt'\n",
    "OUTPUT_WORKFLOW_DIR=f'{WORKFLOW_DIR}/workflow_etl'\n",
    "OUTPUT_DIR=f'{DATA_FOLDER}/sessions_by_day'\n",
    "OVERWRITE = False\n",
    "\n",
    "print(f\"DATA_FOLDER: {DATA_FOLDER}\")\n",
    "print(f\"TRANSFORMED_WORKFLOW: {TRANSFORMED_WORKFLOW}\")\n",
    "print(f\"OUTPUT_WORKFLOW_DIR: {OUTPUT_WORKFLOW_DIR}\")\n",
    "print(f\"OUTPUT_DIR: {OUTPUT_DIR}\")"
   ]
  },
  {
   "cell_type": "markdown",
   "id": "66ef7e1e-cd5b-4fdd-aede-cab0894b2b2f",
   "metadata": {},
   "source": [
    "## get schema"
   ]
  },
  {
   "cell_type": "code",
   "execution_count": 12,
   "id": "8f4f2ba8-bb85-484c-b986-ada1312e208b",
   "metadata": {},
   "outputs": [],
   "source": [
    "# jt-git-repo-t4rec-triton/merlin-torch-triton-vertex/yoochoose/workflows/processed_nvt/schema.pbtxt\n",
    "\n",
    "# SCHEMA_OTHER='jt-git-repo-t4rec-triton/merlin-torch-triton-vertex/workspace/data/processed_nvt/schema.pbtxt'\n",
    "# os.chdir('jt-git-repo-t4rec-triton/merlin-torch-triton-vertex')"
   ]
  },
  {
   "cell_type": "code",
   "execution_count": 13,
   "id": "92313d12-f445-4bcd-a24a-e9b82cec934f",
   "metadata": {},
   "outputs": [],
   "source": [
    "# from merlin_standard_lib import Schema\n",
    "# SCHEMA_PATH = f'./{TRANSFORMED_WORKFLOW}/schema.pbtxt'\n",
    "# schema = Schema().from_proto_text(SCHEMA_OTHER)"
   ]
  },
  {
   "cell_type": "code",
   "execution_count": 14,
   "id": "4e5e62aa-4b1b-461f-b340-7e62ae99883b",
   "metadata": {},
   "outputs": [],
   "source": [
    "# !head -20 $SCHEMA_PATH"
   ]
  },
  {
   "cell_type": "code",
   "execution_count": null,
   "id": "c59636b5-3267-4c00-a70d-3ff1756e80ae",
   "metadata": {},
   "outputs": [],
   "source": []
  }
 ],
 "metadata": {
  "kernelspec": {
   "display_name": "Python 3 (ipykernel)",
   "language": "python",
   "name": "python3"
  },
  "language_info": {
   "codemirror_mode": {
    "name": "ipython",
    "version": 3
   },
   "file_extension": ".py",
   "mimetype": "text/x-python",
   "name": "python",
   "nbconvert_exporter": "python",
   "pygments_lexer": "ipython3",
   "version": "3.8.10"
  }
 },
 "nbformat": 4,
 "nbformat_minor": 5
}
