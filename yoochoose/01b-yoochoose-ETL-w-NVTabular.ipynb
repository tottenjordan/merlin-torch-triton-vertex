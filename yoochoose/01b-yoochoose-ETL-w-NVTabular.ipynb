{
 "cells": [
  {
   "cell_type": "markdown",
   "id": "be500c0c-17c2-41c0-8b92-4646cb3899a9",
   "metadata": {},
   "source": [
    "# ETL with NVTabular\n",
    "\n",
    "* following tutotial [here](https://github.com/NVIDIA-Merlin/Transformers4Rec/blob/main/examples/end-to-end-session-based/01-ETL-with-NVTabular.ipynb)"
   ]
  },
  {
   "cell_type": "code",
   "execution_count": null,
   "id": "863a83e0-c0c6-4411-b6df-992465c27d09",
   "metadata": {},
   "outputs": [],
   "source": [
    "# !gsutil cp gs://kaggle-yoochoose-data/yoochoose-clicks.dat ./data"
   ]
  },
  {
   "cell_type": "code",
   "execution_count": 3,
   "id": "49b90d8f-6985-4f1c-879e-2c3f82f3ad1c",
   "metadata": {},
   "outputs": [],
   "source": [
    "import os\n",
    "import glob\n",
    "\n",
    "import numpy as np\n",
    "import pandas as pd\n",
    "import gc\n",
    "\n",
    "import cudf\n",
    "import cupy\n",
    "\n",
    "import nvtabular as nvt\n",
    "from nvtabular.ops import *\n",
    "from merlin.dag import ColumnSelector\n",
    "from merlin.schema import Schema, Tags"
   ]
  },
  {
   "cell_type": "code",
   "execution_count": 4,
   "id": "30336765-ade3-4354-9536-1abaaced1d9b",
   "metadata": {},
   "outputs": [
    {
     "name": "stdout",
     "output_type": "stream",
     "text": [
      "PROJECT_ID: hybrid-vertex\n",
      "PROJECT_NUM: 934903580331\n",
      "LOCATION: us-central1\n",
      "REGION: us-central1\n",
      "VERTEX_SA: jt-vertex-sa@hybrid-vertex.iam.gserviceaccount.com\n"
     ]
    }
   ],
   "source": [
    "GCP_PROJECTS = !gcloud config get-value project\n",
    "PROJECT_ID = GCP_PROJECTS[0]\n",
    "PROJECT_NUM = !gcloud projects list --filter=\"$PROJECT_ID\" --format=\"value(PROJECT_NUMBER)\"\n",
    "PROJECT_NUM = PROJECT_NUM[0]\n",
    "LOCATION = 'us-central1'\n",
    "REGION = \"us-central1\"\n",
    "\n",
    "# VERTEX_SA = '934903580331-compute@developer.gserviceaccount.com'\n",
    "VERTEX_SA = 'jt-vertex-sa@hybrid-vertex.iam.gserviceaccount.com'\n",
    "\n",
    "print(f\"PROJECT_ID: {PROJECT_ID}\")\n",
    "print(f\"PROJECT_NUM: {PROJECT_NUM}\")\n",
    "print(f\"LOCATION: {LOCATION}\")\n",
    "print(f\"REGION: {REGION}\")\n",
    "print(f\"VERTEX_SA: {VERTEX_SA}\")"
   ]
  },
  {
   "cell_type": "code",
   "execution_count": 35,
   "id": "2e2d2d96-08e4-4380-9cc1-2beea7852d95",
   "metadata": {},
   "outputs": [
    {
     "name": "stdout",
     "output_type": "stream",
     "text": [
      "DATA_FOLDER: data\n",
      "DATA_PATH: data/yoochoose-clicks.dat\n",
      "TRANSFORMED_WORKFLOW: workflows/processed_nvt\n",
      "OUTPUT_WORKFLOW_DIR: workflows/workflow_etl\n",
      "OUTPUT_DIR: data/sessions_by_day\n"
     ]
    }
   ],
   "source": [
    "DATA_FOLDER='data'\n",
    "FILENAME_PATTERN = 'yoochoose-clicks.dat'\n",
    "DATA_PATH=f'{DATA_FOLDER}/{FILENAME_PATTERN}'\n",
    "\n",
    "WORKFLOW_DIR='workflows'\n",
    "\n",
    "TRANSFORMED_WORKFLOW=f'{WORKFLOW_DIR}/processed_nvt'\n",
    "OUTPUT_WORKFLOW_DIR=f'{WORKFLOW_DIR}/workflow_etl'\n",
    "\n",
    "OUTPUT_DIR=f'{DATA_FOLDER}/sessions_by_day'\n",
    "OVERWRITE = False\n",
    "\n",
    "print(f\"DATA_FOLDER: {DATA_FOLDER}\")\n",
    "print(f\"DATA_PATH: {DATA_PATH}\")\n",
    "print(f\"TRANSFORMED_WORKFLOW: {TRANSFORMED_WORKFLOW}\")\n",
    "print(f\"OUTPUT_WORKFLOW_DIR: {OUTPUT_WORKFLOW_DIR}\")\n",
    "print(f\"OUTPUT_DIR: {OUTPUT_DIR}\")"
   ]
  },
  {
   "cell_type": "code",
   "execution_count": 36,
   "id": "7aae5118-d308-4fdb-9c36-364b49dd0115",
   "metadata": {},
   "outputs": [
    {
     "name": "stdout",
     "output_type": "stream",
     "text": [
      "mkdir: cannot create directory ‘data/sessions_by_day’: File exists\n"
     ]
    }
   ],
   "source": [
    "# ! rm -rf {WORKFLOW_DIR}\n",
    "# ! rm -rf {TRANSFORMED_WORKFLOW}\n",
    "# ! rm -rf {OUTPUT_WORKFLOW_DIR}\n",
    "# ! rm -rf {OUTPUT_FOLDER}\n",
    "\n",
    "! mkdir {WORKFLOW_DIR}\n",
    "! mkdir {OUTPUT_DIR}\n",
    "! mkdir {TRANSFORMED_WORKFLOW}\n",
    "! mkdir {OUTPUT_WORKFLOW_DIR}"
   ]
  },
  {
   "cell_type": "code",
   "execution_count": 58,
   "id": "2e7a5f0e-8fa9-460a-8ae6-2a8ecf9349c3",
   "metadata": {},
   "outputs": [],
   "source": [
    "# !ls\n",
    "! rm -rf {OUTPUT_DIR}\n",
    "! mkdir {OUTPUT_DIR}"
   ]
  },
  {
   "cell_type": "markdown",
   "id": "e08af06f-49e4-4b5e-a5ba-83d7395d04c2",
   "metadata": {},
   "source": [
    "## Load and clean raw data"
   ]
  },
  {
   "cell_type": "code",
   "execution_count": 37,
   "id": "ec22d6ad-92c8-4147-a97c-501890a5bf89",
   "metadata": {},
   "outputs": [],
   "source": [
    "interactions_df = cudf.read_csv(\n",
    "    DATA_PATH, \n",
    "    sep=',', \n",
    "    names=['session_id','timestamp', 'item_id', 'category'], \n",
    "    dtype=['int', 'datetime64[s]', 'int', 'int']\n",
    ")"
   ]
  },
  {
   "cell_type": "code",
   "execution_count": 38,
   "id": "5d2a3871-dded-4109-87bd-2aa2d1212dcc",
   "metadata": {},
   "outputs": [
    {
     "data": {
      "text/html": [
       "<div>\n",
       "<style scoped>\n",
       "    .dataframe tbody tr th:only-of-type {\n",
       "        vertical-align: middle;\n",
       "    }\n",
       "\n",
       "    .dataframe tbody tr th {\n",
       "        vertical-align: top;\n",
       "    }\n",
       "\n",
       "    .dataframe thead th {\n",
       "        text-align: right;\n",
       "    }\n",
       "</style>\n",
       "<table border=\"1\" class=\"dataframe\">\n",
       "  <thead>\n",
       "    <tr style=\"text-align: right;\">\n",
       "      <th></th>\n",
       "      <th>session_id</th>\n",
       "      <th>timestamp</th>\n",
       "      <th>item_id</th>\n",
       "      <th>category</th>\n",
       "    </tr>\n",
       "  </thead>\n",
       "  <tbody>\n",
       "    <tr>\n",
       "      <th>0</th>\n",
       "      <td>1</td>\n",
       "      <td>2014-04-07 10:51:09</td>\n",
       "      <td>214536502</td>\n",
       "      <td>0</td>\n",
       "    </tr>\n",
       "    <tr>\n",
       "      <th>1</th>\n",
       "      <td>1</td>\n",
       "      <td>2014-04-07 10:54:09</td>\n",
       "      <td>214536500</td>\n",
       "      <td>0</td>\n",
       "    </tr>\n",
       "    <tr>\n",
       "      <th>2</th>\n",
       "      <td>1</td>\n",
       "      <td>2014-04-07 10:54:46</td>\n",
       "      <td>214536506</td>\n",
       "      <td>0</td>\n",
       "    </tr>\n",
       "    <tr>\n",
       "      <th>3</th>\n",
       "      <td>1</td>\n",
       "      <td>2014-04-07 10:57:00</td>\n",
       "      <td>214577561</td>\n",
       "      <td>0</td>\n",
       "    </tr>\n",
       "    <tr>\n",
       "      <th>4</th>\n",
       "      <td>2</td>\n",
       "      <td>2014-04-07 13:56:37</td>\n",
       "      <td>214662742</td>\n",
       "      <td>0</td>\n",
       "    </tr>\n",
       "  </tbody>\n",
       "</table>\n",
       "</div>"
      ],
      "text/plain": [
       "   session_id           timestamp    item_id  category\n",
       "0           1 2014-04-07 10:51:09  214536502         0\n",
       "1           1 2014-04-07 10:54:09  214536500         0\n",
       "2           1 2014-04-07 10:54:46  214536506         0\n",
       "3           1 2014-04-07 10:57:00  214577561         0\n",
       "4           2 2014-04-07 13:56:37  214662742         0"
      ]
     },
     "execution_count": 38,
     "metadata": {},
     "output_type": "execute_result"
    }
   ],
   "source": [
    "interactions_df.head()"
   ]
  },
  {
   "cell_type": "code",
   "execution_count": 39,
   "id": "05ae0f64-46c9-4353-8ff4-fb9bb6ef5429",
   "metadata": {},
   "outputs": [
    {
     "name": "stdout",
     "output_type": "stream",
     "text": [
      "Count with in-session repeated interactions: 33003944\n",
      "Count after removed in-session repeated interactions: 28971543\n"
     ]
    }
   ],
   "source": [
    "print(\"Count with in-session repeated interactions: {}\".format(len(interactions_df)))\n",
    "\n",
    "# Sorts the dataframe by session and timestamp, to remove consecutive repetitions\n",
    "interactions_df.timestamp = interactions_df.timestamp.astype(int)\n",
    "interactions_df = interactions_df.sort_values(['session_id', 'timestamp'])\n",
    "past_ids = interactions_df['item_id'].shift(1).fillna()\n",
    "session_past_ids = interactions_df['session_id'].shift(1).fillna()\n",
    "\n",
    "# Keeping only no consecutive repeated in session interactions\n",
    "interactions_df = interactions_df[~((interactions_df['session_id'] == session_past_ids) & (interactions_df['item_id'] == past_ids))]\n",
    "\n",
    "print(\"Count after removed in-session repeated interactions: {}\".format(len(interactions_df)))"
   ]
  },
  {
   "cell_type": "code",
   "execution_count": 40,
   "id": "9cab5987-e284-4aae-a7e2-e1ae9997d96f",
   "metadata": {},
   "outputs": [
    {
     "data": {
      "text/html": [
       "<div>\n",
       "<style scoped>\n",
       "    .dataframe tbody tr th:only-of-type {\n",
       "        vertical-align: middle;\n",
       "    }\n",
       "\n",
       "    .dataframe tbody tr th {\n",
       "        vertical-align: top;\n",
       "    }\n",
       "\n",
       "    .dataframe thead th {\n",
       "        text-align: right;\n",
       "    }\n",
       "</style>\n",
       "<table border=\"1\" class=\"dataframe\">\n",
       "  <thead>\n",
       "    <tr style=\"text-align: right;\">\n",
       "      <th></th>\n",
       "      <th>session_id</th>\n",
       "      <th>timestamp</th>\n",
       "      <th>item_id</th>\n",
       "      <th>category</th>\n",
       "      <th>itemid_ts_first</th>\n",
       "    </tr>\n",
       "  </thead>\n",
       "  <tbody>\n",
       "    <tr>\n",
       "      <th>0</th>\n",
       "      <td>10698</td>\n",
       "      <td>1396387353</td>\n",
       "      <td>214717007</td>\n",
       "      <td>0</td>\n",
       "      <td>1396321524</td>\n",
       "    </tr>\n",
       "    <tr>\n",
       "      <th>1</th>\n",
       "      <td>10698</td>\n",
       "      <td>1396387465</td>\n",
       "      <td>214716928</td>\n",
       "      <td>0</td>\n",
       "      <td>1396321848</td>\n",
       "    </tr>\n",
       "    <tr>\n",
       "      <th>2</th>\n",
       "      <td>10698</td>\n",
       "      <td>1396388002</td>\n",
       "      <td>214717007</td>\n",
       "      <td>0</td>\n",
       "      <td>1396321524</td>\n",
       "    </tr>\n",
       "    <tr>\n",
       "      <th>3</th>\n",
       "      <td>10698</td>\n",
       "      <td>1396389055</td>\n",
       "      <td>214717003</td>\n",
       "      <td>0</td>\n",
       "      <td>1396322598</td>\n",
       "    </tr>\n",
       "    <tr>\n",
       "      <th>4</th>\n",
       "      <td>10698</td>\n",
       "      <td>1396389088</td>\n",
       "      <td>214716926</td>\n",
       "      <td>0</td>\n",
       "      <td>1396321393</td>\n",
       "    </tr>\n",
       "  </tbody>\n",
       "</table>\n",
       "</div>"
      ],
      "text/plain": [
       "   session_id   timestamp    item_id  category  itemid_ts_first\n",
       "0       10698  1396387353  214717007         0       1396321524\n",
       "1       10698  1396387465  214716928         0       1396321848\n",
       "2       10698  1396388002  214717007         0       1396321524\n",
       "3       10698  1396389055  214717003         0       1396322598\n",
       "4       10698  1396389088  214716926         0       1396321393"
      ]
     },
     "execution_count": 40,
     "metadata": {},
     "output_type": "execute_result"
    }
   ],
   "source": [
    "items_first_ts_df = interactions_df.groupby('item_id').agg({'timestamp': 'min'}).reset_index().rename(columns={'timestamp': 'itemid_ts_first'})\n",
    "\n",
    "interactions_merged_df = interactions_df.merge(items_first_ts_df, on=['item_id'], how='left')\n",
    "\n",
    "interactions_merged_df.head()"
   ]
  },
  {
   "cell_type": "code",
   "execution_count": 14,
   "id": "9264eabd-7631-4b5e-8d50-b96764d584f5",
   "metadata": {},
   "outputs": [],
   "source": [
    "# interactions_merged_df.to_parquet(f'{DATA_FOLDER}/interactions_merged_df.parquet')"
   ]
  },
  {
   "cell_type": "code",
   "execution_count": 41,
   "id": "a1cc96a1-637b-4dfe-a731-e20e1360bd0f",
   "metadata": {},
   "outputs": [
    {
     "data": {
      "text/plain": [
       "19"
      ]
     },
     "execution_count": 41,
     "metadata": {},
     "output_type": "execute_result"
    }
   ],
   "source": [
    "# free gpu memory\n",
    "del interactions_df, session_past_ids, items_first_ts_df\n",
    "gc.collect()"
   ]
  },
  {
   "cell_type": "markdown",
   "id": "5a813c47-8c5b-4261-9896-7b8bcb460e1c",
   "metadata": {},
   "source": [
    "## Define a preprocessing workflow with NVTabular"
   ]
  },
  {
   "cell_type": "code",
   "execution_count": 42,
   "id": "7f644ca0-8318-4f8d-8328-ca3ca833ed1d",
   "metadata": {},
   "outputs": [],
   "source": [
    "# Encodes categorical features as contiguous integers\n",
    "cat_feats = ColumnSelector(['session_id', 'category', 'item_id']) >> nvt.ops.Categorify(start_index=1)\n",
    "\n",
    "# create time features\n",
    "session_ts = ColumnSelector(['timestamp'])\n",
    "session_time = (\n",
    "    session_ts >> \n",
    "    nvt.ops.LambdaOp(lambda col: cudf.to_datetime(col, unit='s')) >> \n",
    "    nvt.ops.Rename(name = 'event_time_dt')\n",
    ")\n",
    "sessiontime_weekday = (\n",
    "    session_time >> \n",
    "    nvt.ops.LambdaOp(lambda col: col.dt.weekday) >> \n",
    "    nvt.ops.Rename(name ='et_dayofweek')\n",
    ")\n",
    "\n",
    "# Derive cyclical features: Define a custom lambda function \n",
    "def get_cycled_feature_value_sin(col, max_value):\n",
    "    value_scaled = (col + 0.000001) / max_value\n",
    "    value_sin = np.sin(2*np.pi*value_scaled)\n",
    "    return value_sin\n",
    "\n",
    "weekday_sin = sessiontime_weekday >> (lambda col: get_cycled_feature_value_sin(col+1, 7)) >> nvt.ops.Rename(name = 'et_dayofweek_sin')\n",
    "\n",
    "# Compute Item recency: Define a custom Op \n",
    "class ItemRecency(nvt.ops.Operator):\n",
    "    def transform(self, columns, gdf):\n",
    "        for column in columns.names:\n",
    "            col = gdf[column]\n",
    "            item_first_timestamp = gdf['itemid_ts_first']\n",
    "            delta_days = (col - item_first_timestamp) / (60*60*24)\n",
    "            gdf[column + \"_age_days\"] = delta_days * (delta_days >=0)\n",
    "        return gdf\n",
    "\n",
    "    def compute_selector(\n",
    "        self,\n",
    "        input_schema: Schema,\n",
    "        selector: ColumnSelector,\n",
    "        parents_selector: ColumnSelector,\n",
    "        dependencies_selector: ColumnSelector,\n",
    "    ) -> ColumnSelector:\n",
    "        self._validate_matching_cols(input_schema, parents_selector, \"computing input selector\")\n",
    "        return parents_selector\n",
    "\n",
    "    def column_mapping(self, col_selector):\n",
    "        column_mapping = {}\n",
    "        for col_name in col_selector.names:\n",
    "            column_mapping[col_name + \"_age_days\"] = [col_name]\n",
    "        return column_mapping\n",
    "\n",
    "    @property\n",
    "    def dependencies(self):\n",
    "        return [\"itemid_ts_first\"]\n",
    "\n",
    "    @property\n",
    "    def output_dtype(self):\n",
    "        return np.float64\n",
    "    \n",
    "recency_features = session_ts >> ItemRecency() \n",
    "# Apply standardization to this continuous feature\n",
    "recency_features_norm = recency_features >> nvt.ops.LogOp() >> nvt.ops.Normalize(out_dtype=np.float32) >> nvt.ops.Rename(name='product_recency_days_log_norm')\n",
    "\n",
    "time_features = (\n",
    "    session_time +\n",
    "    sessiontime_weekday +\n",
    "    weekday_sin + \n",
    "    recency_features_norm\n",
    ")\n",
    "\n",
    "features = ColumnSelector(['timestamp', 'session_id']) + cat_feats + time_features "
   ]
  },
  {
   "cell_type": "markdown",
   "id": "230ccd65-502b-41da-a429-3b2022ba5258",
   "metadata": {},
   "source": [
    "### Define the preprocessing of sequential features"
   ]
  },
  {
   "cell_type": "markdown",
   "id": "e089713d-7253-4bd2-9efd-aca6ade2c5c4",
   "metadata": {},
   "source": [
    "Once the item features are generated, the objective of this cell is to group interactions at the session level, sorting the interactions by time. We additionally truncate all sessions to first 20 interactions and filter out sessions with less than 2 interactions."
   ]
  },
  {
   "cell_type": "code",
   "execution_count": 43,
   "id": "81381b74-d75e-47bc-b0f3-37c961218e6e",
   "metadata": {},
   "outputs": [],
   "source": [
    "# Define Groupby Operator\n",
    "groupby_features = features >> nvt.ops.Groupby(\n",
    "    groupby_cols=[\"session_id\"], \n",
    "    sort_cols=[\"timestamp\"],\n",
    "    aggs={\n",
    "        'item_id': [\"list\", \"count\"],\n",
    "        'category': [\"list\"],  \n",
    "        'timestamp': [\"first\"],\n",
    "        'event_time_dt': [\"first\"],\n",
    "        'et_dayofweek_sin': [\"list\"],\n",
    "        'product_recency_days_log_norm': [\"list\"]\n",
    "        },\n",
    "    name_sep=\"-\") >> nvt.ops.AddMetadata(tags=[Tags.CATEGORICAL])\n",
    "\n",
    "\n",
    "# Truncate sequence features to first interacted 20 items \n",
    "SESSIONS_MAX_LENGTH = 20 \n",
    "\n",
    "groupby_features_list = groupby_features['item_id-list', 'category-list', 'et_dayofweek_sin-list', 'product_recency_days_log_norm-list']\n",
    "groupby_features_truncated = groupby_features_list >> nvt.ops.ListSlice(0, SESSIONS_MAX_LENGTH, pad=True) >> nvt.ops.Rename(postfix = '_seq')\n",
    "\n",
    "# Calculate session day index based on 'event_time_dt-first' column\n",
    "day_index = ((groupby_features['event_time_dt-first'])  >> \n",
    "    nvt.ops.LambdaOp(lambda col: (col - col.min()).dt.days +1) >> \n",
    "    nvt.ops.Rename(f = lambda col: \"day_index\")\n",
    ")\n",
    "\n",
    "# Select features for training \n",
    "selected_features = groupby_features['session_id', 'item_id-count'] + groupby_features_truncated + day_index\n",
    "\n",
    "# Filter out sessions with less than 2 interactions \n",
    "MINIMUM_SESSION_LENGTH = 2\n",
    "filtered_sessions = selected_features >> nvt.ops.Filter(f=lambda df: df[\"item_id-count\"] >= MINIMUM_SESSION_LENGTH) "
   ]
  },
  {
   "cell_type": "markdown",
   "id": "958cfdcc-b593-4c9b-a41d-2d7be25e1167",
   "metadata": {},
   "source": [
    "Avoid Numba low occupancy warnings:"
   ]
  },
  {
   "cell_type": "code",
   "execution_count": 44,
   "id": "6457e5e8-c1ad-4b92-8d60-45df05334f0d",
   "metadata": {},
   "outputs": [],
   "source": [
    "from numba import config\n",
    "config.CUDA_LOW_OCCUPANCY_WARNINGS = 0"
   ]
  },
  {
   "cell_type": "markdown",
   "id": "d4287fd5-cd8d-49cb-8ff5-7c94a2c7d2e2",
   "metadata": {},
   "source": [
    "### Execute NVTabular workflow"
   ]
  },
  {
   "cell_type": "markdown",
   "id": "56ebd26c-1851-468e-a505-44d5d7fb57cc",
   "metadata": {},
   "source": [
    "* Once we have defined the general workflow (`filtered_sessions`), we provide our cudf dataset to `nvt.Dataset` class which is optimized to split data into chunks that can fit in device memory and to handle the calculation of complex global statistics \n",
    "* Then, we execute the pipeline that fits and transforms data to get the desired output features."
   ]
  },
  {
   "cell_type": "code",
   "execution_count": 45,
   "id": "23654cc7-44b9-471f-b20a-62655296f6a2",
   "metadata": {},
   "outputs": [],
   "source": [
    "dataset = nvt.Dataset(interactions_merged_df)\n",
    "workflow = nvt.Workflow(filtered_sessions)\n",
    "# Learn features statistics necessary of the preprocessing workflow\n",
    "workflow.fit(dataset)\n",
    "# Apply the preprocessing workflow in the dataset and convert the resulting Dask cudf dataframe to a cudf dataframe\n",
    "sessions_gdf = workflow.transform(dataset).compute()"
   ]
  },
  {
   "cell_type": "code",
   "execution_count": 46,
   "id": "a1ef64ea-dc9f-4854-9190-dec012f30809",
   "metadata": {},
   "outputs": [
    {
     "data": {
      "text/html": [
       "<div>\n",
       "<style scoped>\n",
       "    .dataframe tbody tr th:only-of-type {\n",
       "        vertical-align: middle;\n",
       "    }\n",
       "\n",
       "    .dataframe tbody tr th {\n",
       "        vertical-align: top;\n",
       "    }\n",
       "\n",
       "    .dataframe thead th {\n",
       "        text-align: right;\n",
       "    }\n",
       "</style>\n",
       "<table border=\"1\" class=\"dataframe\">\n",
       "  <thead>\n",
       "    <tr style=\"text-align: right;\">\n",
       "      <th></th>\n",
       "      <th>session_id</th>\n",
       "      <th>item_id-count</th>\n",
       "      <th>item_id-list_seq</th>\n",
       "      <th>category-list_seq</th>\n",
       "      <th>et_dayofweek_sin-list_seq</th>\n",
       "      <th>product_recency_days_log_norm-list_seq</th>\n",
       "      <th>day_index</th>\n",
       "    </tr>\n",
       "  </thead>\n",
       "  <tbody>\n",
       "    <tr>\n",
       "      <th>0</th>\n",
       "      <td>2</td>\n",
       "      <td>200</td>\n",
       "      <td>[2223, 2125, 1800, 123, 3030, 1861, 1076, 1285...</td>\n",
       "      <td>[2, 2, 2, 2, 2, 2, 2, 2, 2, 2, 2, 2, 2, 2, 2, ...</td>\n",
       "      <td>[1.1285199e-06, 1.1285199e-06, 1.1285199e-06, ...</td>\n",
       "      <td>[-1.1126341, -0.9665389, -0.1350116, -0.127809...</td>\n",
       "      <td>27</td>\n",
       "    </tr>\n",
       "    <tr>\n",
       "      <th>1</th>\n",
       "      <td>3</td>\n",
       "      <td>200</td>\n",
       "      <td>[34959, 24004, 32503, 39480, 28132, 47339, 351...</td>\n",
       "      <td>[2, 2, 2, 2, 2, 2, 2, 2, 2, 2, 2, 2, 2, 2, 2, ...</td>\n",
       "      <td>[0.43388295, 0.43388295, 0.43388295, 0.4338829...</td>\n",
       "      <td>[0.3110803, 0.475488, -3.0278225, -3.0278225, ...</td>\n",
       "      <td>58</td>\n",
       "    </tr>\n",
       "    <tr>\n",
       "      <th>2</th>\n",
       "      <td>4</td>\n",
       "      <td>200</td>\n",
       "      <td>[23212, 30448, 16468, 2052, 22490, 31097, 6243...</td>\n",
       "      <td>[2, 2, 2, 2, 2, 2, 2, 2, 2, 2, 2, 2, 2, 2, 2, ...</td>\n",
       "      <td>[0.9749277, 0.9749277, 0.9749277, 0.9749277, 0...</td>\n",
       "      <td>[0.6801631, 0.7174695, 0.7185285, 0.7204116, 0...</td>\n",
       "      <td>71</td>\n",
       "    </tr>\n",
       "    <tr>\n",
       "      <th>3</th>\n",
       "      <td>5</td>\n",
       "      <td>200</td>\n",
       "      <td>[230, 451, 732, 1268, 2014, 567, 497, 439, 338...</td>\n",
       "      <td>[2, 2, 2, 2, 2, 2, 2, 2, 2, 2, 2, 2, 3, 2, 2, ...</td>\n",
       "      <td>[0.43388295, 0.43388295, 0.43388295, 0.4338829...</td>\n",
       "      <td>[1.3680888, -0.6530481, -0.69314253, -0.590593...</td>\n",
       "      <td>149</td>\n",
       "    </tr>\n",
       "    <tr>\n",
       "      <th>4</th>\n",
       "      <td>6</td>\n",
       "      <td>200</td>\n",
       "      <td>[23, 70, 160, 70, 90, 742, 851, 359, 734, 878,...</td>\n",
       "      <td>[2, 2, 2, 2, 2, 2, 2, 2, 2, 2, 2, 2, 2, 2, 2, ...</td>\n",
       "      <td>[0.43388295, 0.43388295, 0.43388295, 0.4338829...</td>\n",
       "      <td>[1.3714824, 1.3715883, 1.3715737, 1.3715955, 1...</td>\n",
       "      <td>149</td>\n",
       "    </tr>\n",
       "  </tbody>\n",
       "</table>\n",
       "</div>"
      ],
      "text/plain": [
       "   session_id  item_id-count  \\\n",
       "0           2            200   \n",
       "1           3            200   \n",
       "2           4            200   \n",
       "3           5            200   \n",
       "4           6            200   \n",
       "\n",
       "                                    item_id-list_seq  \\\n",
       "0  [2223, 2125, 1800, 123, 3030, 1861, 1076, 1285...   \n",
       "1  [34959, 24004, 32503, 39480, 28132, 47339, 351...   \n",
       "2  [23212, 30448, 16468, 2052, 22490, 31097, 6243...   \n",
       "3  [230, 451, 732, 1268, 2014, 567, 497, 439, 338...   \n",
       "4  [23, 70, 160, 70, 90, 742, 851, 359, 734, 878,...   \n",
       "\n",
       "                                   category-list_seq  \\\n",
       "0  [2, 2, 2, 2, 2, 2, 2, 2, 2, 2, 2, 2, 2, 2, 2, ...   \n",
       "1  [2, 2, 2, 2, 2, 2, 2, 2, 2, 2, 2, 2, 2, 2, 2, ...   \n",
       "2  [2, 2, 2, 2, 2, 2, 2, 2, 2, 2, 2, 2, 2, 2, 2, ...   \n",
       "3  [2, 2, 2, 2, 2, 2, 2, 2, 2, 2, 2, 2, 3, 2, 2, ...   \n",
       "4  [2, 2, 2, 2, 2, 2, 2, 2, 2, 2, 2, 2, 2, 2, 2, ...   \n",
       "\n",
       "                           et_dayofweek_sin-list_seq  \\\n",
       "0  [1.1285199e-06, 1.1285199e-06, 1.1285199e-06, ...   \n",
       "1  [0.43388295, 0.43388295, 0.43388295, 0.4338829...   \n",
       "2  [0.9749277, 0.9749277, 0.9749277, 0.9749277, 0...   \n",
       "3  [0.43388295, 0.43388295, 0.43388295, 0.4338829...   \n",
       "4  [0.43388295, 0.43388295, 0.43388295, 0.4338829...   \n",
       "\n",
       "              product_recency_days_log_norm-list_seq  day_index  \n",
       "0  [-1.1126341, -0.9665389, -0.1350116, -0.127809...         27  \n",
       "1  [0.3110803, 0.475488, -3.0278225, -3.0278225, ...         58  \n",
       "2  [0.6801631, 0.7174695, 0.7185285, 0.7204116, 0...         71  \n",
       "3  [1.3680888, -0.6530481, -0.69314253, -0.590593...        149  \n",
       "4  [1.3714824, 1.3715883, 1.3715737, 1.3715955, 1...        149  "
      ]
     },
     "execution_count": 46,
     "metadata": {},
     "output_type": "execute_result"
    }
   ],
   "source": [
    "sessions_gdf.head()"
   ]
  },
  {
   "cell_type": "code",
   "execution_count": 47,
   "id": "e704f5d4-540b-41c1-8fa9-4c6fa32052aa",
   "metadata": {},
   "outputs": [],
   "source": [
    "workflow.fit_transform(dataset).to_parquet(TRANSFORMED_WORKFLOW)"
   ]
  },
  {
   "cell_type": "code",
   "execution_count": 48,
   "id": "7ac26b73-255f-4c0b-8c66-7fb92a960f2a",
   "metadata": {},
   "outputs": [
    {
     "name": "stdout",
     "output_type": "stream",
     "text": [
      "_file_list.txt\t_metadata  _metadata.json  part_0.parquet  schema.pbtxt\n"
     ]
    }
   ],
   "source": [
    "!ls $TRANSFORMED_WORKFLOW"
   ]
  },
  {
   "cell_type": "code",
   "execution_count": 49,
   "id": "b4f0577f-85b2-4852-a18d-d970be11d4f0",
   "metadata": {},
   "outputs": [
    {
     "name": "stdout",
     "output_type": "stream",
     "text": [
      "categories  metadata.json  workflow.pkl\n"
     ]
    }
   ],
   "source": [
    "# TRANSFORMED_WORKFLOW='workflow_etl'\n",
    "\n",
    "workflow.save(OUTPUT_WORKFLOW_DIR)\n",
    "\n",
    "!ls $OUTPUT_WORKFLOW_DIR"
   ]
  },
  {
   "cell_type": "code",
   "execution_count": 50,
   "id": "2c0a0147-9d6e-47e5-8132-21312d80dfc7",
   "metadata": {},
   "outputs": [
    {
     "data": {
      "text/html": [
       "<div>\n",
       "<style scoped>\n",
       "    .dataframe tbody tr th:only-of-type {\n",
       "        vertical-align: middle;\n",
       "    }\n",
       "\n",
       "    .dataframe tbody tr th {\n",
       "        vertical-align: top;\n",
       "    }\n",
       "\n",
       "    .dataframe thead th {\n",
       "        text-align: right;\n",
       "    }\n",
       "</style>\n",
       "<table border=\"1\" class=\"dataframe\">\n",
       "  <thead>\n",
       "    <tr style=\"text-align: right;\">\n",
       "      <th></th>\n",
       "      <th>name</th>\n",
       "      <th>tags</th>\n",
       "      <th>dtype</th>\n",
       "      <th>is_list</th>\n",
       "      <th>is_ragged</th>\n",
       "      <th>properties.num_buckets</th>\n",
       "      <th>properties.freq_threshold</th>\n",
       "      <th>properties.max_size</th>\n",
       "      <th>properties.start_index</th>\n",
       "      <th>properties.cat_path</th>\n",
       "      <th>properties.domain.min</th>\n",
       "      <th>properties.domain.max</th>\n",
       "      <th>properties.domain.name</th>\n",
       "      <th>properties.embedding_sizes.cardinality</th>\n",
       "      <th>properties.embedding_sizes.dimension</th>\n",
       "    </tr>\n",
       "  </thead>\n",
       "  <tbody>\n",
       "    <tr>\n",
       "      <th>0</th>\n",
       "      <td>session_id</td>\n",
       "      <td>(Tags.CATEGORICAL)</td>\n",
       "      <td>int64</td>\n",
       "      <td>False</td>\n",
       "      <td>False</td>\n",
       "      <td>NaN</td>\n",
       "      <td>0.0</td>\n",
       "      <td>0.0</td>\n",
       "      <td>1.0</td>\n",
       "      <td>.//categories/unique.session_id.parquet</td>\n",
       "      <td>0.0</td>\n",
       "      <td>9249730.0</td>\n",
       "      <td>session_id</td>\n",
       "      <td>9249731.0</td>\n",
       "      <td>512.0</td>\n",
       "    </tr>\n",
       "    <tr>\n",
       "      <th>1</th>\n",
       "      <td>item_id-count</td>\n",
       "      <td>(Tags.CATEGORICAL)</td>\n",
       "      <td>int32</td>\n",
       "      <td>False</td>\n",
       "      <td>False</td>\n",
       "      <td>NaN</td>\n",
       "      <td>0.0</td>\n",
       "      <td>0.0</td>\n",
       "      <td>1.0</td>\n",
       "      <td>.//categories/unique.item_id.parquet</td>\n",
       "      <td>0.0</td>\n",
       "      <td>52740.0</td>\n",
       "      <td>item_id</td>\n",
       "      <td>52741.0</td>\n",
       "      <td>512.0</td>\n",
       "    </tr>\n",
       "    <tr>\n",
       "      <th>2</th>\n",
       "      <td>item_id-list_seq</td>\n",
       "      <td>(Tags.CATEGORICAL, Tags.LIST)</td>\n",
       "      <td>int64</td>\n",
       "      <td>True</td>\n",
       "      <td>False</td>\n",
       "      <td>NaN</td>\n",
       "      <td>0.0</td>\n",
       "      <td>0.0</td>\n",
       "      <td>1.0</td>\n",
       "      <td>.//categories/unique.item_id.parquet</td>\n",
       "      <td>0.0</td>\n",
       "      <td>52740.0</td>\n",
       "      <td>item_id</td>\n",
       "      <td>52741.0</td>\n",
       "      <td>512.0</td>\n",
       "    </tr>\n",
       "    <tr>\n",
       "      <th>3</th>\n",
       "      <td>category-list_seq</td>\n",
       "      <td>(Tags.CATEGORICAL, Tags.LIST)</td>\n",
       "      <td>int64</td>\n",
       "      <td>True</td>\n",
       "      <td>False</td>\n",
       "      <td>NaN</td>\n",
       "      <td>0.0</td>\n",
       "      <td>0.0</td>\n",
       "      <td>1.0</td>\n",
       "      <td>.//categories/unique.category.parquet</td>\n",
       "      <td>0.0</td>\n",
       "      <td>335.0</td>\n",
       "      <td>category</td>\n",
       "      <td>336.0</td>\n",
       "      <td>42.0</td>\n",
       "    </tr>\n",
       "    <tr>\n",
       "      <th>4</th>\n",
       "      <td>et_dayofweek_sin-list_seq</td>\n",
       "      <td>(Tags.CATEGORICAL, Tags.LIST)</td>\n",
       "      <td>float32</td>\n",
       "      <td>True</td>\n",
       "      <td>False</td>\n",
       "      <td>NaN</td>\n",
       "      <td>NaN</td>\n",
       "      <td>NaN</td>\n",
       "      <td>NaN</td>\n",
       "      <td>NaN</td>\n",
       "      <td>NaN</td>\n",
       "      <td>NaN</td>\n",
       "      <td>NaN</td>\n",
       "      <td>NaN</td>\n",
       "      <td>NaN</td>\n",
       "    </tr>\n",
       "    <tr>\n",
       "      <th>5</th>\n",
       "      <td>product_recency_days_log_norm-list_seq</td>\n",
       "      <td>(Tags.CATEGORICAL, Tags.LIST)</td>\n",
       "      <td>float32</td>\n",
       "      <td>True</td>\n",
       "      <td>False</td>\n",
       "      <td>NaN</td>\n",
       "      <td>NaN</td>\n",
       "      <td>NaN</td>\n",
       "      <td>NaN</td>\n",
       "      <td>NaN</td>\n",
       "      <td>NaN</td>\n",
       "      <td>NaN</td>\n",
       "      <td>NaN</td>\n",
       "      <td>NaN</td>\n",
       "      <td>NaN</td>\n",
       "    </tr>\n",
       "    <tr>\n",
       "      <th>6</th>\n",
       "      <td>day_index</td>\n",
       "      <td>(Tags.CATEGORICAL)</td>\n",
       "      <td>int64</td>\n",
       "      <td>False</td>\n",
       "      <td>False</td>\n",
       "      <td>NaN</td>\n",
       "      <td>NaN</td>\n",
       "      <td>NaN</td>\n",
       "      <td>NaN</td>\n",
       "      <td>NaN</td>\n",
       "      <td>NaN</td>\n",
       "      <td>NaN</td>\n",
       "      <td>NaN</td>\n",
       "      <td>NaN</td>\n",
       "      <td>NaN</td>\n",
       "    </tr>\n",
       "  </tbody>\n",
       "</table>\n",
       "</div>"
      ],
      "text/plain": [
       "[{'name': 'session_id', 'tags': {<Tags.CATEGORICAL: 'categorical'>}, 'properties': {'num_buckets': None, 'freq_threshold': 0, 'max_size': 0, 'start_index': 1, 'cat_path': './/categories/unique.session_id.parquet', 'domain': {'min': 0, 'max': 9249730, 'name': 'session_id'}, 'embedding_sizes': {'cardinality': 9249731, 'dimension': 512}}, 'dtype': dtype('int64'), 'is_list': False, 'is_ragged': False}, {'name': 'item_id-count', 'tags': {<Tags.CATEGORICAL: 'categorical'>}, 'properties': {'num_buckets': None, 'freq_threshold': 0, 'max_size': 0, 'start_index': 1, 'cat_path': './/categories/unique.item_id.parquet', 'domain': {'min': 0, 'max': 52740, 'name': 'item_id'}, 'embedding_sizes': {'cardinality': 52741, 'dimension': 512}}, 'dtype': dtype('int32'), 'is_list': False, 'is_ragged': False}, {'name': 'item_id-list_seq', 'tags': {<Tags.CATEGORICAL: 'categorical'>, <Tags.LIST: 'list'>}, 'properties': {'num_buckets': None, 'freq_threshold': 0, 'max_size': 0, 'start_index': 1, 'cat_path': './/categories/unique.item_id.parquet', 'domain': {'min': 0, 'max': 52740, 'name': 'item_id'}, 'embedding_sizes': {'cardinality': 52741, 'dimension': 512}}, 'dtype': dtype('int64'), 'is_list': True, 'is_ragged': False}, {'name': 'category-list_seq', 'tags': {<Tags.CATEGORICAL: 'categorical'>, <Tags.LIST: 'list'>}, 'properties': {'num_buckets': None, 'freq_threshold': 0, 'max_size': 0, 'start_index': 1, 'cat_path': './/categories/unique.category.parquet', 'domain': {'min': 0, 'max': 335, 'name': 'category'}, 'embedding_sizes': {'cardinality': 336, 'dimension': 42}}, 'dtype': dtype('int64'), 'is_list': True, 'is_ragged': False}, {'name': 'et_dayofweek_sin-list_seq', 'tags': {<Tags.CATEGORICAL: 'categorical'>, <Tags.LIST: 'list'>}, 'properties': {}, 'dtype': dtype('float32'), 'is_list': True, 'is_ragged': False}, {'name': 'product_recency_days_log_norm-list_seq', 'tags': {<Tags.CATEGORICAL: 'categorical'>, <Tags.LIST: 'list'>}, 'properties': {}, 'dtype': dtype('float32'), 'is_list': True, 'is_ragged': False}, {'name': 'day_index', 'tags': {<Tags.CATEGORICAL: 'categorical'>}, 'properties': {}, 'dtype': dtype('int64'), 'is_list': False, 'is_ragged': False}]"
      ]
     },
     "execution_count": 50,
     "metadata": {},
     "output_type": "execute_result"
    }
   ],
   "source": [
    "workflow.output_schema"
   ]
  },
  {
   "cell_type": "markdown",
   "id": "ed7410d3-4e56-4fa3-839a-64010a65bfaf",
   "metadata": {},
   "source": [
    "## Export pre-processed data by day"
   ]
  },
  {
   "cell_type": "code",
   "execution_count": 59,
   "id": "2e6bd2a9-e5f5-40a2-bcae-f0ba3b410660",
   "metadata": {},
   "outputs": [
    {
     "data": {
      "text/plain": [
       "(106246, 7)"
      ]
     },
     "execution_count": 59,
     "metadata": {},
     "output_type": "execute_result"
    }
   ],
   "source": [
    "sessions_gdf = sessions_gdf[sessions_gdf.day_index>=178]\n",
    "sessions_gdf.shape"
   ]
  },
  {
   "cell_type": "code",
   "execution_count": 60,
   "id": "03aaef13-bb1e-4244-8158-2629fb5aeca3",
   "metadata": {},
   "outputs": [
    {
     "name": "stderr",
     "output_type": "stream",
     "text": [
      "Creating time-based splits: 100% 5/5 [00:00<00:00,  8.47it/s]\n"
     ]
    }
   ],
   "source": [
    "from transformers4rec.data.preprocessing import save_time_based_splits\n",
    "\n",
    "save_time_based_splits(\n",
    "    data=nvt.Dataset(sessions_gdf),\n",
    "    output_dir=OUTPUT_DIR, # TODO: parameterize\n",
    "    partition_col='day_index',\n",
    "    timestamp_col='session_id', \n",
    ")"
   ]
  },
  {
   "cell_type": "code",
   "execution_count": 61,
   "id": "0fe9b68f-2890-4561-beb5-bad96ae5b9c5",
   "metadata": {},
   "outputs": [],
   "source": [
    "def list_files(startpath):\n",
    "    \"\"\"\n",
    "    Util function to print the nested structure of a directory\n",
    "    \"\"\"\n",
    "    for root, dirs, files in os.walk(startpath):\n",
    "        level = root.replace(startpath, \"\").count(os.sep)\n",
    "        indent = \" \" * 4 * (level)\n",
    "        print(\"{}{}/\".format(indent, os.path.basename(root)))\n",
    "        subindent = \" \" * 4 * (level + 1)\n",
    "        for f in files:\n",
    "            print(\"{}{}\".format(subindent, f))"
   ]
  },
  {
   "cell_type": "code",
   "execution_count": 62,
   "id": "8a1f1bd6-897e-4a41-a64f-d8788c6f0ce5",
   "metadata": {},
   "outputs": [
    {
     "name": "stdout",
     "output_type": "stream",
     "text": [
      "sessions_by_day/\n",
      "    179/\n",
      "        valid.parquet\n",
      "        train.parquet\n",
      "        test.parquet\n",
      "    182/\n",
      "        valid.parquet\n",
      "        train.parquet\n",
      "        test.parquet\n",
      "    180/\n",
      "        valid.parquet\n",
      "        train.parquet\n",
      "        test.parquet\n",
      "    181/\n",
      "        valid.parquet\n",
      "        train.parquet\n",
      "        test.parquet\n",
      "    178/\n",
      "        valid.parquet\n",
      "        train.parquet\n",
      "        test.parquet\n"
     ]
    }
   ],
   "source": [
    "list_files(OUTPUT_DIR)"
   ]
  },
  {
   "cell_type": "code",
   "execution_count": 30,
   "id": "9a561a2e-222b-4059-aecd-e9aac4ec4811",
   "metadata": {},
   "outputs": [
    {
     "data": {
      "text/plain": [
       "579"
      ]
     },
     "execution_count": 30,
     "metadata": {},
     "output_type": "execute_result"
    }
   ],
   "source": [
    "# free gpu memory\n",
    "del  sessions_gdf\n",
    "gc.collect()"
   ]
  },
  {
   "cell_type": "markdown",
   "id": "1d19e4e5-232d-4ed2-9d0f-38d5ac5a62d8",
   "metadata": {},
   "source": [
    "## Checking the preprocessed outputs"
   ]
  },
  {
   "cell_type": "code",
   "execution_count": 63,
   "id": "8b0016a1-0f70-45b8-934a-b3e9cc0e1928",
   "metadata": {},
   "outputs": [
    {
     "name": "stdout",
     "output_type": "stream",
     "text": [
      "TEST_DATA: data/sessions_by_day/178/test.parquet\n"
     ]
    }
   ],
   "source": [
    "TEST_DATA = f'{OUTPUT_DIR}/178/test.parquet'\n",
    "print(f\"TEST_DATA: {TEST_DATA}\")"
   ]
  },
  {
   "cell_type": "code",
   "execution_count": 64,
   "id": "1a1a9b47-cf70-4735-9fb9-30219b7e9519",
   "metadata": {},
   "outputs": [
    {
     "data": {
      "text/html": [
       "<div>\n",
       "<style scoped>\n",
       "    .dataframe tbody tr th:only-of-type {\n",
       "        vertical-align: middle;\n",
       "    }\n",
       "\n",
       "    .dataframe tbody tr th {\n",
       "        vertical-align: top;\n",
       "    }\n",
       "\n",
       "    .dataframe thead th {\n",
       "        text-align: right;\n",
       "    }\n",
       "</style>\n",
       "<table border=\"1\" class=\"dataframe\">\n",
       "  <thead>\n",
       "    <tr style=\"text-align: right;\">\n",
       "      <th></th>\n",
       "      <th>session_id</th>\n",
       "      <th>item_id-count</th>\n",
       "      <th>item_id-list_seq</th>\n",
       "      <th>category-list_seq</th>\n",
       "      <th>et_dayofweek_sin-list_seq</th>\n",
       "      <th>product_recency_days_log_norm-list_seq</th>\n",
       "    </tr>\n",
       "  </thead>\n",
       "  <tbody>\n",
       "    <tr>\n",
       "      <th>3</th>\n",
       "      <td>1281</td>\n",
       "      <td>71</td>\n",
       "      <td>[3052, 2705, 1216, 1467, 4913, 4705, 8798, 132...</td>\n",
       "      <td>[2, 5, 2, 2, 5, 5, 5, 5, 5, 5, 5, 5, 5, 5, 2, ...</td>\n",
       "      <td>[-0.43388462, -0.43388462, -0.43388462, -0.433...</td>\n",
       "      <td>[-0.6125705, 1.5240668, -0.5935936, 1.5236577,...</td>\n",
       "    </tr>\n",
       "    <tr>\n",
       "      <th>14</th>\n",
       "      <td>1959</td>\n",
       "      <td>63</td>\n",
       "      <td>[804, 1342, 836, 202, 2848, 10318, 9488, 10318...</td>\n",
       "      <td>[2, 2, 2, 2, 2, 2, 2, 2, 2, 2, 2, 2, 2, 2, 2, ...</td>\n",
       "      <td>[-0.43388462, -0.43388462, -0.43388462, -0.433...</td>\n",
       "      <td>[-0.7107696, -0.55946445, 1.5232942, 1.5224572...</td>\n",
       "    </tr>\n",
       "    <tr>\n",
       "      <th>21</th>\n",
       "      <td>2845</td>\n",
       "      <td>56</td>\n",
       "      <td>[2586, 429, 1945, 2365, 51, 423, 650, 11850, 1...</td>\n",
       "      <td>[5, 2, 2, 2, 2, 2, 2, 3, 3, 14, 2, 2, 2, 2, 13...</td>\n",
       "      <td>[-0.43388462, -0.43388462, -0.43388462, -0.433...</td>\n",
       "      <td>[1.5229999, -0.5597885, 1.5228726, 1.5231084, ...</td>\n",
       "    </tr>\n",
       "    <tr>\n",
       "      <th>30</th>\n",
       "      <td>4621</td>\n",
       "      <td>48</td>\n",
       "      <td>[425, 293, 2816, 736, 1889, 293, 1889, 1625, 2...</td>\n",
       "      <td>[2, 2, 2, 2, 2, 2, 2, 2, 2, 2, 2, 2, 2, 2, 2, ...</td>\n",
       "      <td>[-0.43388462, -0.43388462, -0.43388462, -0.433...</td>\n",
       "      <td>[1.5255986, 1.4784576, 1.5253938, 1.525775, -1...</td>\n",
       "    </tr>\n",
       "    <tr>\n",
       "      <th>39</th>\n",
       "      <td>5990</td>\n",
       "      <td>44</td>\n",
       "      <td>[597, 713, 338, 620, 1219, 4284, 12239, 14743,...</td>\n",
       "      <td>[2, 2, 2, 2, 2, 2, 4, 4, 4, 4, 4, 4, 4, 4, 4, ...</td>\n",
       "      <td>[-0.43388462, -0.43388462, -0.43388462, -0.433...</td>\n",
       "      <td>[-0.5477065, -0.2365508, 0.42582276, -0.943305...</td>\n",
       "    </tr>\n",
       "    <tr>\n",
       "      <th>...</th>\n",
       "      <td>...</td>\n",
       "      <td>...</td>\n",
       "      <td>...</td>\n",
       "      <td>...</td>\n",
       "      <td>...</td>\n",
       "      <td>...</td>\n",
       "    </tr>\n",
       "    <tr>\n",
       "      <th>35550</th>\n",
       "      <td>6756357</td>\n",
       "      <td>2</td>\n",
       "      <td>[855, 33, 0, 0, 0, 0, 0, 0, 0, 0, 0, 0, 0, 0, ...</td>\n",
       "      <td>[2, 2, 0, 0, 0, 0, 0, 0, 0, 0, 0, 0, 0, 0, 0, ...</td>\n",
       "      <td>[-0.43388462, -0.43388462, 0.0, 0.0, 0.0, 0.0,...</td>\n",
       "      <td>[-0.63608223, -0.53757286, 0.0, 0.0, 0.0, 0.0,...</td>\n",
       "    </tr>\n",
       "    <tr>\n",
       "      <th>35553</th>\n",
       "      <td>6756365</td>\n",
       "      <td>2</td>\n",
       "      <td>[814, 1806, 0, 0, 0, 0, 0, 0, 0, 0, 0, 0, 0, 0...</td>\n",
       "      <td>[2, 2, 0, 0, 0, 0, 0, 0, 0, 0, 0, 0, 0, 0, 0, ...</td>\n",
       "      <td>[-0.43388462, -0.43388462, 0.0, 0.0, 0.0, 0.0,...</td>\n",
       "      <td>[1.5238583, 1.5231452, 0.0, 0.0, 0.0, 0.0, 0.0...</td>\n",
       "    </tr>\n",
       "    <tr>\n",
       "      <th>35572</th>\n",
       "      <td>6756450</td>\n",
       "      <td>2</td>\n",
       "      <td>[166, 1540, 0, 0, 0, 0, 0, 0, 0, 0, 0, 0, 0, 0...</td>\n",
       "      <td>[2, 2, 0, 0, 0, 0, 0, 0, 0, 0, 0, 0, 0, 0, 0, ...</td>\n",
       "      <td>[-0.43388462, -0.43388462, 0.0, 0.0, 0.0, 0.0,...</td>\n",
       "      <td>[-0.18613431, 1.5255576, 0.0, 0.0, 0.0, 0.0, 0...</td>\n",
       "    </tr>\n",
       "    <tr>\n",
       "      <th>35575</th>\n",
       "      <td>6756457</td>\n",
       "      <td>2</td>\n",
       "      <td>[1950, 2098, 0, 0, 0, 0, 0, 0, 0, 0, 0, 0, 0, ...</td>\n",
       "      <td>[2, 2, 0, 0, 0, 0, 0, 0, 0, 0, 0, 0, 0, 0, 0, ...</td>\n",
       "      <td>[-0.43388462, -0.43388462, 0.0, 0.0, 0.0, 0.0,...</td>\n",
       "      <td>[-0.4119286, -0.2083148, 0.0, 0.0, 0.0, 0.0, 0...</td>\n",
       "    </tr>\n",
       "    <tr>\n",
       "      <th>35583</th>\n",
       "      <td>6756498</td>\n",
       "      <td>2</td>\n",
       "      <td>[2270, 4602, 0, 0, 0, 0, 0, 0, 0, 0, 0, 0, 0, ...</td>\n",
       "      <td>[2, 2, 0, 0, 0, 0, 0, 0, 0, 0, 0, 0, 0, 0, 0, ...</td>\n",
       "      <td>[-0.43388462, -0.43388462, 0.0, 0.0, 0.0, 0.0,...</td>\n",
       "      <td>[-0.2924133, -0.43704242, 0.0, 0.0, 0.0, 0.0, ...</td>\n",
       "    </tr>\n",
       "  </tbody>\n",
       "</table>\n",
       "<p>3502 rows × 6 columns</p>\n",
       "</div>"
      ],
      "text/plain": [
       "       session_id  item_id-count  \\\n",
       "3            1281             71   \n",
       "14           1959             63   \n",
       "21           2845             56   \n",
       "30           4621             48   \n",
       "39           5990             44   \n",
       "...           ...            ...   \n",
       "35550     6756357              2   \n",
       "35553     6756365              2   \n",
       "35572     6756450              2   \n",
       "35575     6756457              2   \n",
       "35583     6756498              2   \n",
       "\n",
       "                                        item_id-list_seq  \\\n",
       "3      [3052, 2705, 1216, 1467, 4913, 4705, 8798, 132...   \n",
       "14     [804, 1342, 836, 202, 2848, 10318, 9488, 10318...   \n",
       "21     [2586, 429, 1945, 2365, 51, 423, 650, 11850, 1...   \n",
       "30     [425, 293, 2816, 736, 1889, 293, 1889, 1625, 2...   \n",
       "39     [597, 713, 338, 620, 1219, 4284, 12239, 14743,...   \n",
       "...                                                  ...   \n",
       "35550  [855, 33, 0, 0, 0, 0, 0, 0, 0, 0, 0, 0, 0, 0, ...   \n",
       "35553  [814, 1806, 0, 0, 0, 0, 0, 0, 0, 0, 0, 0, 0, 0...   \n",
       "35572  [166, 1540, 0, 0, 0, 0, 0, 0, 0, 0, 0, 0, 0, 0...   \n",
       "35575  [1950, 2098, 0, 0, 0, 0, 0, 0, 0, 0, 0, 0, 0, ...   \n",
       "35583  [2270, 4602, 0, 0, 0, 0, 0, 0, 0, 0, 0, 0, 0, ...   \n",
       "\n",
       "                                       category-list_seq  \\\n",
       "3      [2, 5, 2, 2, 5, 5, 5, 5, 5, 5, 5, 5, 5, 5, 2, ...   \n",
       "14     [2, 2, 2, 2, 2, 2, 2, 2, 2, 2, 2, 2, 2, 2, 2, ...   \n",
       "21     [5, 2, 2, 2, 2, 2, 2, 3, 3, 14, 2, 2, 2, 2, 13...   \n",
       "30     [2, 2, 2, 2, 2, 2, 2, 2, 2, 2, 2, 2, 2, 2, 2, ...   \n",
       "39     [2, 2, 2, 2, 2, 2, 4, 4, 4, 4, 4, 4, 4, 4, 4, ...   \n",
       "...                                                  ...   \n",
       "35550  [2, 2, 0, 0, 0, 0, 0, 0, 0, 0, 0, 0, 0, 0, 0, ...   \n",
       "35553  [2, 2, 0, 0, 0, 0, 0, 0, 0, 0, 0, 0, 0, 0, 0, ...   \n",
       "35572  [2, 2, 0, 0, 0, 0, 0, 0, 0, 0, 0, 0, 0, 0, 0, ...   \n",
       "35575  [2, 2, 0, 0, 0, 0, 0, 0, 0, 0, 0, 0, 0, 0, 0, ...   \n",
       "35583  [2, 2, 0, 0, 0, 0, 0, 0, 0, 0, 0, 0, 0, 0, 0, ...   \n",
       "\n",
       "                               et_dayofweek_sin-list_seq  \\\n",
       "3      [-0.43388462, -0.43388462, -0.43388462, -0.433...   \n",
       "14     [-0.43388462, -0.43388462, -0.43388462, -0.433...   \n",
       "21     [-0.43388462, -0.43388462, -0.43388462, -0.433...   \n",
       "30     [-0.43388462, -0.43388462, -0.43388462, -0.433...   \n",
       "39     [-0.43388462, -0.43388462, -0.43388462, -0.433...   \n",
       "...                                                  ...   \n",
       "35550  [-0.43388462, -0.43388462, 0.0, 0.0, 0.0, 0.0,...   \n",
       "35553  [-0.43388462, -0.43388462, 0.0, 0.0, 0.0, 0.0,...   \n",
       "35572  [-0.43388462, -0.43388462, 0.0, 0.0, 0.0, 0.0,...   \n",
       "35575  [-0.43388462, -0.43388462, 0.0, 0.0, 0.0, 0.0,...   \n",
       "35583  [-0.43388462, -0.43388462, 0.0, 0.0, 0.0, 0.0,...   \n",
       "\n",
       "                  product_recency_days_log_norm-list_seq  \n",
       "3      [-0.6125705, 1.5240668, -0.5935936, 1.5236577,...  \n",
       "14     [-0.7107696, -0.55946445, 1.5232942, 1.5224572...  \n",
       "21     [1.5229999, -0.5597885, 1.5228726, 1.5231084, ...  \n",
       "30     [1.5255986, 1.4784576, 1.5253938, 1.525775, -1...  \n",
       "39     [-0.5477065, -0.2365508, 0.42582276, -0.943305...  \n",
       "...                                                  ...  \n",
       "35550  [-0.63608223, -0.53757286, 0.0, 0.0, 0.0, 0.0,...  \n",
       "35553  [1.5238583, 1.5231452, 0.0, 0.0, 0.0, 0.0, 0.0...  \n",
       "35572  [-0.18613431, 1.5255576, 0.0, 0.0, 0.0, 0.0, 0...  \n",
       "35575  [-0.4119286, -0.2083148, 0.0, 0.0, 0.0, 0.0, 0...  \n",
       "35583  [-0.2924133, -0.43704242, 0.0, 0.0, 0.0, 0.0, ...  \n",
       "\n",
       "[3502 rows x 6 columns]"
      ]
     },
     "execution_count": 64,
     "metadata": {},
     "output_type": "execute_result"
    }
   ],
   "source": [
    "df = pd.read_parquet(TEST_DATA)\n",
    "df"
   ]
  },
  {
   "cell_type": "code",
   "execution_count": 65,
   "id": "6c0fb78d-2ebc-40c7-b09b-0e8352862ec3",
   "metadata": {},
   "outputs": [
    {
     "data": {
      "text/plain": [
       "2541"
      ]
     },
     "execution_count": 65,
     "metadata": {},
     "output_type": "execute_result"
    }
   ],
   "source": [
    "import gc\n",
    "del df\n",
    "gc.collect()"
   ]
  },
  {
   "cell_type": "code",
   "execution_count": null,
   "id": "1cffc5cf-ef8f-4006-b5df-3651afd17527",
   "metadata": {},
   "outputs": [],
   "source": []
  }
 ],
 "metadata": {
  "kernelspec": {
   "display_name": "Python 3 (ipykernel)",
   "language": "python",
   "name": "python3"
  },
  "language_info": {
   "codemirror_mode": {
    "name": "ipython",
    "version": 3
   },
   "file_extension": ".py",
   "mimetype": "text/x-python",
   "name": "python",
   "nbconvert_exporter": "python",
   "pygments_lexer": "ipython3",
   "version": "3.8.10"
  }
 },
 "nbformat": 4,
 "nbformat_minor": 5
}
