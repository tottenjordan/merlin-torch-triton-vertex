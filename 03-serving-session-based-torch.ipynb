{
 "cells": [
  {
   "cell_type": "markdown",
   "id": "91999ede-83da-421e-9292-0d8fd6f16417",
   "metadata": {},
   "source": [
    "# Serving a Session-based Recommendation model with Torch Backend\n",
    "\n",
    "* following [this tutrial](https://github.com/NVIDIA-Merlin/Transformers4Rec/blob/main/examples/getting-started-session-based/03-serving-session-based-model-torch-backend.ipynb)"
   ]
  },
  {
   "cell_type": "code",
   "execution_count": 6,
   "id": "e4e915e2-a370-4a4a-9ac6-b3dcde0438d7",
   "metadata": {},
   "outputs": [],
   "source": [
    "import os\n",
    "os.environ[\"CUDA_VISIBLE_DEVICES\"]=\"0\"\n",
    "\n",
    "import cudf\n",
    "import glob\n",
    "import torch \n",
    "\n",
    "from transformers4rec import torch as tr\n",
    "from merlin.io import Dataset\n",
    "\n",
    "from merlin.core.dispatch import make_df  # noqa\n",
    "from merlin.systems.dag import Ensemble  # noqa\n",
    "from merlin.systems.dag.ops.pytorch import PredictPyTorch  # noqa"
   ]
  },
  {
   "cell_type": "code",
   "execution_count": 7,
   "id": "bcacda55-d9a2-41b9-a0dc-d958ca4cbf3e",
   "metadata": {},
   "outputs": [
    {
     "name": "stdout",
     "output_type": "stream",
     "text": [
      "PROJECT_ID: hybrid-vertex\n",
      "PROJECT_NUM: 934903580331\n",
      "LOCATION: us-central1\n",
      "REGION: us-central1\n",
      "VERTEX_SA: jt-vertex-sa@hybrid-vertex.iam.gserviceaccount.com\n"
     ]
    }
   ],
   "source": [
    "GCP_PROJECTS = !gcloud config get-value project\n",
    "PROJECT_ID = GCP_PROJECTS[0]\n",
    "PROJECT_NUM = !gcloud projects list --filter=\"$PROJECT_ID\" --format=\"value(PROJECT_NUMBER)\"\n",
    "PROJECT_NUM = PROJECT_NUM[0]\n",
    "LOCATION = 'us-central1'\n",
    "REGION = \"us-central1\"\n",
    "\n",
    "# VERTEX_SA = '934903580331-compute@developer.gserviceaccount.com'\n",
    "VERTEX_SA = 'jt-vertex-sa@hybrid-vertex.iam.gserviceaccount.com'\n",
    "\n",
    "print(f\"PROJECT_ID: {PROJECT_ID}\")\n",
    "print(f\"PROJECT_NUM: {PROJECT_NUM}\")\n",
    "print(f\"LOCATION: {LOCATION}\")\n",
    "print(f\"REGION: {REGION}\")\n",
    "print(f\"VERTEX_SA: {VERTEX_SA}\")"
   ]
  },
  {
   "cell_type": "code",
   "execution_count": 8,
   "id": "5e0b5628-8bcf-4b66-bbd9-90c14e463f65",
   "metadata": {},
   "outputs": [
    {
     "name": "stdout",
     "output_type": "stream",
     "text": [
      "INPUT_DATA_DIR: workspace/data\n",
      "OUTPUT_DIR: workspace/data/sessions_by_day\n",
      "MODEL_PATH: workspace/data/saved_model\n"
     ]
    }
   ],
   "source": [
    "# INPUT_DATA_DIR = os.environ.get(\"INPUT_DATA_DIR\", \"/workspace/data\")\n",
    "# OUTPUT_DIR = os.environ.get(\"OUTPUT_DIR\", f\"{INPUT_DATA_DIR}/sessions_by_day\")\n",
    "# model_path= os.environ.get(\"model_path\", f\"{INPUT_DATA_DIR}/saved_model\")\n",
    "\n",
    "REPO_WORKSPACE = 'workspace'\n",
    "DATA_DIR = 'data'\n",
    "INPUT_DATA_DIR=f'{REPO_WORKSPACE}/{DATA_DIR}'\n",
    "TRANSFORMED_WORKFLOW=f'{INPUT_DATA_DIR}/processed_nvt'\n",
    "OUTPUT_DIR=f'{INPUT_DATA_DIR}/sessions_by_day'\n",
    "MODEL_PATH = f'{INPUT_DATA_DIR}/saved_model'\n",
    "# MODEL_PATH = './torch_ensemble/models'\n",
    "\n",
    "print(f\"INPUT_DATA_DIR: {INPUT_DATA_DIR}\")\n",
    "# print(f\"TRANSFORMED_WORKFLOW: {TRANSFORMED_WORKFLOW}\")\n",
    "print(f\"OUTPUT_DIR: {OUTPUT_DIR}\")\n",
    "print(f\"MODEL_PATH: {MODEL_PATH}\")"
   ]
  },
  {
   "cell_type": "markdown",
   "id": "2e14ec5a-1ddd-489f-9175-a9c5e7c61856",
   "metadata": {},
   "source": [
    "## Set the schema object"
   ]
  },
  {
   "cell_type": "code",
   "execution_count": 9,
   "id": "ca3ee041-7066-4f2e-ab7d-7151b52b984f",
   "metadata": {},
   "outputs": [],
   "source": [
    "from merlin_standard_lib import Schema\n",
    "# SCHEMA_PATH = os.environ.get(\"INPUT_SCHEMA_PATH\", \"/workspace/data/processed_nvt/schema.pbtxt\")\n",
    "\n",
    "SCHEMA_PATH = f'{TRANSFORMED_WORKFLOW}/schema.pbtxt'\n",
    "schema = Schema().from_proto_text(SCHEMA_PATH)"
   ]
  },
  {
   "cell_type": "code",
   "execution_count": 10,
   "id": "c27a86f1-5ea7-4c36-972a-1f6924c151a2",
   "metadata": {},
   "outputs": [],
   "source": [
    "import cloudpickle\n",
    "loaded_model = cloudpickle.load(\n",
    "                open(os.path.join(MODEL_PATH, \"t4rec_model_class.pkl\"), \"rb\")\n",
    "            )"
   ]
  },
  {
   "cell_type": "code",
   "execution_count": 11,
   "id": "8fab6c2c-c9b7-4c80-95dd-8506c55aa305",
   "metadata": {},
   "outputs": [
    {
     "data": {
      "text/plain": [
       "Model(\n",
       "  (heads): ModuleList(\n",
       "    (0): Head(\n",
       "      (body): SequentialBlock(\n",
       "        (0): TabularSequenceFeatures(\n",
       "          (to_merge): ModuleDict(\n",
       "            (continuous_module): SequentialBlock(\n",
       "              (0): ContinuousFeatures(\n",
       "                (filter_features): FilterFeatures()\n",
       "                (_aggregation): ConcatFeatures()\n",
       "              )\n",
       "              (1): SequentialBlock(\n",
       "                (0): DenseBlock(\n",
       "                  (0): Linear(in_features=2, out_features=64, bias=True)\n",
       "                  (1): ReLU(inplace=True)\n",
       "                )\n",
       "              )\n",
       "              (2): AsTabular()\n",
       "            )\n",
       "            (categorical_module): SequenceEmbeddingFeatures(\n",
       "              (filter_features): FilterFeatures()\n",
       "              (embedding_tables): ModuleDict(\n",
       "                (item_id-list): Embedding(491, 64, padding_idx=0)\n",
       "                (category-list): Embedding(147, 64, padding_idx=0)\n",
       "              )\n",
       "            )\n",
       "          )\n",
       "          (_aggregation): ConcatFeatures()\n",
       "          (projection_module): SequentialBlock(\n",
       "            (0): DenseBlock(\n",
       "              (0): Linear(in_features=192, out_features=100, bias=True)\n",
       "              (1): ReLU(inplace=True)\n",
       "            )\n",
       "          )\n",
       "          (_masking): MaskedLanguageModeling()\n",
       "        )\n",
       "        (1): SequentialBlock(\n",
       "          (0): DenseBlock(\n",
       "            (0): Linear(in_features=100, out_features=64, bias=True)\n",
       "            (1): ReLU(inplace=True)\n",
       "          )\n",
       "        )\n",
       "        (2): TansformerBlock(\n",
       "          (transformer): XLNetModel(\n",
       "            (word_embedding): Embedding(1, 64)\n",
       "            (layer): ModuleList(\n",
       "              (0): XLNetLayer(\n",
       "                (rel_attn): XLNetRelativeAttention(\n",
       "                  (layer_norm): LayerNorm((64,), eps=0.03, elementwise_affine=True)\n",
       "                  (dropout): Dropout(p=0.3, inplace=False)\n",
       "                )\n",
       "                (ff): XLNetFeedForward(\n",
       "                  (layer_norm): LayerNorm((64,), eps=0.03, elementwise_affine=True)\n",
       "                  (layer_1): Linear(in_features=64, out_features=256, bias=True)\n",
       "                  (layer_2): Linear(in_features=256, out_features=64, bias=True)\n",
       "                  (dropout): Dropout(p=0.3, inplace=False)\n",
       "                )\n",
       "                (dropout): Dropout(p=0.3, inplace=False)\n",
       "              )\n",
       "              (1): XLNetLayer(\n",
       "                (rel_attn): XLNetRelativeAttention(\n",
       "                  (layer_norm): LayerNorm((64,), eps=0.03, elementwise_affine=True)\n",
       "                  (dropout): Dropout(p=0.3, inplace=False)\n",
       "                )\n",
       "                (ff): XLNetFeedForward(\n",
       "                  (layer_norm): LayerNorm((64,), eps=0.03, elementwise_affine=True)\n",
       "                  (layer_1): Linear(in_features=64, out_features=256, bias=True)\n",
       "                  (layer_2): Linear(in_features=256, out_features=64, bias=True)\n",
       "                  (dropout): Dropout(p=0.3, inplace=False)\n",
       "                )\n",
       "                (dropout): Dropout(p=0.3, inplace=False)\n",
       "              )\n",
       "            )\n",
       "            (dropout): Dropout(p=0.3, inplace=False)\n",
       "          )\n",
       "          (masking): MaskedLanguageModeling()\n",
       "        )\n",
       "      )\n",
       "      (prediction_task_dict): ModuleDict(\n",
       "        (next-item): NextItemPredictionTask(\n",
       "          (sequence_summary): SequenceSummary(\n",
       "            (summary): Identity()\n",
       "            (activation): Identity()\n",
       "            (first_dropout): Identity()\n",
       "            (last_dropout): Identity()\n",
       "          )\n",
       "          (metrics): ModuleList(\n",
       "            (0): NDCGAt()\n",
       "            (1): RecallAt()\n",
       "          )\n",
       "          (loss): NLLLoss()\n",
       "          (embeddings): SequenceEmbeddingFeatures(\n",
       "            (filter_features): FilterFeatures()\n",
       "            (embedding_tables): ModuleDict(\n",
       "              (item_id-list): Embedding(491, 64, padding_idx=0)\n",
       "              (category-list): Embedding(147, 64, padding_idx=0)\n",
       "            )\n",
       "          )\n",
       "          (item_embedding_table): Embedding(491, 64, padding_idx=0)\n",
       "          (masking): MaskedLanguageModeling()\n",
       "          (pre): Block(\n",
       "            (module): NextItemPredictionTask(\n",
       "              (item_embedding_table): Embedding(491, 64, padding_idx=0)\n",
       "              (log_softmax): LogSoftmax(dim=-1)\n",
       "            )\n",
       "          )\n",
       "        )\n",
       "      )\n",
       "    )\n",
       "  )\n",
       ")"
      ]
     },
     "execution_count": 11,
     "metadata": {},
     "output_type": "execute_result"
    }
   ],
   "source": [
    "model = loaded_model.cuda()\n",
    "model.eval()"
   ]
  },
  {
   "cell_type": "markdown",
   "id": "c9dbc36f-9930-4c8a-8678-8f4d9ebe403c",
   "metadata": {},
   "source": [
    "## Trace the model\n"
   ]
  },
  {
   "cell_type": "code",
   "execution_count": 12,
   "id": "b16741a4-c1de-4878-a6c9-6e72cee2b7d7",
   "metadata": {},
   "outputs": [],
   "source": [
    "# train_paths = os.path.join(OUTPUT_DIR, f\"{1}/train.parquet\")\n",
    "TRAIN_PATHS=f'{OUTPUT_DIR}/1/train.parquet'\n",
    "dataset = Dataset(TRAIN_PATHS)"
   ]
  },
  {
   "cell_type": "code",
   "execution_count": 13,
   "id": "69bd57cc-3551-4772-b21e-445e46282a8a",
   "metadata": {},
   "outputs": [
    {
     "data": {
      "text/plain": [
       "'workspace/data/sessions_by_day/1/train.parquet'"
      ]
     },
     "execution_count": 13,
     "metadata": {},
     "output_type": "execute_result"
    }
   ],
   "source": [
    "TRAIN_PATHS"
   ]
  },
  {
   "cell_type": "code",
   "execution_count": 14,
   "id": "bf2d622b-74ec-429a-9d9c-7edeb63a40cf",
   "metadata": {},
   "outputs": [],
   "source": [
    "sparse_max = {'age_days-list': 20,\n",
    " 'weekday_sin-list': 20,\n",
    " 'item_id-list': 20,\n",
    " 'category-list': 20}\n",
    "\n",
    "from transformers4rec.torch.utils.data_utils import MerlinDataLoader\n",
    "\n",
    "def generate_dataloader(schema, dataset, batch_size=128, seq_length=20):\n",
    "    loader = MerlinDataLoader.from_schema(\n",
    "            schema,\n",
    "            dataset,\n",
    "            batch_size=batch_size,\n",
    "            max_sequence_length=seq_length,\n",
    "            shuffle=False,\n",
    "            sparse_as_dense=True,\n",
    "            sparse_max=sparse_max\n",
    "        )\n",
    "    return loader"
   ]
  },
  {
   "cell_type": "code",
   "execution_count": 15,
   "id": "1157a00e-d4ad-4c2c-85c3-8146c0a7f35c",
   "metadata": {},
   "outputs": [],
   "source": [
    "loader = generate_dataloader(schema, dataset)\n",
    "train_dict = next(iter(loader))"
   ]
  },
  {
   "cell_type": "code",
   "execution_count": 16,
   "id": "f79e94bf-8a72-4be3-bf3d-2108dac0cf89",
   "metadata": {},
   "outputs": [
    {
     "data": {
      "text/plain": [
       "tensor([[ 49,  36, 130,  ...,   0,   0,   0],\n",
       "        [ 34,  16,  34,  ...,   0,   0,   0],\n",
       "        [  3,   8,  14,  ...,   0,   0,   0],\n",
       "        ...,\n",
       "        [  4,  17,  95,  ...,   0,   0,   0],\n",
       "        [ 23,   2,  23,  ...,   0,   0,   0],\n",
       "        [174, 103,  25,  ...,   0,   0,   0]], device='cuda:0')"
      ]
     },
     "execution_count": 16,
     "metadata": {},
     "output_type": "execute_result"
    }
   ],
   "source": [
    "train_dict[0]['item_id-list']"
   ]
  },
  {
   "cell_type": "code",
   "execution_count": 17,
   "id": "3152ae94-cd56-4136-9152-435675acb49f",
   "metadata": {},
   "outputs": [
    {
     "data": {
      "text/plain": [
       "{'age_days-list': tensor([[0.4849, 0.8648, 0.1370,  ..., 0.0000, 0.0000, 0.0000],\n",
       "         [0.9514, 0.9971, 0.5264,  ..., 0.0000, 0.0000, 0.0000],\n",
       "         [0.5986, 0.7829, 0.8959,  ..., 0.0000, 0.0000, 0.0000],\n",
       "         ...,\n",
       "         [0.8389, 0.7179, 0.2957,  ..., 0.0000, 0.0000, 0.0000],\n",
       "         [0.7645, 0.2106, 0.6182,  ..., 0.0000, 0.0000, 0.0000],\n",
       "         [0.5982, 0.4947, 0.6335,  ..., 0.0000, 0.0000, 0.0000]],\n",
       "        device='cuda:0'),\n",
       " 'weekday_sin-list': tensor([[0.0140, 0.3720, 0.5400,  ..., 0.0000, 0.0000, 0.0000],\n",
       "         [0.5489, 0.3369, 0.8028,  ..., 0.0000, 0.0000, 0.0000],\n",
       "         [0.2827, 0.8099, 0.8618,  ..., 0.0000, 0.0000, 0.0000],\n",
       "         ...,\n",
       "         [0.0313, 0.6036, 0.2137,  ..., 0.0000, 0.0000, 0.0000],\n",
       "         [0.3610, 0.7434, 0.2133,  ..., 0.0000, 0.0000, 0.0000],\n",
       "         [0.8821, 0.7026, 0.4364,  ..., 0.0000, 0.0000, 0.0000]],\n",
       "        device='cuda:0'),\n",
       " 'item_id-list': tensor([[ 49,  36, 130,  ...,   0,   0,   0],\n",
       "         [ 34,  16,  34,  ...,   0,   0,   0],\n",
       "         [  3,   8,  14,  ...,   0,   0,   0],\n",
       "         ...,\n",
       "         [  4,  17,  95,  ...,   0,   0,   0],\n",
       "         [ 23,   2,  23,  ...,   0,   0,   0],\n",
       "         [174, 103,  25,  ...,   0,   0,   0]], device='cuda:0'),\n",
       " 'category-list': tensor([[10,  8, 26,  ...,  0,  0,  0],\n",
       "         [ 6,  4,  6,  ...,  0,  0,  0],\n",
       "         [ 1,  3,  3,  ...,  0,  0,  0],\n",
       "         ...,\n",
       "         [ 1,  4, 19,  ...,  0,  0,  0],\n",
       "         [ 5,  1,  5,  ...,  0,  0,  0],\n",
       "         [35, 21,  7,  ...,  0,  0,  0]], device='cuda:0'),\n",
       " 'session_id': tensor([   9,   35,   66,   86,   87,   92,  110,  113,  123,  130,  133,  149,\n",
       "          172,  178,  186,  193,  200,  219,  241,  247,  250,  252,  256,  260,\n",
       "          264,  282,  314,  341,  368,  375,  406,  410,  416,  453,  458,  459,\n",
       "          461,  488,  532,  573,  577,  578,  585,  597,  622,  625,  643,  657,\n",
       "          702,  705,  729,  746,  776,  783,  808,  824,  828,  842,  861,  864,\n",
       "          875,  888,  900,  925,  929,  931,  951,  960,  964,  973,  983,  986,\n",
       "          987, 1003, 1004, 1021, 1027, 1030, 1038, 1060, 1066, 1072, 1109, 1117,\n",
       "         1118, 1121, 1135, 1138, 1140, 1159, 1161, 1211, 1212, 1213, 1214, 1242,\n",
       "         1277, 1283, 1287, 1288, 1298, 1312, 1349, 1354, 1365, 1369, 1375, 1391,\n",
       "         1396, 1439, 1440, 1442, 1443, 1451, 1456, 1464, 1477, 1484, 1487, 1504,\n",
       "         1564, 1572, 1573, 1574, 1582, 1591, 1607, 1627], device='cuda:0'),\n",
       " 'item_id-count': tensor([14, 12, 12, 12, 12, 12, 12, 12, 11, 11, 11, 11, 11, 11, 11, 11, 11, 11,\n",
       "         11, 11, 11, 11, 11, 11, 11, 10, 10, 10, 10, 10, 10, 10, 10, 10, 10, 10,\n",
       "         10, 10, 10, 10, 10, 10, 10, 10, 10, 10, 10, 10,  9,  9,  9,  9,  9,  9,\n",
       "          9,  9,  9,  9,  9,  9,  9,  9,  9,  9,  9,  9,  9,  9,  9,  9,  9,  9,\n",
       "          9,  9,  9,  9,  9,  9,  9,  9,  9,  9,  9,  9,  9,  9,  9,  9,  9,  9,\n",
       "          9,  9,  9,  9,  9,  9,  9,  9,  9,  9,  9,  9,  9,  9,  9,  9,  9,  8,\n",
       "          8,  8,  8,  8,  8,  8,  8,  8,  8,  8,  8,  8,  8,  8,  8,  8,  8,  8,\n",
       "          8,  8], device='cuda:0', dtype=torch.int32)}"
      ]
     },
     "execution_count": 17,
     "metadata": {},
     "output_type": "execute_result"
    }
   ],
   "source": [
    "train_dict[0]"
   ]
  },
  {
   "cell_type": "code",
   "execution_count": 18,
   "id": "b9ec2cdb-4bf7-4f8e-9bbb-7292e7ea57f9",
   "metadata": {},
   "outputs": [
    {
     "name": "stderr",
     "output_type": "stream",
     "text": [
      "/usr/local/lib/python3.8/dist-packages/merlin/schema/tags.py:148: UserWarning: Compound tags like Tags.ITEM_ID have been deprecated and will be removed in a future version. Please use the atomic versions of these tags, like [<Tags.ITEM: 'item'>, <Tags.ID: 'id'>].\n",
      "  warnings.warn(\n"
     ]
    }
   ],
   "source": [
    "traced_model = torch.jit.trace(model, train_dict[0], strict=True)"
   ]
  },
  {
   "cell_type": "code",
   "execution_count": 157,
   "id": "2e5278da-88ae-421a-89f6-f07290a77608",
   "metadata": {},
   "outputs": [],
   "source": [
    "# traced_model"
   ]
  },
  {
   "cell_type": "markdown",
   "id": "d1454a8f-790b-4fec-bacf-ece6add18f26",
   "metadata": {},
   "source": [
    "### Generate model input and output schemas to feed in the PredictPyTorch operator below."
   ]
  },
  {
   "cell_type": "code",
   "execution_count": 20,
   "id": "71f21fdf-3c9b-4ed1-9aac-f8b08d50c56c",
   "metadata": {},
   "outputs": [],
   "source": [
    "input_schema = model.input_schema\n",
    "output_schema = model.output_schema"
   ]
  },
  {
   "cell_type": "code",
   "execution_count": 21,
   "id": "d66dd701-7324-427e-93b2-c34ba354c34e",
   "metadata": {},
   "outputs": [
    {
     "data": {
      "text/html": [
       "<div>\n",
       "<style scoped>\n",
       "    .dataframe tbody tr th:only-of-type {\n",
       "        vertical-align: middle;\n",
       "    }\n",
       "\n",
       "    .dataframe tbody tr th {\n",
       "        vertical-align: top;\n",
       "    }\n",
       "\n",
       "    .dataframe thead th {\n",
       "        text-align: right;\n",
       "    }\n",
       "</style>\n",
       "<table border=\"1\" class=\"dataframe\">\n",
       "  <thead>\n",
       "    <tr style=\"text-align: right;\">\n",
       "      <th></th>\n",
       "      <th>name</th>\n",
       "      <th>tags</th>\n",
       "      <th>dtype</th>\n",
       "      <th>is_list</th>\n",
       "      <th>is_ragged</th>\n",
       "      <th>properties.int_domain.min</th>\n",
       "      <th>properties.int_domain.max</th>\n",
       "    </tr>\n",
       "  </thead>\n",
       "  <tbody>\n",
       "    <tr>\n",
       "      <th>0</th>\n",
       "      <td>age_days-list</td>\n",
       "      <td>(Tags.LIST, Tags.CONTINUOUS)</td>\n",
       "      <td>float32</td>\n",
       "      <td>True</td>\n",
       "      <td>False</td>\n",
       "      <td>0</td>\n",
       "      <td>0</td>\n",
       "    </tr>\n",
       "    <tr>\n",
       "      <th>1</th>\n",
       "      <td>weekday_sin-list</td>\n",
       "      <td>(Tags.LIST, Tags.CONTINUOUS)</td>\n",
       "      <td>float32</td>\n",
       "      <td>True</td>\n",
       "      <td>False</td>\n",
       "      <td>0</td>\n",
       "      <td>0</td>\n",
       "    </tr>\n",
       "    <tr>\n",
       "      <th>2</th>\n",
       "      <td>item_id-list</td>\n",
       "      <td>(Tags.ITEM_ID, Tags.ITEM, Tags.CATEGORICAL, Ta...</td>\n",
       "      <td>int64</td>\n",
       "      <td>True</td>\n",
       "      <td>False</td>\n",
       "      <td>0</td>\n",
       "      <td>490</td>\n",
       "    </tr>\n",
       "    <tr>\n",
       "      <th>3</th>\n",
       "      <td>category-list</td>\n",
       "      <td>(Tags.CATEGORICAL, Tags.LIST)</td>\n",
       "      <td>int64</td>\n",
       "      <td>True</td>\n",
       "      <td>False</td>\n",
       "      <td>0</td>\n",
       "      <td>146</td>\n",
       "    </tr>\n",
       "  </tbody>\n",
       "</table>\n",
       "</div>"
      ],
      "text/plain": [
       "[{'name': 'age_days-list', 'tags': {<Tags.LIST: 'list'>, <Tags.CONTINUOUS: 'continuous'>}, 'properties': {'int_domain': {'min': 0, 'max': 0}}, 'dtype': dtype('float32'), 'is_list': True, 'is_ragged': False}, {'name': 'weekday_sin-list', 'tags': {<Tags.LIST: 'list'>, <Tags.CONTINUOUS: 'continuous'>}, 'properties': {'int_domain': {'min': 0, 'max': 0}}, 'dtype': dtype('float32'), 'is_list': True, 'is_ragged': False}, {'name': 'item_id-list', 'tags': {<Tags.ITEM_ID: 'item_id'>, <Tags.ITEM: 'item'>, <Tags.CATEGORICAL: 'categorical'>, <Tags.ID: 'id'>, <Tags.LIST: 'list'>}, 'properties': {'int_domain': {'min': 0, 'max': 490}}, 'dtype': dtype('int64'), 'is_list': True, 'is_ragged': False}, {'name': 'category-list', 'tags': {<Tags.CATEGORICAL: 'categorical'>, <Tags.LIST: 'list'>}, 'properties': {'int_domain': {'min': 0, 'max': 146}}, 'dtype': dtype('int64'), 'is_list': True, 'is_ragged': False}]"
      ]
     },
     "execution_count": 21,
     "metadata": {},
     "output_type": "execute_result"
    }
   ],
   "source": [
    "input_schema"
   ]
  },
  {
   "cell_type": "code",
   "execution_count": 22,
   "id": "0be2b513-4f25-44fd-a075-808bbe59d354",
   "metadata": {},
   "outputs": [
    {
     "data": {
      "text/plain": [
       "'workspace/data'"
      ]
     },
     "execution_count": 22,
     "metadata": {},
     "output_type": "execute_result"
    }
   ],
   "source": [
    "INPUT_DATA_DIR"
   ]
  },
  {
   "cell_type": "code",
   "execution_count": 118,
   "id": "b2d19785-f5fe-44ad-b15a-861f13859359",
   "metadata": {},
   "outputs": [],
   "source": [
    "import shutil\n",
    "# ens_model_path = os.environ.get(\"ens_model_path\", f\"{INPUT_DATA_DIR}/models\")\n",
    "\n",
    "ens_model_path = f'workspace/data/models'\n",
    "\n",
    "# Make sure we have a clean stats space for Dask\n",
    "if os.path.isdir(ens_model_path):\n",
    "    shutil.rmtree(ens_model_path)\n",
    "os.mkdir(ens_model_path)"
   ]
  },
  {
   "cell_type": "markdown",
   "id": "5785b2e3-ef8f-41fd-8c7b-d6c01e712cd0",
   "metadata": {},
   "source": [
    "### We use `PredictPyTorch` operator that takes a pytorch model and packages it correctly for tritonserver to run on the PyTorch backend."
   ]
  },
  {
   "cell_type": "code",
   "execution_count": 26,
   "id": "1b69ef4c-de82-40e0-959c-01d3340bfe76",
   "metadata": {},
   "outputs": [],
   "source": [
    "torch_op = input_schema.column_names >> PredictPyTorch(\n",
    "    traced_model, input_schema, output_schema\n",
    ")"
   ]
  },
  {
   "cell_type": "code",
   "execution_count": 27,
   "id": "2f475615-5c27-4f18-880a-43d34791e2f5",
   "metadata": {},
   "outputs": [],
   "source": [
    "ensemble = Ensemble(torch_op, input_schema)\n",
    "ens_config, node_configs = ensemble.export(ens_model_path)"
   ]
  },
  {
   "cell_type": "markdown",
   "id": "49869584-5665-47e6-9a82-fdf9f88cb78b",
   "metadata": {},
   "source": [
    "# Starting Triton Server"
   ]
  },
  {
   "cell_type": "code",
   "execution_count": 124,
   "id": "2d2a428f-d802-47f3-ba75-b6c927036838",
   "metadata": {},
   "outputs": [
    {
     "data": {
      "text/plain": [
       "'workspace/data/models'"
      ]
     },
     "execution_count": 124,
     "metadata": {},
     "output_type": "execute_result"
    }
   ],
   "source": [
    "ens_model_path"
   ]
  },
  {
   "cell_type": "code",
   "execution_count": 120,
   "id": "3752cca4-1fc3-4aa6-90a5-7c327c9f5abf",
   "metadata": {},
   "outputs": [],
   "source": [
    "# tritonserver --model-repository=/workspace/data/models"
   ]
  },
  {
   "cell_type": "code",
   "execution_count": 138,
   "id": "649ff578-81ec-40f8-af43-5fe78e133c78",
   "metadata": {},
   "outputs": [
    {
     "name": "stdout",
     "output_type": "stream",
     "text": [
      "client created.\n"
     ]
    }
   ],
   "source": [
    "import tritonclient.http as client\n",
    "\n",
    "# Create a triton client\n",
    "try:\n",
    "    triton_client = client.InferenceServerClient(url=\"localhost:8000\", verbose=True)\n",
    "    print(\"client created.\")\n",
    "except Exception as e:\n",
    "    print(\"channel creation failed: \" + str(e))"
   ]
  },
  {
   "cell_type": "code",
   "execution_count": 139,
   "id": "466e00a3-24ed-4524-ba1f-baa6180e1d53",
   "metadata": {},
   "outputs": [
    {
     "name": "stdout",
     "output_type": "stream",
     "text": [
      "GET /v2/health/live, headers None\n",
      "<HTTPSocketPoolResponse status=200 headers={'content-length': '0', 'content-type': 'text/plain'}>\n",
      "POST /v2/repository/index, headers None\n",
      "\n",
      "<HTTPSocketPoolResponse status=200 headers={'content-type': 'application/json', 'content-length': '121'}>\n",
      "bytearray(b'[{\"name\":\"0_predictpytorchtriton\",\"version\":\"1\",\"state\":\"READY\"},{\"name\":\"ensemble_model\",\"version\":\"1\",\"state\":\"READY\"}]')\n"
     ]
    },
    {
     "data": {
      "text/plain": [
       "[{'name': '0_predictpytorchtriton', 'version': '1', 'state': 'READY'},\n",
       " {'name': 'ensemble_model', 'version': '1', 'state': 'READY'}]"
      ]
     },
     "execution_count": 139,
     "metadata": {},
     "output_type": "execute_result"
    }
   ],
   "source": [
    "# ensure triton is in a good state\n",
    "triton_client.is_server_live()\n",
    "triton_client.get_model_repository_index()"
   ]
  },
  {
   "cell_type": "code",
   "execution_count": 140,
   "id": "1426634f-6643-4f91-b69b-12922ebcb7a1",
   "metadata": {},
   "outputs": [
    {
     "name": "stdout",
     "output_type": "stream",
     "text": [
      "200"
     ]
    }
   ],
   "source": [
    "! curl -s -o /dev/null -w \"%{http_code}\" http://localhost:8000/v2/health/ready"
   ]
  },
  {
   "cell_type": "code",
   "execution_count": 141,
   "id": "23b2f276-37dd-4f36-8854-1df4e5df9a14",
   "metadata": {},
   "outputs": [],
   "source": [
    "eval_batch_size = 32\n",
    "# eval_paths = os.path.join(OUTPUT_DIR, f\"{1}/valid.parquet\")\n",
    "eval_paths=f'{OUTPUT_DIR}/1/valid.parquet'\n",
    "\n",
    "eval_dataset = Dataset(eval_paths, shuffle=False)\n",
    "eval_loader = generate_dataloader(schema, eval_dataset, batch_size=eval_batch_size)\n",
    "test_dict = next(iter(eval_loader))"
   ]
  },
  {
   "cell_type": "code",
   "execution_count": 142,
   "id": "e53ef0de-95b5-4f26-97a5-d5039e1bb665",
   "metadata": {},
   "outputs": [
    {
     "data": {
      "text/plain": [
       "tensor([67,  7, 44,  4,  4, 83, 96,  9,  7, 99, 12, 16,  0,  0,  0,  0,  0,  0,\n",
       "         0,  0], device='cuda:0')"
      ]
     },
     "execution_count": 142,
     "metadata": {},
     "output_type": "execute_result"
    }
   ],
   "source": [
    "test_dict[0]['item_id-list'][0]"
   ]
  },
  {
   "cell_type": "code",
   "execution_count": 143,
   "id": "ec5859e5-d4b4-4102-a3a1-32583b795386",
   "metadata": {
    "tags": []
   },
   "outputs": [],
   "source": [
    "# test_dict"
   ]
  },
  {
   "cell_type": "code",
   "execution_count": 144,
   "id": "4868079a-c721-43cd-9565-7be81ba4a604",
   "metadata": {},
   "outputs": [
    {
     "name": "stdout",
     "output_type": "stream",
     "text": [
      "(32, 4)\n"
     ]
    },
    {
     "data": {
      "text/html": [
       "<div>\n",
       "<style scoped>\n",
       "    .dataframe tbody tr th:only-of-type {\n",
       "        vertical-align: middle;\n",
       "    }\n",
       "\n",
       "    .dataframe tbody tr th {\n",
       "        vertical-align: top;\n",
       "    }\n",
       "\n",
       "    .dataframe thead th {\n",
       "        text-align: right;\n",
       "    }\n",
       "</style>\n",
       "<table border=\"1\" class=\"dataframe\">\n",
       "  <thead>\n",
       "    <tr style=\"text-align: right;\">\n",
       "      <th></th>\n",
       "      <th>age_days-list</th>\n",
       "      <th>weekday_sin-list</th>\n",
       "      <th>item_id-list</th>\n",
       "      <th>category-list</th>\n",
       "    </tr>\n",
       "  </thead>\n",
       "  <tbody>\n",
       "    <tr>\n",
       "      <th>0</th>\n",
       "      <td>[0.5499501, 0.05859168, 0.6143423, 0.6127391, ...</td>\n",
       "      <td>[0.14183702, 0.033720933, 0.33820504, 0.261525...</td>\n",
       "      <td>[67, 7, 44, 4, 4, 83, 96, 9, 7, 99, 12, 16, 0,...</td>\n",
       "      <td>[15, 2, 9, 1, 1, 18, 20, 2, 2, 22, 2, 4, 0, 0,...</td>\n",
       "    </tr>\n",
       "    <tr>\n",
       "      <th>1</th>\n",
       "      <td>[0.054626163, 0.9909682, 0.06476167, 0.1239693...</td>\n",
       "      <td>[0.7294668, 0.19679245, 0.9772184, 0.018398901...</td>\n",
       "      <td>[7, 8, 77, 3, 11, 15, 8, 29, 67, 36, 0, 0, 0, ...</td>\n",
       "      <td>[2, 3, 16, 1, 2, 4, 3, 6, 15, 8, 0, 0, 0, 0, 0...</td>\n",
       "    </tr>\n",
       "    <tr>\n",
       "      <th>2</th>\n",
       "      <td>[0.932309, 0.80796856, 0.90713656, 0.15237969,...</td>\n",
       "      <td>[0.30309433, 0.32139105, 0.9710796, 0.2957704,...</td>\n",
       "      <td>[3, 17, 3, 11, 93, 152, 6, 54, 70, 54, 0, 0, 0...</td>\n",
       "      <td>[1, 4, 1, 2, 19, 32, 1, 11, 14, 11, 0, 0, 0, 0...</td>\n",
       "    </tr>\n",
       "    <tr>\n",
       "      <th>3</th>\n",
       "      <td>[0.54140306, 0.27389532, 0.71741486, 0.3560422...</td>\n",
       "      <td>[0.97362846, 0.36598137, 0.4796154, 0.5809341,...</td>\n",
       "      <td>[17, 98, 2, 32, 18, 22, 30, 2, 121, 22, 0, 0, ...</td>\n",
       "      <td>[4, 22, 1, 6, 4, 5, 6, 1, 25, 5, 0, 0, 0, 0, 0...</td>\n",
       "    </tr>\n",
       "    <tr>\n",
       "      <th>4</th>\n",
       "      <td>[0.12162325, 0.49388522, 0.31290212, 0.0548800...</td>\n",
       "      <td>[0.27499816, 0.40137193, 0.7278469, 0.2063758,...</td>\n",
       "      <td>[108, 1, 26, 121, 62, 35, 24, 15, 8, 0, 0, 0, ...</td>\n",
       "      <td>[23, 1, 7, 25, 13, 8, 5, 4, 3, 0, 0, 0, 0, 0, ...</td>\n",
       "    </tr>\n",
       "  </tbody>\n",
       "</table>\n",
       "</div>"
      ],
      "text/plain": [
       "                                       age_days-list  \\\n",
       "0  [0.5499501, 0.05859168, 0.6143423, 0.6127391, ...   \n",
       "1  [0.054626163, 0.9909682, 0.06476167, 0.1239693...   \n",
       "2  [0.932309, 0.80796856, 0.90713656, 0.15237969,...   \n",
       "3  [0.54140306, 0.27389532, 0.71741486, 0.3560422...   \n",
       "4  [0.12162325, 0.49388522, 0.31290212, 0.0548800...   \n",
       "\n",
       "                                    weekday_sin-list  \\\n",
       "0  [0.14183702, 0.033720933, 0.33820504, 0.261525...   \n",
       "1  [0.7294668, 0.19679245, 0.9772184, 0.018398901...   \n",
       "2  [0.30309433, 0.32139105, 0.9710796, 0.2957704,...   \n",
       "3  [0.97362846, 0.36598137, 0.4796154, 0.5809341,...   \n",
       "4  [0.27499816, 0.40137193, 0.7278469, 0.2063758,...   \n",
       "\n",
       "                                        item_id-list  \\\n",
       "0  [67, 7, 44, 4, 4, 83, 96, 9, 7, 99, 12, 16, 0,...   \n",
       "1  [7, 8, 77, 3, 11, 15, 8, 29, 67, 36, 0, 0, 0, ...   \n",
       "2  [3, 17, 3, 11, 93, 152, 6, 54, 70, 54, 0, 0, 0...   \n",
       "3  [17, 98, 2, 32, 18, 22, 30, 2, 121, 22, 0, 0, ...   \n",
       "4  [108, 1, 26, 121, 62, 35, 24, 15, 8, 0, 0, 0, ...   \n",
       "\n",
       "                                       category-list  \n",
       "0  [15, 2, 9, 1, 1, 18, 20, 2, 2, 22, 2, 4, 0, 0,...  \n",
       "1  [2, 3, 16, 1, 2, 4, 3, 6, 15, 8, 0, 0, 0, 0, 0...  \n",
       "2  [1, 4, 1, 2, 19, 32, 1, 11, 14, 11, 0, 0, 0, 0...  \n",
       "3  [4, 22, 1, 6, 4, 5, 6, 1, 25, 5, 0, 0, 0, 0, 0...  \n",
       "4  [23, 1, 7, 25, 13, 8, 5, 4, 3, 0, 0, 0, 0, 0, ...  "
      ]
     },
     "execution_count": 144,
     "metadata": {},
     "output_type": "execute_result"
    }
   ],
   "source": [
    "df_cols = {}\n",
    "for name, tensor in test_dict[0].items():\n",
    "    if name in input_schema.column_names:\n",
    "        df_cols[name] = tensor.cpu().numpy()\n",
    "        if len(tensor.shape) > 1:\n",
    "            df_cols[name] = list(df_cols[name])\n",
    "            \n",
    "df = make_df(df_cols)\n",
    "print(df.shape)\n",
    "df.head()"
   ]
  },
  {
   "cell_type": "code",
   "execution_count": 147,
   "id": "87a2743c-5202-41b6-b11c-2fff4e108f2e",
   "metadata": {},
   "outputs": [
    {
     "name": "stdout",
     "output_type": "stream",
     "text": [
      "{'next-item': array([[ -9.414455 ,  -3.3946676,  -3.5153584, ...,  -9.280288 ,\n",
      "         -9.485153 , -10.177757 ],\n",
      "       [ -9.41456  ,  -3.3946674,  -3.5153627, ...,  -9.280386 ,\n",
      "         -9.48469  , -10.178482 ],\n",
      "       [ -9.41453  ,  -3.394696 ,  -3.5153177, ...,  -9.280301 ,\n",
      "         -9.485351 , -10.177533 ],\n",
      "       ...,\n",
      "       [ -9.414583 ,  -3.3947313,  -3.5153112, ...,  -9.280373 ,\n",
      "         -9.485293 , -10.177692 ],\n",
      "       [ -9.414576 ,  -3.39471  ,  -3.515358 , ...,  -9.280357 ,\n",
      "         -9.485056 , -10.177971 ],\n",
      "       [ -9.414605 ,  -3.394704 ,  -3.5153375, ...,  -9.280365 ,\n",
      "         -9.485054 , -10.177982 ]], dtype=float32)}\n"
     ]
    }
   ],
   "source": [
    "from merlin.systems.triton.utils import send_triton_request\n",
    "response = send_triton_request(input_schema, df[input_schema.column_names], output_schema.column_names)\n",
    "print(response)"
   ]
  },
  {
   "cell_type": "code",
   "execution_count": 156,
   "id": "951613ea-7bc7-4fc5-be30-d686d45302b9",
   "metadata": {},
   "outputs": [
    {
     "data": {
      "text/plain": [
       "(32, 491)"
      ]
     },
     "execution_count": 156,
     "metadata": {},
     "output_type": "execute_result"
    }
   ],
   "source": [
    "response['next-item'].shape"
   ]
  },
  {
   "cell_type": "code",
   "execution_count": 146,
   "id": "6865ca4f-00fc-4c98-866f-ca4a4c0621ef",
   "metadata": {},
   "outputs": [
    {
     "data": {
      "text/plain": [
       "(32, 491)"
      ]
     },
     "execution_count": 146,
     "metadata": {},
     "output_type": "execute_result"
    }
   ],
   "source": [
    "response['next-item'].shape"
   ]
  },
  {
   "cell_type": "code",
   "execution_count": null,
   "id": "8101866d-36aa-49a7-b701-43ff8a856ef1",
   "metadata": {},
   "outputs": [],
   "source": [
    "# REPO_WORKSPACE = 'workspace'\n",
    "\n",
    "# DATA_DIR = 'data'\n",
    "# INPUT_DATA_DIR=f'{REPO_WORKSPACE}/{DATA_DIR}'\n",
    "# TRANSFORMED_WORKFLOW=f'{INPUT_DATA_DIR}/processed_nvt'\n",
    "# OUTPUT_WORKFLOW_DIR=f'{INPUT_DATA_DIR}/workflow_etl'\n",
    "# OUTPUT_DIR=f'{INPUT_DATA_DIR}/sessions_by_day'\n",
    "# TRAIN_PATHS=f'{OUTPUT_DIR}/1' #/train.parquet'\n",
    "# MODEL_PATH = f'{INPUT_DATA_DIR}/saved_model'\n",
    "\n",
    "# print(f\"INPUT_DATA_DIR: {INPUT_DATA_DIR}\")\n",
    "# print(f\"TRANSFORMED_WORKFLOW: {TRANSFORMED_WORKFLOW}\")\n",
    "# print(f\"OUTPUT_WORKFLOW_DIR: {OUTPUT_WORKFLOW_DIR}\")\n",
    "# print(f\"OUTPUT_DIR: {OUTPUT_DIR}\")\n",
    "# print(f\"TRAIN_PATHS: {TRAIN_PATHS}\")\n",
    "# print(f\"MODEL_PATH: {MODEL_PATH}\")"
   ]
  },
  {
   "cell_type": "markdown",
   "id": "c684a057-0089-4435-8a04-6d49c8562a96",
   "metadata": {},
   "source": [
    "# Testing Triton locally with Vertex `LocalModel()`\n",
    "\n",
    "### WIP - not stable\n",
    "\n",
    "**TODO**"
   ]
  },
  {
   "cell_type": "code",
   "execution_count": 41,
   "id": "a85a6afe-c642-465b-b1c0-2f8a74f0ba3d",
   "metadata": {},
   "outputs": [],
   "source": [
    "LOCAL_MODEL_ARTIFACTS_DIR = \"local_model_artifacts\""
   ]
  },
  {
   "cell_type": "code",
   "execution_count": 137,
   "id": "e123009f-23ac-49c0-a19a-9858d43af2c5",
   "metadata": {},
   "outputs": [
    {
     "name": "stdout",
     "output_type": "stream",
     "text": [
      "/home/jupyter/t4rec-nvidia-docs\n"
     ]
    }
   ],
   "source": [
    "!pwd"
   ]
  },
  {
   "cell_type": "code",
   "execution_count": 42,
   "id": "6b3743a3-668f-4f65-94c5-aef6b62745c8",
   "metadata": {},
   "outputs": [],
   "source": [
    "MODEL_NAME = \"local_torch\"\n",
    "LOCAL_MODEL_DIRECTORY = f\"{LOCAL_MODEL_ARTIFACTS_DIR}/{MODEL_NAME}\"\n",
    "LOCAL_MODEL_VERSION_1 = f\"{LOCAL_MODEL_DIRECTORY}/1\"\n",
    "\n",
    "!mkdir $LOCAL_MODEL_ARTIFACTS_DIR\n",
    "!mkdir $LOCAL_MODEL_DIRECTORY\n",
    "!mkdir $LOCAL_MODEL_VERSION_1"
   ]
  },
  {
   "cell_type": "code",
   "execution_count": 43,
   "id": "aa6c1f3d-6173-47f1-adb7-ce414ee49f44",
   "metadata": {},
   "outputs": [],
   "source": [
    "LOCAL_MODEL_FILE = f\"{LOCAL_MODEL_VERSION_1}/model.pt\"\n",
    "\n",
    "# Use torch.jit.trace to generate a torch.jit.ScriptModule via tracing.\n",
    "# traced_script_module = torch.jit.trace(model, example)\n",
    "\n",
    "# Save the TorchScript model\n",
    "traced_model.save(LOCAL_MODEL_FILE)"
   ]
  },
  {
   "cell_type": "code",
   "execution_count": 48,
   "id": "cee4ad1d-8103-4d66-b7ac-79d85f12a0e6",
   "metadata": {},
   "outputs": [],
   "source": [
    "loaded_torch = torch.jit.load(LOCAL_MODEL_FILE)\n",
    "\n",
    "def predict_class(instances):\n",
    "    instances = torch.Tensor(instances)\n",
    "    output = loaded_torch(instances)\n",
    "    _, predicted = torch.max(output, 1)\n",
    "    return predicted\n",
    "\n",
    "\n",
    "# predicted = predict_class(test_dict[0])\n",
    "# print([CLASS_VOCAB[class_index] for class_index in predicted])"
   ]
  },
  {
   "cell_type": "code",
   "execution_count": 49,
   "id": "893f8365-4baf-445d-86d5-0554cccaef0d",
   "metadata": {},
   "outputs": [
    {
     "data": {
      "text/plain": [
       "tensor([[ -9.4145,  -3.3947,  -3.5154,  ...,  -9.2803,  -9.4852, -10.1778],\n",
       "        [ -9.4146,  -3.3947,  -3.5154,  ...,  -9.2804,  -9.4847, -10.1785],\n",
       "        [ -9.4145,  -3.3947,  -3.5153,  ...,  -9.2803,  -9.4854, -10.1775],\n",
       "        ...,\n",
       "        [ -9.4146,  -3.3947,  -3.5153,  ...,  -9.2804,  -9.4853, -10.1777],\n",
       "        [ -9.4146,  -3.3947,  -3.5154,  ...,  -9.2804,  -9.4851, -10.1780],\n",
       "        [ -9.4146,  -3.3947,  -3.5153,  ...,  -9.2804,  -9.4851, -10.1780]],\n",
       "       device='cuda:0', grad_fn=<LogSoftmaxBackward0>)"
      ]
     },
     "execution_count": 49,
     "metadata": {},
     "output_type": "execute_result"
    }
   ],
   "source": [
    "predicted = loaded_torch(test_dict[0])\n",
    "\n",
    "predicted"
   ]
  },
  {
   "cell_type": "code",
   "execution_count": 1,
   "id": "b29f06f3-7114-4fc3-94f2-d41984b4116d",
   "metadata": {
    "tags": []
   },
   "outputs": [],
   "source": [
    "# test_dict"
   ]
  },
  {
   "cell_type": "code",
   "execution_count": 50,
   "id": "147a203e-cb43-41c9-8c25-2692b611d129",
   "metadata": {},
   "outputs": [
    {
     "name": "stdout",
     "output_type": "stream",
     "text": [
      "Writing local_model_artifacts/local_torch/config.pbtxt\n"
     ]
    }
   ],
   "source": [
    "%%writefile $LOCAL_MODEL_DIRECTORY/config.pbtxt\n",
    "name: \"local_t4r_torch\"\n",
    "platform: \"pytorch_libtorch\"\n",
    "input {\n",
    "  name: \"age_days-list\"\n",
    "  data_type: TYPE_FP32\n",
    "  dims: -1\n",
    "  dims: -1\n",
    "}\n",
    "input {\n",
    "  name: \"weekday_sin-list\"\n",
    "  data_type: TYPE_FP32\n",
    "  dims: -1\n",
    "  dims: -1\n",
    "}\n",
    "input {\n",
    "  name: \"item_id-list\"\n",
    "  data_type: TYPE_INT64\n",
    "  dims: -1\n",
    "  dims: -1\n",
    "}\n",
    "input {\n",
    "  name: \"category-list\"\n",
    "  data_type: TYPE_INT64\n",
    "  dims: -1\n",
    "  dims: -1\n",
    "}\n",
    "output {\n",
    "  name: \"next-item\"\n",
    "  data_type: TYPE_FP32\n",
    "  dims: -1\n",
    "}\n",
    "parameters {\n",
    "  key: \"INFERENCE_MODE\"\n",
    "  value {\n",
    "    string_value: \"true\"\n",
    "  }\n",
    "}\n",
    "backend: \"pytorch\"\n"
   ]
  },
  {
   "cell_type": "code",
   "execution_count": 56,
   "id": "f292c3a5-dd03-4402-9b54-d51113288121",
   "metadata": {},
   "outputs": [
    {
     "name": "stdout",
     "output_type": "stream",
     "text": [
      "Copying file://local_model_artifacts/local_torch/config.pbtxt to gs://merlin-transformers4rec-jvt01/local_model_dir/local_torch/config.pbtxt\n",
      "Copying file://local_model_artifacts/local_torch/1/model.pt to gs://merlin-transformers4rec-jvt01/local_model_dir/local_torch/1/model.pt\n",
      "  Completed files 2/2 | 795.2kiB/795.2kiB                                      \n",
      "\n",
      "Average throughput: 75.9MiB/s\n"
     ]
    }
   ],
   "source": [
    "BUCKET_NAME='merlin-transformers4rec-jvt01'\n",
    "BUCKET_URI=f'gs://{BUCKET_NAME}'\n",
    "\n",
    "!gcloud storage cp -r $LOCAL_MODEL_ARTIFACTS_DIR/* $BUCKET_URI/local_model_dir/"
   ]
  },
  {
   "cell_type": "code",
   "execution_count": 57,
   "id": "fb4f68dd-80fd-4691-9dc3-0e5f76b59b63",
   "metadata": {},
   "outputs": [
    {
     "name": "stdout",
     "output_type": "stream",
     "text": [
      "gs://merlin-transformers4rec-jvt01/local_model_dir/local_torch/\n"
     ]
    }
   ],
   "source": [
    "!gcloud storage ls $BUCKET_URI/local_model_dir/"
   ]
  },
  {
   "cell_type": "code",
   "execution_count": 58,
   "id": "f9ddbb36-e362-4bb9-8451-fc8cd923fefe",
   "metadata": {},
   "outputs": [],
   "source": [
    "TRITON_VERSION = \"23.01\"\n",
    "MODEL_NAME='local_t4r_torch'"
   ]
  },
  {
   "cell_type": "code",
   "execution_count": 110,
   "id": "e79c715f-7949-4e03-833f-a042963f1493",
   "metadata": {},
   "outputs": [],
   "source": [
    "from google.cloud.aiplatform.prediction import LocalModel\n",
    "\n",
    "local_model = LocalModel(\n",
    "    serving_container_image_uri='gcr.io/hybrid-vertex/triton-ensemble_model-v02', #f\"nvcr.io/nvidia/tritonserver:{TRITON_VERSION}-py3\",\n",
    "    # serving_container_predict_route=f\"/v1/models/{MODEL_NAME}/infer\",\n",
    "    # serving_container_health_route=f\"/v1/models/{MODEL_NAME}\",\n",
    "    serving_container_ports=[8000],\n",
    "    serving_container_args=[\n",
    "        \"tritonserver\", \n",
    "        \"--model-repository=./workspace/data/models/\", \n",
    "        \"--backend-config=python,shm-default-byte-size=4194304\",\n",
    "        \"--vertex-ai-default-model=0_predictpytorchtriton\",\n",
    "        \"--strict-model-config=true\",\n",
    "    ],\n",
    "    # serving_container_environment_variables=\n",
    ")\n",
    "# tritonserver --model-repository=./models/  --backend-config=python,shm-default-byte-size=4194304 \n",
    "\n",
    "# ./workspace/data/models/\n",
    "# \"--model-repository=$(AIP_STORAGE_URI)\","
   ]
  },
  {
   "cell_type": "code",
   "execution_count": 111,
   "id": "58290443-48d8-49a1-b546-bec5da9ce612",
   "metadata": {},
   "outputs": [
    {
     "data": {
      "text/plain": [
       "image_uri: \"gcr.io/hybrid-vertex/triton-ensemble_model-v02\"\n",
       "args: \"tritonserver\"\n",
       "args: \"--model-repository=./workspace/data/models/\"\n",
       "args: \"--backend-config=python,shm-default-byte-size=4194304\"\n",
       "args: \"--vertex-ai-default-model=0_predictpytorchtriton\"\n",
       "args: \"--strict-model-config=true\"\n",
       "ports {\n",
       "  container_port: 8000\n",
       "}"
      ]
     },
     "execution_count": 111,
     "metadata": {},
     "output_type": "execute_result"
    }
   ],
   "source": [
    "local_model.get_serving_container_spec()"
   ]
  },
  {
   "cell_type": "markdown",
   "id": "195ea87f-3002-42ca-afc1-ff39bae88714",
   "metadata": {},
   "source": [
    "GET /v2/health/live, headers None\n",
    "<HTTPSocketPoolResponse status=200 headers={'content-length': '0', 'content-type': 'text/plain'}>\n",
    "POST /v2/repository/index, headers None\n",
    "\n",
    "<HTTPSocketPoolResponse status=200 headers={'content-type': 'application/json', 'content-length': '121'}>\n",
    "bytearray(b'[{\"name\":\"0_predictpytorchtriton\",\"version\":\"1\",\"state\":\"READY\"},{\"name\":\"ensemble_model\",\"version\":\"1\",\"state\":\"READY\"}]')\n",
    "[{'name': '0_predictpytorchtriton', 'version': '1', 'state': 'READY'},\n",
    " {'name': 'ensemble_model', 'version': '1', 'state': 'READY'}]"
   ]
  },
  {
   "cell_type": "markdown",
   "id": "2b8b048f-98a9-4e57-9272-fc7af93721bb",
   "metadata": {},
   "source": [
    "### GCP credentials"
   ]
  },
  {
   "cell_type": "code",
   "execution_count": 106,
   "id": "61bff3bf-83ad-4838-b8fa-33a454d6cfe7",
   "metadata": {},
   "outputs": [],
   "source": [
    "from google.oauth2 import service_account\n",
    "\n",
    "CREDENTIALS_FILE = \"credentials.json\"\n",
    "# t4rec-nvidia-docs/credentials.json\n",
    "credentials = service_account.Credentials.from_service_account_file('credentials.json')\n",
    "\n",
    "LOCAL_GCS_URI='gs://merlin-transformers4rec-jvt01/local_model_dir/local_torch'"
   ]
  },
  {
   "cell_type": "code",
   "execution_count": 107,
   "id": "afb32020-5237-4b64-b406-60fbf1750ac7",
   "metadata": {},
   "outputs": [
    {
     "data": {
      "text/plain": [
       "'local_model_artifacts'"
      ]
     },
     "execution_count": 107,
     "metadata": {},
     "output_type": "execute_result"
    }
   ],
   "source": [
    "LOCAL_MODEL_ARTIFACTS_DIR"
   ]
  },
  {
   "cell_type": "code",
   "execution_count": 108,
   "id": "863e3166-7ad1-43a4-b264-4b8d6d416eb4",
   "metadata": {},
   "outputs": [],
   "source": [
    "from google.cloud import aiplatform as vertex_ai\n",
    "\n",
    "vertex_ai.init(\n",
    "    project=PROJECT_ID, \n",
    "    location=REGION,\n",
    "    # credentials=credentials\n",
    ")"
   ]
  },
  {
   "cell_type": "code",
   "execution_count": 113,
   "id": "1b6b702b-51f4-4aaf-a224-47152a35088e",
   "metadata": {},
   "outputs": [],
   "source": [
    "# local_endpoint = local_model.deploy_to_local_endpoint(\n",
    "#     artifact_uri=f\"{LOCAL_MODEL_DIRECTORY}\",\n",
    "#     # credential_path=CREDENTIALS_FILE,\n",
    "# )\n",
    "# local_endpoint.serve()"
   ]
  },
  {
   "cell_type": "code",
   "execution_count": null,
   "id": "2d1a232c-b95b-4cb1-b3d6-c36c15e36c35",
   "metadata": {},
   "outputs": [],
   "source": [
    "health_check_response = local_endpoint.run_health_check()\n",
    "print(health_check_response, health_check_response.content)"
   ]
  },
  {
   "cell_type": "code",
   "execution_count": null,
   "id": "66849231-f475-40b5-9b82-13c8bf909588",
   "metadata": {},
   "outputs": [],
   "source": [
    "predict_response = local_endpoint.predict(\n",
    "    request='{\"instances\": [[1, 2, 3, 4]]}',\n",
    "    headers={\"header-key\": \"header-value\"},\n",
    ")\n",
    "print(predict_response, predict_response.content)"
   ]
  },
  {
   "cell_type": "code",
   "execution_count": null,
   "id": "b8fc0447-f142-4fbe-b3cb-af81b5a64a1e",
   "metadata": {},
   "outputs": [],
   "source": [
    "local_endpoint.print_container_logs()"
   ]
  },
  {
   "cell_type": "code",
   "execution_count": null,
   "id": "3783ac69-07b8-4071-90b4-a2abfc457b7c",
   "metadata": {},
   "outputs": [],
   "source": [
    "# local_endpoint.stop()"
   ]
  },
  {
   "cell_type": "code",
   "execution_count": 114,
   "id": "56ac0353-2788-460c-a4a3-b2d0c01bc348",
   "metadata": {},
   "outputs": [],
   "source": [
    "# # pas local paths\n",
    "# with local_model.deploy_to_local_endpoint(\n",
    "#     artifact_uri=f\"{LOCAL_MODEL_DIRECTORY}\",\n",
    "#     credential_path=CREDENTIALS_FILE,\n",
    "# ) as local_endpoint:\n",
    "#     health_check_response = local_endpoint.run_health_check()\n",
    "#     print(health_check_response, health_check_response.content)\n",
    "#     predict_response = local_endpoint.predict(\n",
    "#         request_file=INPUT_FILE,\n",
    "#         headers={\"Content-Type\": \"application/json\"},\n",
    "#     )\n",
    "\n",
    "    # health_check_response = local_endpoint.run_health_check()\n",
    "\n",
    "\n",
    "\n",
    "# Pass GCP paths\n",
    "# with local_model.deploy_to_local_endpoint(\n",
    "#     artifact_uri=f\"{LOCAL_GCS_URI}\",\n",
    "#     credential_path=CREDENTIALS_FILE,\n",
    "# ) as local_endpoint:\n",
    "#     predict_response = local_endpoint.predict(\n",
    "#         request_file=INPUT_FILE,\n",
    "#         headers={\"Content-Type\": \"application/json\"},\n",
    "#     )\n",
    "\n",
    "#     health_check_response = local_endpoint.run_health_check()\n",
    "\n",
    "# >> DockerException: Error while fetching server API version: ('Connection aborted.', FileNotFoundError(2, 'No such file or directory'))"
   ]
  },
  {
   "cell_type": "code",
   "execution_count": 115,
   "id": "e5b27b04-3e1d-4332-9503-625a8c9bd6c0",
   "metadata": {},
   "outputs": [],
   "source": [
    "# LOCAL_GCS_URI='gs://merlin-transformers4rec-jvt01/local_model_dir/local_torch'"
   ]
  },
  {
   "cell_type": "code",
   "execution_count": 116,
   "id": "6acc7990-4c84-4097-921d-902723f7ea44",
   "metadata": {},
   "outputs": [],
   "source": [
    "# INPUT_FILE"
   ]
  }
 ],
 "metadata": {
  "kernelspec": {
   "display_name": "Python 3 (ipykernel)",
   "language": "python",
   "name": "python3"
  },
  "language_info": {
   "codemirror_mode": {
    "name": "ipython",
    "version": 3
   },
   "file_extension": ".py",
   "mimetype": "text/x-python",
   "name": "python",
   "nbconvert_exporter": "python",
   "pygments_lexer": "ipython3",
   "version": "3.8.10"
  }
 },
 "nbformat": 4,
 "nbformat_minor": 5
}
