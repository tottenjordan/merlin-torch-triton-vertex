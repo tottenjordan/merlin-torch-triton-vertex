{
 "cells": [
  {
   "cell_type": "markdown",
   "id": "24780d62-9700-4657-9f21-97ee5d3e9d3a",
   "metadata": {},
   "source": [
    "# Deploy T4Rec model on Triton-based Vertex endpoint"
   ]
  },
  {
   "cell_type": "code",
   "execution_count": 1,
   "id": "67332060-f6be-441c-adc6-9b9acf0a3e8e",
   "metadata": {},
   "outputs": [],
   "source": [
    "import os\n",
    "os.environ[\"CUDA_VISIBLE_DEVICES\"]=\"0\""
   ]
  },
  {
   "cell_type": "markdown",
   "id": "38bd1e3c-cde1-4ff4-b900-308ad2ac0072",
   "metadata": {},
   "source": [
    "## Setup"
   ]
  },
  {
   "cell_type": "markdown",
   "id": "47399c5a-30e3-4a85-95ca-3abc934236eb",
   "metadata": {},
   "source": [
    "### get project vars"
   ]
  },
  {
   "cell_type": "code",
   "execution_count": 3,
   "id": "b773bb6e-3df8-4105-8174-d66d222580d3",
   "metadata": {},
   "outputs": [
    {
     "name": "stdout",
     "output_type": "stream",
     "text": [
      "PROJECT_ID: hybrid-vertex\n",
      "PROJECT_NUM: 934903580331\n",
      "LOCATION: us-central1\n",
      "REGION: us-central1\n",
      "VERTEX_SA: jt-vertex-sa@hybrid-vertex.iam.gserviceaccount.com\n"
     ]
    }
   ],
   "source": [
    "GCP_PROJECTS = !gcloud config get-value project\n",
    "PROJECT_ID = GCP_PROJECTS[0]\n",
    "PROJECT_NUM = !gcloud projects list --filter=\"$PROJECT_ID\" --format=\"value(PROJECT_NUMBER)\"\n",
    "PROJECT_NUM = PROJECT_NUM[0]\n",
    "LOCATION = 'us-central1'\n",
    "REGION = \"us-central1\"\n",
    "\n",
    "# VERTEX_SA = '934903580331-compute@developer.gserviceaccount.com'\n",
    "VERTEX_SA = 'jt-vertex-sa@hybrid-vertex.iam.gserviceaccount.com'\n",
    "\n",
    "print(f\"PROJECT_ID: {PROJECT_ID}\")\n",
    "print(f\"PROJECT_NUM: {PROJECT_NUM}\")\n",
    "print(f\"LOCATION: {LOCATION}\")\n",
    "print(f\"REGION: {REGION}\")\n",
    "print(f\"VERTEX_SA: {VERTEX_SA}\")"
   ]
  },
  {
   "cell_type": "markdown",
   "id": "ca752bcb-1b74-4da4-a1cf-dcc47bfa09d2",
   "metadata": {},
   "source": [
    "### get workspace vars"
   ]
  },
  {
   "cell_type": "code",
   "execution_count": 4,
   "id": "6417c712-eeef-4d49-9c80-9d0c206320f3",
   "metadata": {},
   "outputs": [
    {
     "name": "stdout",
     "output_type": "stream",
     "text": [
      "INPUT_DATA_DIR: workspace/data\n",
      "TRANSFORMED_WORKFLOW: workspace/data/processed_nvt\n",
      "OUTPUT_DIR: workspace/data/sessions_by_day\n",
      "MODEL_PATH: workspace/data/saved_model\n",
      "ENSEMBLE_MODEL_PATH: workspace/data/models\n"
     ]
    }
   ],
   "source": [
    "# INPUT_DATA_DIR = os.environ.get(\"INPUT_DATA_DIR\", \"/workspace/data\")\n",
    "# OUTPUT_DIR = os.environ.get(\"OUTPUT_DIR\", f\"{INPUT_DATA_DIR}/sessions_by_day\")\n",
    "# model_path= os.environ.get(\"model_path\", f\"{INPUT_DATA_DIR}/saved_model\")\n",
    "\n",
    "REPO_WORKSPACE = 'workspace'\n",
    "\n",
    "DATA_DIR = 'data'\n",
    "INPUT_DATA_DIR=f'{REPO_WORKSPACE}/{DATA_DIR}'\n",
    "TRANSFORMED_WORKFLOW=f'{INPUT_DATA_DIR}/processed_nvt'\n",
    "OUTPUT_DIR=f'{INPUT_DATA_DIR}/sessions_by_day'\n",
    "MODEL_PATH = f'{INPUT_DATA_DIR}/saved_model'\n",
    "ENSEMBLE_MODEL_PATH = f'{INPUT_DATA_DIR}/models'\n",
    "\n",
    "print(f\"INPUT_DATA_DIR: {INPUT_DATA_DIR}\")\n",
    "print(f\"TRANSFORMED_WORKFLOW: {TRANSFORMED_WORKFLOW}\")\n",
    "print(f\"OUTPUT_DIR: {OUTPUT_DIR}\")\n",
    "print(f\"MODEL_PATH: {MODEL_PATH}\")\n",
    "print(f\"ENSEMBLE_MODEL_PATH: {ENSEMBLE_MODEL_PATH}\")"
   ]
  },
  {
   "cell_type": "code",
   "execution_count": 5,
   "id": "f3ef277b-522a-49e4-9f00-d59f560ea1e1",
   "metadata": {},
   "outputs": [
    {
     "name": "stdout",
     "output_type": "stream",
     "text": [
      "\u001b[01;34mworkspace/data/models\u001b[00m\n",
      "├── \u001b[01;34m0_predictpytorchtriton\u001b[00m\n",
      "│   ├── \u001b[01;34m1\u001b[00m\n",
      "│   │   └── model.pt\n",
      "│   └── config.pbtxt\n",
      "└── \u001b[01;34mensemble_model\u001b[00m\n",
      "    ├── \u001b[01;34m1\u001b[00m\n",
      "    └── config.pbtxt\n",
      "\n",
      "4 directories, 3 files\n"
     ]
    }
   ],
   "source": [
    "!tree $ENSEMBLE_MODEL_PATH"
   ]
  },
  {
   "cell_type": "markdown",
   "id": "ad8c46b7-a4de-4946-bf08-c1de1738217c",
   "metadata": {},
   "source": [
    "### set deployment version"
   ]
  },
  {
   "cell_type": "code",
   "execution_count": 6,
   "id": "4cec5e1e-a8b5-47cc-a9c2-87fa74396edb",
   "metadata": {},
   "outputs": [],
   "source": [
    "VERSION='jvt02'\n",
    "MODEL_VERSION='v02'"
   ]
  },
  {
   "cell_type": "code",
   "execution_count": 11,
   "id": "40ecf153-cdee-42b1-885f-83d41e23f853",
   "metadata": {},
   "outputs": [
    {
     "name": "stdout",
     "output_type": "stream",
     "text": [
      "MODEL_ARTIFACTS_REPO_GCS: gs://merlin-transformers4rec-jvt02/v02/workspace/data/models\n",
      "WORKFLOW_REPO_GCS: gs://merlin-transformers4rec-jvt02/v02/workspace/data/workflow_etl\n"
     ]
    }
   ],
   "source": [
    "BUCKET_NAME=f'merlin-transformers4rec-{VERSION}'\n",
    "BUCKET_URI=f'gs://{BUCKET_NAME}'\n",
    "\n",
    "MODEL_ARTIFACTS_REPO_GCS = f\"{BUCKET_URI}/{MODEL_VERSION}/workspace/data/models\"\n",
    "WORKFLOW_REPO_GCS = f\"{BUCKET_URI}/{MODEL_VERSION}/workspace/data/workflow_etl\"\n",
    "\n",
    "print(f\"BUCKET_URI: {BUCKET_URI}\")\n",
    "print(f\"MODEL_ARTIFACTS_REPO_GCS: {MODEL_ARTIFACTS_REPO_GCS}\")\n",
    "print(f\"WORKFLOW_REPO_GCS: {WORKFLOW_REPO_GCS}\")"
   ]
  },
  {
   "cell_type": "markdown",
   "id": "6950bd0c-a7aa-4bd1-a922-130db05f95c3",
   "metadata": {},
   "source": [
    "### triton credentials\n",
    "\n",
    "* see [model_repository user guide](https://github.com/triton-inference-server/server/blob/main/docs/user_guide/model_repository.md#cloud-storage-with-environment-variables) re: GCS environment variables and `TRITON_CLOUD_CREDENTIAL_PATH`"
   ]
  },
  {
   "cell_type": "code",
   "execution_count": null,
   "id": "da126722-c2b2-43b2-95aa-56e07d3b6bca",
   "metadata": {},
   "outputs": [],
   "source": [
    "from google.oauth2 import service_account\n",
    "\n",
    "# t4rec-nvidia-docs/credentials.json\n",
    "credentials = service_account.Credentials.from_service_account_file('credentials.json')"
   ]
  },
  {
   "cell_type": "markdown",
   "id": "8020e7bb-6de0-4ae4-a405-3aad5577dcda",
   "metadata": {},
   "source": [
    "# Test Endpoint"
   ]
  },
  {
   "cell_type": "code",
   "execution_count": 14,
   "id": "e51a9f19-492e-4e57-a46d-f657cdbefe1e",
   "metadata": {},
   "outputs": [
    {
     "data": {
      "text/plain": [
       "'projects/hybrid-vertex/locations/us-central1/endpoints/7747893403077050368'"
      ]
     },
     "execution_count": 14,
     "metadata": {},
     "output_type": "execute_result"
    }
   ],
   "source": [
    "ENDPOINT_ID='7747893403077050368'\n",
    "endpoint_name = f\"projects/{PROJECT_ID}/locations/{REGION}/endpoints/{ENDPOINT_ID}\"\n",
    "endpoint_name"
   ]
  },
  {
   "cell_type": "code",
   "execution_count": 15,
   "id": "cf7b2d61-b48b-4a02-bae7-f2cc050828a1",
   "metadata": {},
   "outputs": [
    {
     "name": "stderr",
     "output_type": "stream",
     "text": [
      "/usr/local/lib/python3.8/dist-packages/tqdm/auto.py:22: TqdmWarning: IProgress not found. Please update jupyter and ipywidgets. See https://ipywidgets.readthedocs.io/en/stable/user_install.html\n",
      "  from .autonotebook import tqdm as notebook_tqdm\n"
     ]
    }
   ],
   "source": [
    "import json\n",
    "import os\n",
    "from pathlib import Path\n",
    "\n",
    "import numpy as np\n",
    "import requests\n",
    "from google.api import httpbody_pb2\n",
    "from google.cloud import aiplatform_v1 as gapic\n",
    "\n",
    "import nvtabular as nvt\n",
    "\n",
    "from merlin.io import Dataset\n",
    "from merlin.core.dispatch import make_df  # noqa\n",
    "from transformers4rec.torch.utils.data_utils import MerlinDataLoader\n",
    "\n",
    "import tritonclient.http as triton_http # client\n",
    "import nvtabular.inference.triton as nvt_triton\n",
    "import tritonclient.grpc as grpcclient\n",
    "\n",
    "import torch "
   ]
  },
  {
   "cell_type": "markdown",
   "id": "ed3eed85-0d28-41a7-b21a-66da1905e247",
   "metadata": {},
   "source": [
    "## get nvtabular schema"
   ]
  },
  {
   "cell_type": "code",
   "execution_count": 16,
   "id": "0ee1d0c9-d81f-4375-bbab-9972399be9a8",
   "metadata": {},
   "outputs": [],
   "source": [
    "from merlin_standard_lib import Schema\n",
    "# SCHEMA_PATH = os.environ.get(\"INPUT_SCHEMA_PATH\", \"/workspace/data/processed_nvt/schema.pbtxt\")\n",
    "\n",
    "SCHEMA_PATH = f'{TRANSFORMED_WORKFLOW}/schema.pbtxt'\n",
    "schema = Schema().from_proto_text(SCHEMA_PATH)"
   ]
  },
  {
   "cell_type": "code",
   "execution_count": 232,
   "id": "08de312b-eebc-45ed-a156-5b3d6a38165d",
   "metadata": {},
   "outputs": [
    {
     "data": {
      "text/plain": [
       "['age_days-list', 'weekday_sin-list', 'item_id-list', 'category-list']"
      ]
     },
     "execution_count": 232,
     "metadata": {},
     "output_type": "execute_result"
    }
   ],
   "source": [
    "schema.column_names"
   ]
  },
  {
   "cell_type": "markdown",
   "id": "8b5486d8-8f96-4447-804d-ff0ae674b7df",
   "metadata": {},
   "source": [
    "### get test data"
   ]
  },
  {
   "cell_type": "code",
   "execution_count": 18,
   "id": "f5add044-c2c0-4748-a985-9d67171c1c70",
   "metadata": {},
   "outputs": [],
   "source": [
    "TEST_PATHS=f'{OUTPUT_DIR}/1/test.parquet'\n",
    "dataset = Dataset(TEST_PATHS)"
   ]
  },
  {
   "cell_type": "code",
   "execution_count": 19,
   "id": "58658e4c-a392-47f4-a9d6-0d3310c6e319",
   "metadata": {},
   "outputs": [],
   "source": [
    "sparse_max = {\n",
    "    'age_days-list': 20,\n",
    "    'weekday_sin-list': 20,\n",
    "    'item_id-list': 20,\n",
    "    'category-list': 20\n",
    "}\n",
    "\n",
    "from transformers4rec.torch.utils.data_utils import MerlinDataLoader\n",
    "\n",
    "def generate_dataloader(schema, dataset, batch_size=128, seq_length=20):\n",
    "    loader = MerlinDataLoader.from_schema(\n",
    "            schema,\n",
    "            dataset,\n",
    "            batch_size=batch_size,\n",
    "            max_sequence_length=seq_length,\n",
    "            shuffle=False,\n",
    "            sparse_as_dense=True,\n",
    "            sparse_max=sparse_max\n",
    "        )\n",
    "    return loader\n",
    "\n",
    "loader = generate_dataloader(schema, dataset)\n",
    "test_dict = next(iter(loader))\n",
    "# test_dict[0]"
   ]
  },
  {
   "cell_type": "markdown",
   "id": "f48fb3ab-3c9a-4d2c-b47b-c305152660e2",
   "metadata": {},
   "source": [
    "### load model locally"
   ]
  },
  {
   "cell_type": "code",
   "execution_count": 20,
   "id": "6bd42f21-c986-4b83-8c25-b0150ec1367b",
   "metadata": {},
   "outputs": [],
   "source": [
    "import cloudpickle\n",
    "loaded_model = cloudpickle.load(\n",
    "    open(os.path.join(MODEL_PATH, \"t4rec_model_class.pkl\"), \"rb\")\n",
    ")\n",
    "\n",
    "model = loaded_model.cuda()\n",
    "# model.eval()"
   ]
  },
  {
   "cell_type": "code",
   "execution_count": 21,
   "id": "e61053a9-ec0f-44ff-8852-4daf8d7121e0",
   "metadata": {},
   "outputs": [
    {
     "name": "stderr",
     "output_type": "stream",
     "text": [
      "/usr/local/lib/python3.8/dist-packages/merlin/schema/tags.py:148: UserWarning: Compound tags like Tags.ITEM_ID have been deprecated and will be removed in a future version. Please use the atomic versions of these tags, like [<Tags.ITEM: 'item'>, <Tags.ID: 'id'>].\n",
      "  warnings.warn(\n"
     ]
    }
   ],
   "source": [
    "traced_model = torch.jit.trace(model, test_dict[0], strict=True)\n",
    "\n",
    "input_schema = model.input_schema\n",
    "output_schema = model.output_schema"
   ]
  },
  {
   "cell_type": "markdown",
   "id": "67962c83-40e9-4544-a010-2ed1f6b995a1",
   "metadata": {},
   "source": [
    "## create test instances payload\n",
    "\n",
    "**TODO**\n",
    "* update and parameterize"
   ]
  },
  {
   "cell_type": "code",
   "execution_count": null,
   "id": "6ba382db-6ca6-4f76-9c41-95c5a00ee7c3",
   "metadata": {},
   "outputs": [],
   "source": [
    "# projects/934903580331/locations/us-central1/endpoints/7747893403077050368\n",
    "# v03 'projects/hybrid-vertex/locations/us-central1/endpoints/7043924486323699712'"
   ]
  },
  {
   "cell_type": "code",
   "execution_count": 23,
   "id": "14d5e3e9-70d5-46c4-a703-8efd17654bb8",
   "metadata": {},
   "outputs": [],
   "source": [
    "from pprint import pprint\n",
    "\n",
    "a = test_dict[0]['age_days-list'].cuda().cpu().clone().numpy()\n",
    "b = test_dict[0]['weekday_sin-list'].cuda().cpu().clone().numpy()\n",
    "c = test_dict[0]['category-list'].cuda().cpu().clone().numpy()\n",
    "d = test_dict[0]['item_id-list'].cuda().cpu().clone().numpy()\n",
    "\n",
    "# payload_dict = {}\n",
    "# payload_dict['age_days-list']=a\n",
    "# payload_dict['weekday_sin-list']=b\n",
    "# payload_dict['category-list']=c\n",
    "# payload_dict['item_id-list']=d\n",
    "\n",
    "a2 = a[0:32]\n",
    "b2 = b[0:32]\n",
    "c2 = c[0:32]\n",
    "d2 = d[0:32]"
   ]
  },
  {
   "cell_type": "code",
   "execution_count": 45,
   "id": "c80c88c7-4330-4ef0-8efb-a244e981dca4",
   "metadata": {},
   "outputs": [
    {
     "data": {
      "text/plain": [
       "20"
      ]
     },
     "execution_count": 45,
     "metadata": {},
     "output_type": "execute_result"
    }
   ],
   "source": [
    "len(a2[0])"
   ]
  },
  {
   "cell_type": "markdown",
   "id": "dda86a32-501e-4ed1-8827-59c820d7461d",
   "metadata": {},
   "source": [
    "### small payload"
   ]
  },
  {
   "cell_type": "code",
   "execution_count": 27,
   "id": "c136c0b4-31b6-4de7-9938-d816ba9f3651",
   "metadata": {},
   "outputs": [],
   "source": [
    "SINGLE_PAYLOAD_LOCAL_FILENAME='single_t4rec_payload.json'\n",
    "\n",
    "smaller_payload = {\n",
    "    # 'id': '1',\n",
    "    \"inputs\":[\n",
    "        {\n",
    "            \"name\": \"age_days-list\",\n",
    "            \"shape\": [1,20],\n",
    "            \"datatype\": 'FP32', #\"TYPE_FP32\",\n",
    "            \"data\":a2[0].tolist()\n",
    "        },\n",
    "        {\n",
    "            \"name\": \"weekday_sin-list\",\n",
    "            \"shape\": [1,20],\n",
    "            \"datatype\": 'FP32', #\"TYPE_FP32\",\n",
    "            \"data\":b2[0].tolist() #b[0].tolist() #[float(s) for s in b[0].tolist()]\n",
    "        },\n",
    "        {\n",
    "            \"name\": \"item_id-list\",\n",
    "            \"shape\": [1,20],\n",
    "            \"datatype\": 'INT64', #\"TYPE_INT64\",\n",
    "            \"data\":c2[0].tolist() #c[0].tolist() #[int(s) for s in c[0].tolist()]\n",
    "        },\n",
    "        {\n",
    "            \"name\": \"category-list\",\n",
    "            \"shape\": [1,20],\n",
    "            \"datatype\": 'INT64',# \"TYPE_INT64\",\n",
    "            \"data\":d2[0].tolist() #d[0].tolist() #[int(s) for s in d[0].tolist()]\n",
    "        },\n",
    "    ],\n",
    "    \"outputs\": [\n",
    "        {\n",
    "            \"name\": \"next-item\",\n",
    "            \"parameters\":{\"binary_data\":False}\n",
    "        }\n",
    "    ]\n",
    "}\n",
    "\n",
    "with open(SINGLE_PAYLOAD_LOCAL_FILENAME, 'w') as f:\n",
    "    json.dump(smaller_payload, f)"
   ]
  },
  {
   "cell_type": "code",
   "execution_count": 29,
   "id": "dadaa1d1-fdaf-4f9c-a0df-cb159bfdc8e8",
   "metadata": {},
   "outputs": [
    {
     "name": "stdout",
     "output_type": "stream",
     "text": [
      "{\"inputs\": [{\"name\": \"age_days-list\", \"shape\": [1, 20], \"datatype\": \"FP32\", \"data\": [0.7424173355102539, 0.7332683205604553, 0.09815418720245361, 0.4467461109161377, 0.6173868775367737, 0.11097356677055359, 0.4968095123767853, 0.4523400366306305, 0.3517908453941345, 0.29413312673568726, 0.7820895314216614, 0.21377669274806976, 0.0, 0.0, 0.0, 0.0, 0.0, 0.0, 0.0, 0.0]}, {\"name\": \"weekday_sin-list\", \"shape\": [1, 20], \"datatype\": \"FP32\", \"data\": [0.27244293689727783, 0.469150185585022, 0.7858142256736755, 0.45554742217063904, 0.49801334738731384, 0.9712715744972229, 0.16286295652389526, 0.6930072903633118, 0.6746281385421753, 0.18748827278614044, 0.36374929547309875, 0.34085774421691895, 0.0, 0.0, 0.0, 0.0, 0.0, 0.0, 0.0, 0.0]}, {\"name\": \"item_id-list\", \"shape\": [1, 20], \"datatype\": \"INT64\", \"data\": [7, 2, 4, 1, 4, 2, 10, 25, 2, 2, 1, 2, 0, 0, 0, 0, 0, 0, 0, 0]}, {\"name\": \"category-list\", \"shape\": [1, 20], \"datatype\": \"INT64\", \"data\": [26, 9, 16, 3, 15, 7, 47, 117, 10, 10, 1, 7, 0, 0, 0, 0, 0, 0, 0, 0]}], \"outputs\": [{\"name\": \"next-item\", \"parameters\": {\"binary_data\": false}}]}"
     ]
    }
   ],
   "source": [
    "! cat ./$SINGLE_PAYLOAD_LOCAL_FILENAME"
   ]
  },
  {
   "cell_type": "markdown",
   "id": "4e6272ee-c20c-45b8-9615-1fd6fb453680",
   "metadata": {},
   "source": [
    "### larger payload"
   ]
  },
  {
   "cell_type": "markdown",
   "id": "47da5914-9db6-4584-8edf-02ad42bf1a7b",
   "metadata": {},
   "source": [
    "> this doesnt work, figure out best way to send *batches* of prediction requests"
   ]
  },
  {
   "cell_type": "code",
   "execution_count": 49,
   "id": "b3ea770c-1c0a-4365-9519-eb08acce96c2",
   "metadata": {},
   "outputs": [],
   "source": [
    "# BATCH_PAYLOAD_LOCAL_FILENAME='t4rec_payload.json'\n",
    "\n",
    "# payload = {\n",
    "#     # 'id': '1',\n",
    "#     \"inputs\":[\n",
    "#         {\n",
    "#             \"name\": \"age_days-list\",\n",
    "#             \"shape\": [32,20],\n",
    "#             \"datatype\": 'FP32', #\"TYPE_FP32\",\n",
    "#             \"data\":a2.tolist()\n",
    "#         },\n",
    "#         {\n",
    "#             \"name\": \"weekday_sin-list\",\n",
    "#             \"shape\": [32,20],\n",
    "#             \"datatype\": 'FP32', #\"TYPE_FP32\",\n",
    "#             \"data\":b2.tolist() #b[0].tolist() #[float(s) for s in b[0].tolist()]\n",
    "#         },\n",
    "#         {\n",
    "#             \"name\": \"item_id-list\",\n",
    "#             \"shape\": [32,20],\n",
    "#             \"datatype\": 'INT64', #\"TYPE_INT64\",\n",
    "#             \"data\":c2.tolist() #c[0].tolist() #[int(s) for s in c[0].tolist()]\n",
    "#         },\n",
    "#         {\n",
    "#             \"name\": \"category-list\",\n",
    "#             \"shape\": [32,20],\n",
    "#             \"datatype\": 'INT64',# \"TYPE_INT64\",\n",
    "#             \"data\":d2.tolist() #d[0].tolist() #[int(s) for s in d[0].tolist()]\n",
    "#         },\n",
    "#     ],\n",
    "#     \"outputs\": [\n",
    "#         {\n",
    "#             \"name\": \"next-item\",\n",
    "#             \"parameters\":{\"binary_data\":False}\n",
    "#         }\n",
    "#     ]\n",
    "# }\n",
    "\n",
    "# with open(BATCH_PAYLOAD_LOCAL_FILENAME, 'w') as f:\n",
    "#     json.dump(payload, f)"
   ]
  },
  {
   "cell_type": "code",
   "execution_count": 32,
   "id": "284f163d-20c8-4f48-b34e-024688d4507f",
   "metadata": {},
   "outputs": [],
   "source": [
    "# ! cat ./$BATCH_PAYLOAD_LOCAL_FILENAME"
   ]
  },
  {
   "cell_type": "markdown",
   "id": "e5e34c6d-a20c-4d01-bcbc-be914f245a77",
   "metadata": {},
   "source": [
    "## create endpoint prediction requests"
   ]
  },
  {
   "cell_type": "code",
   "execution_count": 66,
   "id": "52aa1e89-2b0d-494d-a063-a8a27abbc9c2",
   "metadata": {},
   "outputs": [],
   "source": [
    "import time\n",
    "\n",
    "def get_triton_prediction_vertex(\n",
    "    model_name, \n",
    "    endpoint_name,\n",
    "    schema,\n",
    "    instances_dict,\n",
    "    local_payload_json,\n",
    "    api_endpoint=f\"{REGION}-aiplatform.googleapis.com\",\n",
    "    headers=None,\n",
    "    seq_length=20,\n",
    "    eval_batch_size=32,\n",
    "):\n",
    "    # set up vertex ai prediction client\n",
    "    client_options = {\"api_endpoint\": api_endpoint}\n",
    "    gapic_client = gapic.PredictionServiceClient(client_options=client_options)\n",
    "    \n",
    "    # to provide json of instances\n",
    "    with open(local_payload_json) as f: # single_t4rec_payload | t4rec_payload\n",
    "        http_body = httpbody_pb2.HttpBody(\n",
    "            data=f.read().encode(\"utf-8\"),\n",
    "            content_type=\"application/json\",\n",
    "        )\n",
    "    \n",
    "    # print(f\"http_body: {http_body}\")\n",
    "    # print(f\"data: {data}\")\n",
    "    \n",
    "    # submit inference request\n",
    "    request = gapic.RawPredictRequest(\n",
    "        endpoint=endpoint_name,\n",
    "        http_body=http_body\n",
    "    )\n",
    "    \n",
    "    start=time.time()\n",
    "    # print(f\"request: {request}\")\n",
    "    response = gapic_client.raw_predict(\n",
    "        request=request, \n",
    "        metadata=headers,\n",
    "        # endpoint=endpoint_name\n",
    "    )\n",
    "    # capture elapsed time\n",
    "    end = time.time()\n",
    "    elapsed = end - start\n",
    "    elapsed = round(elapsed, 4)\n",
    "    print(f'inference latency: {elapsed} seconds')\n",
    "    \n",
    "    # get result as json\n",
    "    result_http = json.loads(response.data.decode('utf-8'))\n",
    "    print(f\"response: {result_http['outputs'][0]['data']}\")"
   ]
  },
  {
   "cell_type": "code",
   "execution_count": 67,
   "id": "9d4e0566-6eb7-4292-8eb5-07a31f09b94a",
   "metadata": {},
   "outputs": [
    {
     "data": {
      "text/plain": [
       "'projects/hybrid-vertex/locations/us-central1/endpoints/2776763839390154752'"
      ]
     },
     "execution_count": 67,
     "metadata": {},
     "output_type": "execute_result"
    }
   ],
   "source": [
    "# ENDPOINT_ID='7747893403077050368' # v02 \n",
    "# ENDPOINT_ID='7043924486323699712' # v03\n",
    "ENDPOINT_ID='2776763839390154752' # v03-v2\n",
    "endpoint_name = f\"projects/{PROJECT_ID}/locations/{REGION}/endpoints/{ENDPOINT_ID}\"\n",
    "endpoint_name"
   ]
  },
  {
   "cell_type": "code",
   "execution_count": 68,
   "id": "b389adcf-9027-4c46-9deb-21fd5751563e",
   "metadata": {},
   "outputs": [
    {
     "name": "stdout",
     "output_type": "stream",
     "text": [
      "Predictions from model: 0_predictpytorchtriton\n",
      "inference latency: 0.1161 seconds\n",
      "response: [-9.414483070373535, -3.3946754932403564, -3.5153329372406006, -3.325957775115967, -3.4902701377868652, -3.414525032043457, -3.5283923149108887, -3.5137453079223633, -3.4412429332733154, -3.624793529510498, -3.677654504776001, -3.5000057220458984, -3.650045871734619, -3.683887481689453, -3.886939764022827, -3.709595203399658, -3.735921621322632, -3.9285502433776855, -4.010989189147949, -3.936932325363159, -4.215701580047607, -4.093976020812988, -4.144990921020508, -3.9316093921661377, -4.249298095703125, -4.173276901245117, -4.337774276733398, -4.512059211730957, -4.223840236663818, -4.338855266571045, -4.346428394317627, -4.538280963897705, -4.724963188171387, -4.690615653991699, -4.761604309082031, -4.527646064758301, -4.78475284576416, -4.612557411193848, -4.800440788269043, -4.953672885894775, -4.790022850036621, -5.047253608703613, -4.920400619506836, -4.958305835723877, -4.863715648651123, -5.355832099914551, -5.2377543449401855, -5.239851951599121, -5.340198516845703, -5.119828224182129, -5.2428507804870605, -5.332828521728516, -5.41032075881958, -5.525260925292969, -5.827642440795898, -5.339012145996094, -5.391599655151367, -5.6541829109191895, -5.458539009094238, -5.652648448944092, -5.475961685180664, -5.5451812744140625, -5.813302993774414, -6.011467456817627, -5.788135528564453, -6.018367767333984, -5.529067039489746, -5.743496894836426, -6.1866044998168945, -5.881217002868652, -5.990068435668945, -6.0738067626953125, -6.230805397033691, -6.1292219161987305, -6.1071248054504395, -6.473668098449707, -6.541872978210449, -6.064968109130859, -6.024198532104492, -6.200433731079102, -6.59541130065918, -6.310712814331055, -6.552626609802246, -6.157291889190674, -7.028134346008301, -6.708528518676758, -6.651010513305664, -6.865253448486328, -6.614130973815918, -6.643157005310059, -6.6262898445129395, -6.876589775085449, -7.0693440437316895, -6.930054664611816, -6.744922637939453, -6.447902679443359, -7.023382186889648, -7.140835285186768, -6.788707256317139, -7.092394828796387, -7.118992805480957, -6.637454032897949, -7.071427345275879, -7.402929306030273, -7.181918621063232, -7.020259380340576, -6.981005668640137, -7.218196868896484, -7.148180961608887, -7.495018005371094, -7.185509204864502, -7.29437255859375, -6.9041032791137695, -7.296346664428711, -7.290149688720703, -7.483741760253906, -7.321937561035156, -7.569578647613525, -7.463766574859619, -7.551511287689209, -7.559449672698975, -7.463316917419434, -7.349019527435303, -7.525351047515869, -7.347804069519043, -7.739709854125977, -7.648163318634033, -7.385322093963623, -8.041742324829102, -7.7951130867004395, -7.548418998718262, -8.090707778930664, -7.925048351287842, -7.784323215484619, -7.623295307159424, -7.934448719024658, -7.78757905960083, -7.883009910583496, -7.748541831970215, -7.652000904083252, -7.616652011871338, -7.964833736419678, -7.8067426681518555, -7.476635456085205, -8.164318084716797, -8.407369613647461, -7.976262092590332, -8.083866119384766, -8.683174133300781, -8.068190574645996, -7.777001857757568, -7.934122562408447, -7.951279163360596, -7.730152606964111, -7.918931484222412, -7.7652177810668945, -8.165818214416504, -7.952490329742432, -8.10103702545166, -8.558826446533203, -8.653924942016602, -8.050420761108398, -7.869300842285156, -8.368829727172852, -8.392681121826172, -8.134121894836426, -8.317039489746094, -8.101253509521484, -8.229963302612305, -8.349050521850586, -8.08188247680664, -8.099461555480957, -8.47871208190918, -8.031819343566895, -8.221776962280273, -8.885601043701172, -8.883817672729492, -8.353029251098633, -8.544925689697266, -8.442302703857422, -8.346097946166992, -8.293865203857422, -8.574155807495117, -8.717884063720703, -8.657581329345703, -8.459059715270996, -8.629362106323242, -8.803865432739258, -8.435159683227539, -9.057729721069336, -9.471246719360352, -8.569541931152344, -8.47585678100586, -8.688751220703125, -9.089286804199219, -8.961126327514648, -8.655996322631836, -8.996391296386719, -8.927310943603516, -8.619041442871094, -9.035770416259766, -8.776288986206055, -9.07767105102539, -8.217401504516602, -8.80450439453125, -8.85407829284668, -8.83336067199707, -8.76803207397461, -8.73704719543457, -8.887483596801758, -8.922618865966797, -8.864012718200684, -8.843912124633789, -8.694587707519531, -8.893514633178711, -8.386682510375977, -8.526687622070312, -8.98695182800293, -8.998940467834473, -8.812667846679688, -8.813631057739258, -8.752229690551758, -8.585355758666992, -8.898214340209961, -9.214574813842773, -8.539153099060059, -9.203903198242188, -9.079797744750977, -9.23321533203125, -9.091226577758789, -9.206012725830078, -8.757810592651367, -8.958256721496582, -9.245105743408203, -9.042085647583008, -9.257980346679688, -9.038652420043945, -8.927403450012207, -8.913429260253906, -9.521106719970703, -8.990392684936523, -9.122306823730469, -8.565608978271484, -8.942888259887695, -9.105829238891602, -9.346187591552734, -8.784452438354492, -9.317975997924805, -9.960447311401367, -9.313465118408203, -9.49931526184082, -9.376127243041992, -9.147773742675781, -9.286584854125977, -9.369714736938477, -9.444847106933594, -9.401729583740234, -9.096807479858398, -8.9512939453125, -9.560235977172852, -9.269852638244629, -9.361440658569336, -9.32199478149414, -9.520153045654297, -9.707723617553711, -9.055183410644531, -9.736148834228516, -8.881219863891602, -9.121715545654297, -8.982427597045898, -9.57362174987793, -9.662847518920898, -9.606581687927246, -9.994146347045898, -9.307863235473633, -9.235054016113281, -8.59547233581543, -9.221076965332031, -9.397239685058594, -9.839046478271484, -9.369485855102539, -9.50571060180664, -9.6115083694458, -9.266082763671875, -9.697985649108887, -9.433574676513672, -9.540895462036133, -9.639946937561035, -9.03579330444336, -9.816683769226074, -9.540809631347656, -9.711180686950684, -9.40739631652832, -9.457157135009766, -9.58079719543457, -8.921268463134766, -9.44515609741211, -10.266532897949219, -8.992866516113281, -9.480554580688477, -9.318607330322266, -9.593820571899414, -9.510322570800781, -9.381122589111328, -9.583919525146484, -10.144723892211914, -9.525230407714844, -10.049918174743652, -9.16281509399414, -9.771291732788086, -9.904187202453613, -9.039436340332031, -9.786197662353516, -9.872726440429688, -9.700571060180664, -9.506103515625, -9.377243041992188, -9.46200942993164, -9.850687026977539, -9.49801254272461, -9.179972648620605, -9.467926025390625, -9.751558303833008, -10.414063453674316, -10.019548416137695, -9.68461799621582, -9.417890548706055, -9.711181640625, -10.18128776550293, -9.865766525268555, -9.795976638793945, -9.880468368530273, -9.121206283569336, -9.49763298034668, -9.08615493774414, -9.733924865722656, -9.796552658081055, -9.516486167907715, -9.293794631958008, -9.871292114257812, -9.58194351196289, -9.593046188354492, -9.868637084960938, -9.939092636108398, -9.543153762817383, -9.456493377685547, -9.74441909790039, -9.931072235107422, -9.173728942871094, -9.444543838500977, -9.858524322509766, -9.591556549072266, -9.486137390136719, -9.638406753540039, -9.518695831298828, -9.326604843139648, -9.476482391357422, -9.890411376953125, -9.678882598876953, -9.156274795532227, -9.887990951538086, -9.828481674194336, -9.7576322555542, -9.491996765136719, -9.956979751586914, -10.169784545898438, -8.96701431274414, -9.58017349243164, -9.61813735961914, -9.650016784667969, -9.787763595581055, -10.286270141601562, -9.381719589233398, -9.019256591796875, -9.825857162475586, -9.777267456054688, -9.910694122314453, -9.59174919128418, -9.989439010620117, -9.105819702148438, -9.216986656188965, -10.541492462158203, -9.201324462890625, -10.591242790222168, -9.159698486328125, -9.729405403137207, -10.177501678466797, -10.620826721191406, -9.153741836547852, -10.091197967529297, -9.46286392211914, -9.898801803588867, -10.224454879760742, -10.066659927368164, -9.630592346191406, -9.465484619140625, -9.73922348022461, -9.676996231079102, -9.970781326293945, -9.648509979248047, -9.813399314880371, -9.80954360961914, -9.390412330627441, -9.818540573120117, -9.876340866088867, -9.925756454467773, -10.340965270996094, -9.684471130371094, -9.822563171386719, -9.686301231384277, -9.822986602783203, -10.003536224365234, -10.287200927734375, -10.81019401550293, -10.302462577819824, -9.299777030944824, -10.136791229248047, -10.410640716552734, -9.636802673339844, -9.861122131347656, -9.402667999267578, -9.458234786987305, -10.157663345336914, -9.342525482177734, -9.241392135620117, -10.657526969909668, -9.51763916015625, -9.659401893615723, -9.808694839477539, -10.061775207519531, -9.82619857788086, -10.044367790222168, -8.97431755065918, -10.318109512329102, -9.764876365661621, -9.73438835144043, -9.251230239868164, -9.985477447509766, -9.940458297729492, -9.633279800415039, -10.26142692565918, -10.26129150390625, -9.684906005859375, -9.771854400634766, -10.562944412231445, -10.030500411987305, -9.740200996398926, -9.228963851928711, -10.416019439697266, -9.955789566040039, -10.012174606323242, -10.209535598754883, -9.907205581665039, -9.546148300170898, -10.293018341064453, -9.707033157348633, -10.430438995361328, -10.167692184448242, -9.905256271362305, -10.03915786743164, -9.791607856750488, -10.14579963684082, -9.383123397827148, -10.028524398803711, -9.756109237670898, -9.916872024536133, -9.981985092163086, -9.229249000549316, -10.072486877441406, -9.871566772460938, -10.024578094482422, -10.041366577148438, -10.494514465332031, -9.559593200683594, -9.210533142089844, -9.425004959106445, -9.758010864257812, -10.412229537963867, -9.419034957885742, -10.029541015625, -9.633180618286133, -10.489469528198242, -10.09225082397461, -9.682245254516602, -9.639392852783203, -9.974884033203125, -9.166357040405273, -9.199779510498047, -9.280328750610352, -9.484969139099121, -10.178030014038086]\n",
      "-----\n"
     ]
    }
   ],
   "source": [
    "for model_name in [\"0_predictpytorchtriton\"]:\n",
    "    print(f\"Predictions from model: {model_name}\")\n",
    "    headers =  {\"x-vertex-ai-triton-redirect\": f\"v2/models/{model_name}/infer\"}\n",
    "    get_triton_prediction_vertex(\n",
    "        model_name, \n",
    "        endpoint_name,\n",
    "        schema,\n",
    "        test_dict,\n",
    "        local_payload_json=SINGLE_PAYLOAD_LOCAL_FILENAME, #BATCH_PAYLOAD_LOCAL_FILENAME\n",
    "        headers=tuple(\n",
    "            headers.items()\n",
    "        )\n",
    "    )\n",
    "    print(\"-\"*5)"
   ]
  },
  {
   "cell_type": "markdown",
   "id": "02ee9dd7-0bd4-4d64-a8dd-b96af2e8b3be",
   "metadata": {},
   "source": [
    "# WIP\n",
    "\n",
    "### and local testing"
   ]
  },
  {
   "cell_type": "code",
   "execution_count": 69,
   "id": "5ea4be0d-a26d-4acb-8789-7c61009db1c8",
   "metadata": {},
   "outputs": [],
   "source": [
    "# WORKFLOW_DIR = 'gs://merlin-transformers4rec-jvt02/v02/workspace/data/workflow_etl'\n",
    "# workflow = nvt.Workflow.load(WORKFLOW_DIR)\n",
    "# workflow.output_schema"
   ]
  },
  {
   "cell_type": "markdown",
   "id": "897a6171-10ee-4718-bb1e-1ff4b4930da9",
   "metadata": {},
   "source": [
    "#### [1] calling `rawPredict` using Vertex AI SDK"
   ]
  },
  {
   "cell_type": "code",
   "execution_count": 55,
   "id": "98b371aa-ec7d-4880-b3a5-1d72f7387f9a",
   "metadata": {},
   "outputs": [],
   "source": [
    "# initialize service client\n",
    "client_options = {\"api_endpoint\": f\"{REGION}-aiplatform.googleapis.com\"}\n",
    "prediction_client = gapic.PredictionServiceClient(client_options=client_options)"
   ]
  },
  {
   "cell_type": "code",
   "execution_count": 61,
   "id": "735b2b1b-cd8e-46f6-a863-3150f9b4fde0",
   "metadata": {},
   "outputs": [],
   "source": [
    "# TRAIN_PATHS=f'{OUTPUT_DIR}/1/train.parquet'\n",
    "# dataset = Dataset(TRAIN_PATHS)"
   ]
  },
  {
   "cell_type": "code",
   "execution_count": 66,
   "id": "1aaa27bd-eed2-4338-b755-d4c58abec95a",
   "metadata": {},
   "outputs": [],
   "source": [
    "# import cloudpickle\n",
    "# loaded_model = cloudpickle.load(\n",
    "#     open(os.path.join(MODEL_PATH, \"t4rec_model_class.pkl\"), \"rb\")\n",
    "# )"
   ]
  },
  {
   "cell_type": "code",
   "execution_count": 68,
   "id": "0942fe8e-a6b8-4cb4-809d-a24407c4598b",
   "metadata": {},
   "outputs": [],
   "source": [
    "# model = loaded_model.cuda()\n",
    "# model.eval()"
   ]
  },
  {
   "cell_type": "code",
   "execution_count": 70,
   "id": "14db5528-a062-40a1-b88e-985573d2e788",
   "metadata": {},
   "outputs": [],
   "source": [
    "# traced_model = torch.jit.trace(model, train_dict[0], strict=True)"
   ]
  },
  {
   "cell_type": "code",
   "execution_count": 71,
   "id": "499e0524-2884-4bc1-a73f-8cad785f48d9",
   "metadata": {},
   "outputs": [],
   "source": [
    "# input_schema = model.input_schema\n",
    "# output_schema = model.output_schema"
   ]
  },
  {
   "cell_type": "code",
   "execution_count": 72,
   "id": "3d542c29-d0f9-40bd-b449-a9d3ead6e8e0",
   "metadata": {},
   "outputs": [],
   "source": [
    "# input_schema"
   ]
  },
  {
   "cell_type": "code",
   "execution_count": 73,
   "id": "1d2475e3-258c-4ab0-bc38-96074f1786c4",
   "metadata": {},
   "outputs": [],
   "source": [
    "# df_cols = {}\n",
    "# for name, tensor in train_dict[0].items():\n",
    "#     if name in input_schema.column_names:\n",
    "#         df_cols[name] = tensor.cpu().numpy()\n",
    "#         if len(tensor.shape) > 1:\n",
    "#             df_cols[name] = list(df_cols[name])\n",
    "            \n",
    "# df = make_df(df_cols)\n",
    "# print(df.shape)\n",
    "# df.head()"
   ]
  },
  {
   "cell_type": "code",
   "execution_count": 74,
   "id": "5a0b867a-2c72-4e3e-936d-bec22178483c",
   "metadata": {},
   "outputs": [],
   "source": [
    "# batch = df.iloc[:50,:]\n",
    "# batch.head()"
   ]
  },
  {
   "cell_type": "code",
   "execution_count": 76,
   "id": "6bdd4b88-f028-4c1b-8a5a-1e9e1003204f",
   "metadata": {},
   "outputs": [
    {
     "name": "stdout",
     "output_type": "stream",
     "text": [
      "{'next-item': array([[ -9.414465 ,  -3.3946402,  -3.5153313, ...,  -9.280334 ,\n",
      "         -9.484825 , -10.178284 ],\n",
      "       [ -9.414481 ,  -3.3946645,  -3.5153518, ...,  -9.280359 ,\n",
      "         -9.484777 , -10.178347 ],\n",
      "       [ -9.414499 ,  -3.3946452,  -3.5154536, ...,  -9.280445 ,\n",
      "         -9.484086 , -10.179337 ],\n",
      "       ...,\n",
      "       [ -9.414593 ,  -3.394685 ,  -3.5153685, ...,  -9.280357 ,\n",
      "         -9.484976 , -10.178085 ],\n",
      "       [ -9.414569 ,  -3.3946962,  -3.515378 , ...,  -9.280379 ,\n",
      "         -9.484813 , -10.178307 ],\n",
      "       [ -9.414568 ,  -3.3946936,  -3.5153277, ...,  -9.280327 ,\n",
      "         -9.485282 , -10.177661 ]], dtype=float32)}\n"
     ]
    }
   ],
   "source": [
    "# from merlin.systems.triton.utils import send_triton_request\n",
    "# response = send_triton_request(input_schema, df[input_schema.column_names], output_schema.column_names)\n",
    "# print(response)"
   ]
  },
  {
   "cell_type": "code",
   "execution_count": 198,
   "id": "d5e8898e-a986-44a4-bf28-f956b42cbf20",
   "metadata": {},
   "outputs": [
    {
     "data": {
      "text/plain": [
       "[<tritonclient.grpc.InferInput at 0x7fe0bd7b61f0>,\n",
       " <tritonclient.grpc.InferInput at 0x7fe0bc98e1c0>,\n",
       " <tritonclient.grpc.InferInput at 0x7fe0b57beaf0>,\n",
       " <tritonclient.grpc.InferInput at 0x7fe0b57c69a0>,\n",
       " <tritonclient.grpc.InferInput at 0x7fe0b57c6d00>,\n",
       " <tritonclient.grpc.InferInput at 0x7fe0b57c6bb0>,\n",
       " <tritonclient.grpc.InferInput at 0x7fe0b57fec70>,\n",
       " <tritonclient.grpc.InferInput at 0x7fe0b577b3a0>]"
      ]
     },
     "execution_count": 198,
     "metadata": {},
     "output_type": "execute_result"
    }
   ],
   "source": [
    "# inputs = nvt_triton.convert_df_to_triton_input(df.columns, df, grpcclient.InferInput)\n",
    "# inputs"
   ]
  },
  {
   "cell_type": "code",
   "execution_count": null,
   "id": "7adc83aa-954b-4a57-99a0-226e5d012a7c",
   "metadata": {},
   "outputs": [],
   "source": [
    "# # format payload\n",
    "# http_body = httpbody_pb2.HttpBody(\n",
    "#     data=open(payload_file).read().encode(\"utf-8\"),\n",
    "#     content_type=\"application/json\",\n",
    "# )\n",
    "\n",
    "# # Initialize request argument(s)\n",
    "# request = gapic.RawPredictRequest(endpoint=endpoint_name, http_body=http_body)"
   ]
  },
  {
   "cell_type": "markdown",
   "id": "cde8fd1f-f383-41a9-a8cd-3d3d291a5f2a",
   "metadata": {},
   "source": [
    "## curl"
   ]
  },
  {
   "cell_type": "code",
   "execution_count": 81,
   "id": "462f102a-ab7e-4dd7-82be-f372016c8d6e",
   "metadata": {},
   "outputs": [],
   "source": [
    "# INPUT_FILE=\"./instances.json\""
   ]
  },
  {
   "cell_type": "code",
   "execution_count": 82,
   "id": "a72847c3-8365-487e-b216-2f1845ada162",
   "metadata": {},
   "outputs": [
    {
     "name": "stdout",
     "output_type": "stream",
     "text": [
      "{\"error\":\"failed to parse the request JSON buffer: Invalid value. at 19125\"}"
     ]
    }
   ],
   "source": [
    "! curl \\\n",
    "-H \"Authorization: Bearer $(gcloud auth print-access-token)\" \\\n",
    "-H \"Content-Type: application/json\" \\\n",
    "--data-binary @$INPUT_FILE \\\n",
    "https://{REGION}-aiplatform.googleapis.com/v1/projects/{PROJECT_ID}/locations/{REGION}/endpoints/{endpoint.name}:rawPredict"
   ]
  },
  {
   "cell_type": "code",
   "execution_count": 75,
   "id": "93a1129b-6887-4280-82fe-1d4d239ff8eb",
   "metadata": {},
   "outputs": [],
   "source": [
    "uri = f'https://{REGION}-aiplatform.googleapis.com/v1/projects/{PROJECT_ID}/locations/{REGION}/endpoints/{endpoint.name}:rawPredict'\n",
    "\n",
    "! curl -X POST \\\n",
    "-H \"Authorization: Bearer $(gcloud auth print-access-token)\" \\\n",
    "-H \"Content-Type: application/json\"  \\\n",
    "{uri} \\\n",
    "-d @t4rec_payload.json"
   ]
  },
  {
   "cell_type": "markdown",
   "id": "1cef4327-8d85-4aa8-999d-7af2011c3da7",
   "metadata": {},
   "source": [
    "## payload\n",
    "\n",
    "* TODO: fix"
   ]
  },
  {
   "cell_type": "code",
   "execution_count": 302,
   "id": "b5a11cce-a6f0-4fe2-b289-5ec8972f8d07",
   "metadata": {},
   "outputs": [],
   "source": [
    "# a = train_dict[0]['age_days-list'].cuda().cpu().clone().numpy()\n",
    "# b = train_dict[0]['weekday_sin-list'].cuda().cpu().clone().numpy()\n",
    "# c = train_dict[0]['category-list'].cuda().cpu().clone().numpy()\n",
    "# d = train_dict[0]['item_id-list'].cuda().cpu().clone().numpy()"
   ]
  },
  {
   "cell_type": "code",
   "execution_count": 109,
   "id": "7988a25e-8e01-4579-a980-212fc6fb651b",
   "metadata": {},
   "outputs": [],
   "source": [
    "# from pprint import pprint\n",
    "\n",
    "# # pprint(train_dict[0])\n",
    "\n",
    "# payload_dict = {}\n",
    "# payload_dict['age_days-list']=a\n",
    "# payload_dict['weekday_sin-list']=b\n",
    "# payload_dict['category-list']=c\n",
    "# payload_dict['item_id-list']=d\n",
    "\n",
    "# a2 = a[0:32]\n",
    "# b2 = b[0:32]\n",
    "# c2 = c[0:32]\n",
    "# d2 = d[0:32]"
   ]
  },
  {
   "cell_type": "code",
   "execution_count": 110,
   "id": "de01057f-4b39-4237-9137-09c084277168",
   "metadata": {},
   "outputs": [
    {
     "data": {
      "text/plain": [
       "{'age_days-list': array([[0.48491085, 0.86484003, 0.13697912, 0.62527317, 0.6846858 ,\n",
       "         0.05689086, 0.95180523, 0.31664136, 0.81627715, 0.12000247,\n",
       "         0.5980053 , 0.3159475 , 0.45607874, 0.9074921 , 0.        ,\n",
       "         0.        , 0.        , 0.        , 0.        , 0.        ]],\n",
       "       dtype=float32),\n",
       " 'weekday_sin-list': array([[0.01403622, 0.3720214 , 0.5400261 , 0.6242002 , 0.8294813 ,\n",
       "         0.93150216, 0.04658586, 0.79152614, 0.5543418 , 0.45621887,\n",
       "         0.56755877, 0.2791969 , 0.8535643 , 0.56864387, 0.        ,\n",
       "         0.        , 0.        , 0.        , 0.        , 0.        ]],\n",
       "       dtype=float32),\n",
       " 'category-list': array([[10,  8, 26,  3, 10,  4,  1, 23, 20,  6,  5,  4,  1,  4,  0,  0,\n",
       "          0,  0,  0,  0]]),\n",
       " 'item_id-list': array([[ 49,  36, 130,  20,  48,  15,   3, 126,  96,  31,  24,  17,   1,\n",
       "          18,   0,   0,   0,   0,   0,   0]])}"
      ]
     },
     "execution_count": 110,
     "metadata": {},
     "output_type": "execute_result"
    }
   ],
   "source": [
    "payload_dict"
   ]
  },
  {
   "cell_type": "markdown",
   "id": "b8819b11-6576-4108-b844-e33ddbf367af",
   "metadata": {},
   "source": [
    "#### generate some payloads"
   ]
  },
  {
   "cell_type": "code",
   "execution_count": 180,
   "id": "5d0ee815-4231-4148-a1ee-979570896655",
   "metadata": {},
   "outputs": [],
   "source": [
    "payload_file = \"payload_bash_ensemble.json\""
   ]
  },
  {
   "cell_type": "code",
   "execution_count": 181,
   "id": "3fb434f3-92eb-4652-ac82-b8afb5f45391",
   "metadata": {},
   "outputs": [
    {
     "name": "stdout",
     "output_type": "stream",
     "text": [
      "Writing payload_ensemble.json\n"
     ]
    }
   ],
   "source": [
    "%%bash -s $payload_file\n",
    "\n",
    "payload_file=$1\n",
    "echo \"Writing $payload_file\"\n",
    "\n",
    "cat <<EOF > $payload_file\n",
    "{\n",
    "    'id': '1',\n",
    "    \"inputs\":[\n",
    "        {\n",
    "            \"name\": \"age_days-list\",\n",
    "            \"shape\": [32,20],\n",
    "            \"datatype\": 'FP32', #\"TYPE_FP32\",\n",
    "            \"data\":a2.tolist()\n",
    "        },\n",
    "        {\n",
    "            \"name\": \"weekday_sin-list\",\n",
    "            \"shape\": [32,20],\n",
    "            \"datatype\": 'FP32', #\"TYPE_FP32\",\n",
    "            \"data\":b2.tolist() #b[0].tolist() #[float(s) for s in b[0].tolist()]\n",
    "        },\n",
    "        {\n",
    "            \"name\": \"item_id-list\",\n",
    "            \"shape\": [32,20],\n",
    "            \"datatype\": 'INT64', #\"TYPE_INT64\",\n",
    "            \"data\":c2.tolist() #c[0].tolist() #[int(s) for s in c[0].tolist()]\n",
    "        },\n",
    "        {\n",
    "            \"name\": \"category-list\",\n",
    "            \"shape\": [32,20],\n",
    "            \"datatype\": 'INT64',# \"TYPE_INT64\",\n",
    "            \"data\":d2.tolist() #d[0].tolist() #[int(s) for s in d[0].tolist()]\n",
    "        }\n",
    "    ]\n",
    "}\n",
    "EOF"
   ]
  },
  {
   "cell_type": "code",
   "execution_count": 182,
   "id": "d98d6b4e-b2cc-436f-bd87-77171bdf68a3",
   "metadata": {},
   "outputs": [
    {
     "name": "stdout",
     "output_type": "stream",
     "text": [
      "content_type: \"application/json\"\n",
      "data: \"{\\n    \\'id\\': \\'1\\',\\n    \\\"inputs\\\":[\\n        {\\n            \\\"name\\\": \\\"age_days-list\\\",\\n            \\\"shape\\\": [32,20],\\n            \\\"datatype\\\": \\'FP32\\', #\\\"TYPE_FP32\\\",\\n            \\\"data\\\":a2.tolist()\\n        },\\n        {\\n            \\\"name\\\": \\\"weekday_sin-list\\\",\\n            \\\"shape\\\": [32,20],\\n            \\\"datatype\\\": \\'FP32\\', #\\\"TYPE_FP32\\\",\\n            \\\"data\\\":b2.tolist() #b[0].tolist() #[float(s) for s in b[0].tolist()]\\n        },\\n        {\\n            \\\"name\\\": \\\"item_id-list\\\",\\n            \\\"shape\\\": [32,20],\\n            \\\"datatype\\\": \\'INT64\\', #\\\"TYPE_INT64\\\",\\n            \\\"data\\\":c2.tolist() #c[0].tolist() #[int(s) for s in c[0].tolist()]\\n        },\\n        {\\n            \\\"name\\\": \\\"category-list\\\",\\n            \\\"shape\\\": [32,20],\\n            \\\"datatype\\\": \\'INT64\\',# \\\"TYPE_INT64\\\",\\n            \\\"data\\\":d2.tolist() #d[0].tolist() #[int(s) for s in d[0].tolist()]\\n        }\\n    ]\\n}\\n\"\n",
      "\n"
     ]
    }
   ],
   "source": [
    "# format payload\n",
    "http_body = httpbody_pb2.HttpBody(\n",
    "    data=open(payload_file).read().encode(\"utf-8\"),\n",
    "    content_type=\"application/json\",\n",
    ")\n",
    "\n",
    "print(http_body)\n",
    "\n",
    "# Initialize request argument(s)\n",
    "request = gapic.RawPredictRequest(endpoint=endpoint_name, http_body=http_body)"
   ]
  },
  {
   "cell_type": "code",
   "execution_count": 42,
   "id": "7d2c2d80-13f1-41df-a361-8045be17ed43",
   "metadata": {},
   "outputs": [],
   "source": [
    "# # Make the prediction request\n",
    "# response = prediction_client.raw_predict(request=request)\n",
    "# result = json.loads(response.data)\n",
    "\n",
    "# print(result)"
   ]
  },
  {
   "cell_type": "code",
   "execution_count": null,
   "id": "7e580ee5-3cd2-4376-9d71-a1b485262870",
   "metadata": {},
   "outputs": [],
   "source": [
    "def get_triton_prediction_vertex(\n",
    "    model_name,\n",
    "    endpoint_name,\n",
    "    api_endpoint=f\"{REGION}-aiplatform.googleapis.com\",\n",
    "    headers=None,\n",
    "):\n",
    "    # set up vertex ai prediction client\n",
    "    client_options = {\"api_endpoint\": api_endpoint}\n",
    "    gapic_client = gapic.PredictionServiceClient(client_options=client_options)\n",
    "\n",
    "    # generate example data to classify\n",
    "    features = 4\n",
    "    samples = 1\n",
    "    data = np.random.rand(samples, features).astype(\"float32\")\n",
    "\n",
    "    # payload configuration defining input and output names\n",
    "    payload_config = {\n",
    "        \"0_predictpytorchtriton\": {\n",
    "            \"input\": \"age_days-list\",\n",
    "            \"input\": \"weekday_sin-list\",\n",
    "            \"input\": \"item_id-list\",\n",
    "            \"input\": \"category-list\",\n",
    "            \"output\": \"next-item\"\n",
    "        },\n",
    "    }\n",
    "\n",
    "    # get input and output names based on model name\n",
    "    input_name = payload_config[model_name][\"input\"]\n",
    "    output_name = payload_config[model_name][\"output\"]\n",
    "\n",
    "    # set up Triton input and output objects for HTTP\n",
    "    triton_input_http = triton_http.InferInput(input_name, (samples, features), \"FP32\")\n",
    "    triton_input_http.set_data_from_numpy(data, binary_data=False)\n",
    "\n",
    "    if isinstance(output_name, list):\n",
    "        triton_output_http = [\n",
    "            triton_http.InferRequestedOutput(output, binary_data=False)\n",
    "            for output in output_name\n",
    "        ]\n",
    "\n",
    "    else:\n",
    "        triton_output_http = [\n",
    "            triton_http.InferRequestedOutput(output_name, binary_data=False)\n",
    "        ]\n",
    "\n",
    "    # create inference request\n",
    "    _data, _ = triton_http._get_inference_request(\n",
    "        inputs=[triton_input_http],\n",
    "        outputs=triton_output_http,\n",
    "        request_id=\"\",\n",
    "        sequence_id=0,\n",
    "        sequence_start=False,\n",
    "        sequence_end=False,\n",
    "        priority=0,\n",
    "        timeout=None,\n",
    "    )\n",
    "    http_body = httpbody_pb2.HttpBody(\n",
    "        data=_data.encode(\"utf-8\"), content_type=\"application/json\"\n",
    "    )\n",
    "    print(f\"request: {data}\")\n",
    "    # submit inference request\n",
    "    request = gapic.RawPredictRequest(endpoint=endpoint_name, http_body=http_body)\n",
    "    response = gapic_client.raw_predict(request=request, metadata=headers)\n",
    "    # get result as json\n",
    "    result_http = json.loads(response.data.decode(\"utf-8\"))\n",
    "    print(f\"response: {result_http['outputs'][0]['data']}\")"
   ]
  },
  {
   "cell_type": "code",
   "execution_count": null,
   "id": "c80570ca-c308-4b18-8c6b-dfc3e33367a8",
   "metadata": {},
   "outputs": [],
   "source": []
  }
 ],
 "metadata": {
  "kernelspec": {
   "display_name": "Python 3 (ipykernel)",
   "language": "python",
   "name": "python3"
  },
  "language_info": {
   "codemirror_mode": {
    "name": "ipython",
    "version": 3
   },
   "file_extension": ".py",
   "mimetype": "text/x-python",
   "name": "python",
   "nbconvert_exporter": "python",
   "pygments_lexer": "ipython3",
   "version": "3.8.10"
  }
 },
 "nbformat": 4,
 "nbformat_minor": 5
}
