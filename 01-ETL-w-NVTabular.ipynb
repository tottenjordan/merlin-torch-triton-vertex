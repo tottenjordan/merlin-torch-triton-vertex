{
 "cells": [
  {
   "cell_type": "markdown",
   "id": "be500c0c-17c2-41c0-8b92-4646cb3899a9",
   "metadata": {},
   "source": [
    "# ETL with NVTabular\n",
    "\n",
    "* following tutotial [here](https://github.com/NVIDIA-Merlin/Transformers4Rec/blob/main/examples/getting-started-session-based/01-ETL-with-NVTabular.ipynb)"
   ]
  },
  {
   "cell_type": "code",
   "execution_count": 1,
   "id": "49b90d8f-6985-4f1c-879e-2c3f82f3ad1c",
   "metadata": {},
   "outputs": [],
   "source": [
    "import os\n",
    "import glob\n",
    "\n",
    "import numpy as np\n",
    "import pandas as pd\n",
    "\n",
    "import nvtabular as nvt\n",
    "from nvtabular.ops import *\n",
    "from merlin.schema.tags import Tags"
   ]
  },
  {
   "cell_type": "code",
   "execution_count": null,
   "id": "30336765-ade3-4354-9536-1abaaced1d9b",
   "metadata": {},
   "outputs": [],
   "source": [
    "GCP_PROJECTS = !gcloud config get-value project\n",
    "PROJECT_ID = GCP_PROJECTS[0]\n",
    "PROJECT_NUM = !gcloud projects list --filter=\"$PROJECT_ID\" --format=\"value(PROJECT_NUMBER)\"\n",
    "PROJECT_NUM = PROJECT_NUM[0]\n",
    "LOCATION = 'us-central1'\n",
    "REGION = \"us-central1\"\n",
    "\n",
    "# VERTEX_SA = '934903580331-compute@developer.gserviceaccount.com'\n",
    "VERTEX_SA = 'jt-vertex-sa@hybrid-vertex.iam.gserviceaccount.com'\n",
    "\n",
    "print(f\"PROJECT_ID: {PROJECT_ID}\")\n",
    "print(f\"PROJECT_NUM: {PROJECT_NUM}\")\n",
    "print(f\"LOCATION: {LOCATION}\")\n",
    "print(f\"REGION: {REGION}\")\n",
    "print(f\"VERTEX_SA: {VERTEX_SA}\")"
   ]
  },
  {
   "cell_type": "code",
   "execution_count": 2,
   "id": "db20e3fa-bdfa-45a5-91a9-97901afbe2f3",
   "metadata": {},
   "outputs": [
    {
     "name": "stdout",
     "output_type": "stream",
     "text": [
      "/home/jupyter/t4rec-nvidia-docs\n"
     ]
    }
   ],
   "source": [
    "!pwd"
   ]
  },
  {
   "cell_type": "code",
   "execution_count": 31,
   "id": "2e2d2d96-08e4-4380-9cc1-2beea7852d95",
   "metadata": {},
   "outputs": [
    {
     "name": "stdout",
     "output_type": "stream",
     "text": [
      "INPUT_DATA_DIR: workspace/data\n",
      "TRANSFORMED_WORKFLOW: workspace/data/processed_nvt\n",
      "OUTPUT_WORKFLOW_DIR: workspace/data/workflow_etl\n",
      "OUTPUT_DIR: workspace/data/sessions_by_day\n",
      "TRAIN_PATHS: workspace/data/sessions_by_day/1\n"
     ]
    }
   ],
   "source": [
    "REPO_WORKSPACE = 'workspace'\n",
    "\n",
    "DATA_DIR = 'data'\n",
    "INPUT_DATA_DIR=f'{REPO_WORKSPACE}/{DATA_DIR}'\n",
    "TRANSFORMED_WORKFLOW=f'{INPUT_DATA_DIR}/processed_nvt'\n",
    "OUTPUT_WORKFLOW_DIR=f'{INPUT_DATA_DIR}/workflow_etl'\n",
    "OUTPUT_DIR=f'{INPUT_DATA_DIR}/sessions_by_day'\n",
    "TRAIN_PATHS=f'{OUTPUT_DIR}/1' #/train.parquet'\n",
    "\n",
    "\n",
    "print(f\"INPUT_DATA_DIR: {INPUT_DATA_DIR}\")\n",
    "print(f\"TRANSFORMED_WORKFLOW: {TRANSFORMED_WORKFLOW}\")\n",
    "print(f\"OUTPUT_WORKFLOW_DIR: {OUTPUT_WORKFLOW_DIR}\")\n",
    "print(f\"OUTPUT_DIR: {OUTPUT_DIR}\")\n",
    "print(f\"TRAIN_PATHS: {TRAIN_PATHS}\")"
   ]
  },
  {
   "cell_type": "code",
   "execution_count": 32,
   "id": "7aae5118-d308-4fdb-9c36-364b49dd0115",
   "metadata": {},
   "outputs": [],
   "source": [
    "# Make the training subfolder\n",
    "# ! rm -rf {REPO_WORKSPACE}\n",
    "! mkdir {REPO_WORKSPACE}\n",
    "! mkdir {INPUT_DATA_DIR}\n",
    "! mkdir {TRANSFORMED_WORKFLOW}\n",
    "! mkdir {OUTPUT_WORKFLOW_DIR}\n",
    "! mkdir {OUTPUT_DIR}\n",
    "! mkdir {TRAIN_PATHS}"
   ]
  },
  {
   "cell_type": "code",
   "execution_count": 3,
   "id": "1fd0bca0-0e04-4d3d-81d7-4da364b52bb6",
   "metadata": {},
   "outputs": [
    {
     "data": {
      "text/plain": [
       "'/workspace/data/'"
      ]
     },
     "execution_count": 3,
     "metadata": {},
     "output_type": "execute_result"
    }
   ],
   "source": [
    "# INPUT_DATA_DIR = os.environ.get(\"INPUT_DATA_DIR\", \"/workspace/data/\")\n",
    "# INPUT_DATA_DIR"
   ]
  },
  {
   "cell_type": "code",
   "execution_count": 26,
   "id": "2e7a5f0e-8fa9-460a-8ae6-2a8ecf9349c3",
   "metadata": {},
   "outputs": [
    {
     "name": "stdout",
     "output_type": "stream",
     "text": [
      "'[JT] 01-ETL-w-NVTabular.ipynb'   __pycache__   categories   data_utils.py\n"
     ]
    }
   ],
   "source": [
    "# !ls"
   ]
  },
  {
   "cell_type": "markdown",
   "id": "e08af06f-49e4-4b5e-a5ba-83d7395d04c2",
   "metadata": {},
   "source": [
    "## Create synthetic data"
   ]
  },
  {
   "cell_type": "code",
   "execution_count": 33,
   "id": "ec22d6ad-92c8-4147-a97c-501890a5bf89",
   "metadata": {},
   "outputs": [],
   "source": [
    "NUM_ROWS = os.environ.get(\"NUM_ROWS\", 100000)"
   ]
  },
  {
   "cell_type": "code",
   "execution_count": 34,
   "id": "98e4e2ac-6ad5-43f8-9fe2-f1b1b878378f",
   "metadata": {},
   "outputs": [],
   "source": [
    "long_tailed_item_distribution = np.clip(np.random.lognormal(3., 1., int(NUM_ROWS)).astype(np.int32), 1, 50000)\n",
    "# generate random item interaction features \n",
    "df = pd.DataFrame(np.random.randint(70000, 90000, int(NUM_ROWS)), columns=['session_id'])\n",
    "df['item_id'] = long_tailed_item_distribution\n",
    "\n",
    "# generate category mapping for each item-id\n",
    "df['category'] = pd.cut(df['item_id'], bins=334, labels=np.arange(1, 335)).astype(np.int32)\n",
    "df['age_days'] = np.random.uniform(0, 1, int(NUM_ROWS)).astype(np.float32)\n",
    "df['weekday_sin']= np.random.uniform(0, 1, int(NUM_ROWS)).astype(np.float32)\n",
    "\n",
    "# generate day mapping for each session \n",
    "map_day = dict(zip(df.session_id.unique(), np.random.randint(1, 10, size=(df.session_id.nunique()))))\n",
    "df['day'] =  df.session_id.map(map_day)"
   ]
  },
  {
   "cell_type": "code",
   "execution_count": 35,
   "id": "d13d4dc6-b95d-4e98-bd36-9f8a6e4283ea",
   "metadata": {},
   "outputs": [
    {
     "data": {
      "text/html": [
       "<div>\n",
       "<style scoped>\n",
       "    .dataframe tbody tr th:only-of-type {\n",
       "        vertical-align: middle;\n",
       "    }\n",
       "\n",
       "    .dataframe tbody tr th {\n",
       "        vertical-align: top;\n",
       "    }\n",
       "\n",
       "    .dataframe thead th {\n",
       "        text-align: right;\n",
       "    }\n",
       "</style>\n",
       "<table border=\"1\" class=\"dataframe\">\n",
       "  <thead>\n",
       "    <tr style=\"text-align: right;\">\n",
       "      <th></th>\n",
       "      <th>session_id</th>\n",
       "      <th>item_id</th>\n",
       "      <th>category</th>\n",
       "      <th>age_days</th>\n",
       "      <th>weekday_sin</th>\n",
       "      <th>day</th>\n",
       "    </tr>\n",
       "  </thead>\n",
       "  <tbody>\n",
       "    <tr>\n",
       "      <th>0</th>\n",
       "      <td>82415</td>\n",
       "      <td>9</td>\n",
       "      <td>2</td>\n",
       "      <td>0.817630</td>\n",
       "      <td>0.732386</td>\n",
       "      <td>6</td>\n",
       "    </tr>\n",
       "    <tr>\n",
       "      <th>1</th>\n",
       "      <td>75804</td>\n",
       "      <td>6</td>\n",
       "      <td>2</td>\n",
       "      <td>0.059395</td>\n",
       "      <td>0.336924</td>\n",
       "      <td>2</td>\n",
       "    </tr>\n",
       "    <tr>\n",
       "      <th>2</th>\n",
       "      <td>87913</td>\n",
       "      <td>35</td>\n",
       "      <td>8</td>\n",
       "      <td>0.420358</td>\n",
       "      <td>0.248626</td>\n",
       "      <td>3</td>\n",
       "    </tr>\n",
       "    <tr>\n",
       "      <th>3</th>\n",
       "      <td>77737</td>\n",
       "      <td>30</td>\n",
       "      <td>7</td>\n",
       "      <td>0.332786</td>\n",
       "      <td>0.454536</td>\n",
       "      <td>3</td>\n",
       "    </tr>\n",
       "    <tr>\n",
       "      <th>4</th>\n",
       "      <td>87705</td>\n",
       "      <td>3</td>\n",
       "      <td>1</td>\n",
       "      <td>0.458632</td>\n",
       "      <td>0.056690</td>\n",
       "      <td>1</td>\n",
       "    </tr>\n",
       "  </tbody>\n",
       "</table>\n",
       "</div>"
      ],
      "text/plain": [
       "   session_id  item_id  category  age_days  weekday_sin  day\n",
       "0       82415        9         2  0.817630     0.732386    6\n",
       "1       75804        6         2  0.059395     0.336924    2\n",
       "2       87913       35         8  0.420358     0.248626    3\n",
       "3       77737       30         7  0.332786     0.454536    3\n",
       "4       87705        3         1  0.458632     0.056690    1"
      ]
     },
     "execution_count": 35,
     "metadata": {},
     "output_type": "execute_result"
    }
   ],
   "source": [
    "df.head()"
   ]
  },
  {
   "cell_type": "markdown",
   "id": "5a813c47-8c5b-4261-9896-7b8bcb460e1c",
   "metadata": {},
   "source": [
    "## Feature Engineering with NVTabular"
   ]
  },
  {
   "cell_type": "code",
   "execution_count": 36,
   "id": "a718bf37-f476-4d8f-8f7c-4cb803b57732",
   "metadata": {},
   "outputs": [
    {
     "name": "stderr",
     "output_type": "stream",
     "text": [
      "/usr/local/lib/python3.8/dist-packages/merlin/schema/tags.py:148: UserWarning: Compound tags like Tags.ITEM_ID have been deprecated and will be removed in a future version. Please use the atomic versions of these tags, like [<Tags.ITEM: 'item'>, <Tags.ID: 'id'>].\n",
      "  warnings.warn(\n"
     ]
    }
   ],
   "source": [
    "SESSIONS_MAX_LENGTH =20\n",
    "\n",
    "# Categorify categorical features\n",
    "categ_feats = ['session_id', 'item_id', 'category'] >> nvt.ops.Categorify()\n",
    "\n",
    "# Define Groupby Workflow\n",
    "groupby_feats = categ_feats + ['day', 'age_days', 'weekday_sin']\n",
    "\n",
    "# Group interaction features by session\n",
    "groupby_features = groupby_feats >> nvt.ops.Groupby(\n",
    "    groupby_cols=[\"session_id\"], \n",
    "    aggs={\n",
    "        \"item_id\": [\"list\", \"count\"],\n",
    "        \"category\": [\"list\"],     \n",
    "        \"day\": [\"first\"],\n",
    "        \"age_days\": [\"list\"],\n",
    "        'weekday_sin': [\"list\"],\n",
    "        },\n",
    "    name_sep=\"-\")\n",
    "\n",
    "# Select and truncate the sequential features\n",
    "sequence_features_truncated = (\n",
    "    groupby_features['category-list']\n",
    "    >> nvt.ops.ListSlice(-SESSIONS_MAX_LENGTH) \n",
    ")\n",
    "\n",
    "sequence_features_truncated_item = (\n",
    "    groupby_features['item_id-list']\n",
    "    >> nvt.ops.ListSlice(-SESSIONS_MAX_LENGTH) \n",
    "    >> TagAsItemID()\n",
    ")  \n",
    "sequence_features_truncated_cont = (\n",
    "    groupby_features['age_days-list', 'weekday_sin-list'] \n",
    "    >> nvt.ops.ListSlice(-SESSIONS_MAX_LENGTH) \n",
    "    >> nvt.ops.AddMetadata(tags=[Tags.CONTINUOUS])\n",
    ")\n",
    "\n",
    "# Filter out sessions with length 1 (not valid for next-item prediction training and evaluation)\n",
    "MINIMUM_SESSION_LENGTH = 2\n",
    "selected_features = (\n",
    "    groupby_features['item_id-count', 'day-first', 'session_id'] + \n",
    "    sequence_features_truncated_item +\n",
    "    sequence_features_truncated + \n",
    "    sequence_features_truncated_cont\n",
    ")\n",
    "    \n",
    "filtered_sessions = selected_features >> nvt.ops.Filter(f=lambda df: df[\"item_id-count\"] >= MINIMUM_SESSION_LENGTH)\n",
    "\n",
    "seq_feats_list = filtered_sessions['item_id-list', 'category-list', 'age_days-list', 'weekday_sin-list'] >>  nvt.ops.ValueCount()\n",
    "\n",
    "\n",
    "workflow = nvt.Workflow(filtered_sessions['session_id', 'day-first', 'item_id-count'] + seq_feats_list)\n",
    "\n",
    "dataset = nvt.Dataset(df, cpu=False)\n",
    "# Generate statistics for the features\n",
    "workflow.fit(dataset)\n",
    "# Apply the preprocessing and return an NVTabular dataset\n",
    "sessions_ds = workflow.transform(dataset)\n",
    "# Convert the NVTabular dataset to a Dask cuDF dataframe (`to_ddf()`) and then to cuDF dataframe (`.compute()`)\n",
    "sessions_gdf = sessions_ds.to_ddf().compute()"
   ]
  },
  {
   "cell_type": "code",
   "execution_count": 37,
   "id": "5e2dbe07-098d-4142-9b90-2f655f89b29e",
   "metadata": {},
   "outputs": [
    {
     "data": {
      "text/html": [
       "<div>\n",
       "<style scoped>\n",
       "    .dataframe tbody tr th:only-of-type {\n",
       "        vertical-align: middle;\n",
       "    }\n",
       "\n",
       "    .dataframe tbody tr th {\n",
       "        vertical-align: top;\n",
       "    }\n",
       "\n",
       "    .dataframe thead th {\n",
       "        text-align: right;\n",
       "    }\n",
       "</style>\n",
       "<table border=\"1\" class=\"dataframe\">\n",
       "  <thead>\n",
       "    <tr style=\"text-align: right;\">\n",
       "      <th></th>\n",
       "      <th>session_id</th>\n",
       "      <th>day-first</th>\n",
       "      <th>item_id-count</th>\n",
       "      <th>item_id-list</th>\n",
       "      <th>category-list</th>\n",
       "      <th>age_days-list</th>\n",
       "      <th>weekday_sin-list</th>\n",
       "    </tr>\n",
       "  </thead>\n",
       "  <tbody>\n",
       "    <tr>\n",
       "      <th>0</th>\n",
       "      <td>1</td>\n",
       "      <td>5</td>\n",
       "      <td>16</td>\n",
       "      <td>[38, 27, 70, 19, 5, 13, 48, 88, 9, 44, 17, 22,...</td>\n",
       "      <td>[8, 7, 14, 5, 3, 4, 10, 18, 2, 9, 4, 5, 53, 2,...</td>\n",
       "      <td>[0.5251261, 0.87913096, 0.7250461, 0.43472463,...</td>\n",
       "      <td>[0.5770256, 0.35902506, 0.079794206, 0.9617632...</td>\n",
       "    </tr>\n",
       "    <tr>\n",
       "      <th>1</th>\n",
       "      <td>2</td>\n",
       "      <td>3</td>\n",
       "      <td>16</td>\n",
       "      <td>[34, 84, 28, 36, 5, 38, 2, 176, 5, 46, 44, 23,...</td>\n",
       "      <td>[6, 18, 7, 8, 3, 8, 1, 34, 3, 10, 9, 5, 9, 10,...</td>\n",
       "      <td>[0.10864424, 0.5010008, 0.86823916, 0.10962348...</td>\n",
       "      <td>[0.31416067, 0.6658211, 0.26234916, 0.27628836...</td>\n",
       "    </tr>\n",
       "    <tr>\n",
       "      <th>2</th>\n",
       "      <td>3</td>\n",
       "      <td>5</td>\n",
       "      <td>15</td>\n",
       "      <td>[35, 19, 2, 21, 4, 22, 46, 14, 77, 9, 17, 1, 3...</td>\n",
       "      <td>[8, 5, 1, 5, 1, 5, 10, 3, 16, 2, 4, 1, 6, 11, 1]</td>\n",
       "      <td>[0.77158105, 0.56738484, 0.120141625, 0.657774...</td>\n",
       "      <td>[0.33148926, 0.66894, 0.59043574, 0.6323525, 0...</td>\n",
       "    </tr>\n",
       "  </tbody>\n",
       "</table>\n",
       "</div>"
      ],
      "text/plain": [
       "   session_id  day-first  item_id-count  \\\n",
       "0           1          5             16   \n",
       "1           2          3             16   \n",
       "2           3          5             15   \n",
       "\n",
       "                                        item_id-list  \\\n",
       "0  [38, 27, 70, 19, 5, 13, 48, 88, 9, 44, 17, 22,...   \n",
       "1  [34, 84, 28, 36, 5, 38, 2, 176, 5, 46, 44, 23,...   \n",
       "2  [35, 19, 2, 21, 4, 22, 46, 14, 77, 9, 17, 1, 3...   \n",
       "\n",
       "                                       category-list  \\\n",
       "0  [8, 7, 14, 5, 3, 4, 10, 18, 2, 9, 4, 5, 53, 2,...   \n",
       "1  [6, 18, 7, 8, 3, 8, 1, 34, 3, 10, 9, 5, 9, 10,...   \n",
       "2   [8, 5, 1, 5, 1, 5, 10, 3, 16, 2, 4, 1, 6, 11, 1]   \n",
       "\n",
       "                                       age_days-list  \\\n",
       "0  [0.5251261, 0.87913096, 0.7250461, 0.43472463,...   \n",
       "1  [0.10864424, 0.5010008, 0.86823916, 0.10962348...   \n",
       "2  [0.77158105, 0.56738484, 0.120141625, 0.657774...   \n",
       "\n",
       "                                    weekday_sin-list  \n",
       "0  [0.5770256, 0.35902506, 0.079794206, 0.9617632...  \n",
       "1  [0.31416067, 0.6658211, 0.26234916, 0.27628836...  \n",
       "2  [0.33148926, 0.66894, 0.59043574, 0.6323525, 0...  "
      ]
     },
     "execution_count": 37,
     "metadata": {},
     "output_type": "execute_result"
    }
   ],
   "source": [
    "sessions_gdf.head(3)"
   ]
  },
  {
   "cell_type": "code",
   "execution_count": 38,
   "id": "fc6f1914-3e37-4d0e-bfd7-2ea0d8a00ccc",
   "metadata": {},
   "outputs": [
    {
     "data": {
      "text/html": [
       "<div>\n",
       "<style scoped>\n",
       "    .dataframe tbody tr th:only-of-type {\n",
       "        vertical-align: middle;\n",
       "    }\n",
       "\n",
       "    .dataframe tbody tr th {\n",
       "        vertical-align: top;\n",
       "    }\n",
       "\n",
       "    .dataframe thead th {\n",
       "        text-align: right;\n",
       "    }\n",
       "</style>\n",
       "<table border=\"1\" class=\"dataframe\">\n",
       "  <thead>\n",
       "    <tr style=\"text-align: right;\">\n",
       "      <th></th>\n",
       "      <th>name</th>\n",
       "      <th>tags</th>\n",
       "      <th>dtype</th>\n",
       "      <th>is_list</th>\n",
       "      <th>is_ragged</th>\n",
       "      <th>properties.num_buckets</th>\n",
       "      <th>properties.freq_threshold</th>\n",
       "      <th>properties.max_size</th>\n",
       "      <th>properties.start_index</th>\n",
       "      <th>properties.cat_path</th>\n",
       "      <th>properties.domain.min</th>\n",
       "      <th>properties.domain.max</th>\n",
       "      <th>properties.domain.name</th>\n",
       "      <th>properties.embedding_sizes.cardinality</th>\n",
       "      <th>properties.embedding_sizes.dimension</th>\n",
       "      <th>properties.value_count.min</th>\n",
       "      <th>properties.value_count.max</th>\n",
       "    </tr>\n",
       "  </thead>\n",
       "  <tbody>\n",
       "    <tr>\n",
       "      <th>0</th>\n",
       "      <td>session_id</td>\n",
       "      <td>(Tags.CATEGORICAL)</td>\n",
       "      <td>int64</td>\n",
       "      <td>False</td>\n",
       "      <td>False</td>\n",
       "      <td>NaN</td>\n",
       "      <td>0.0</td>\n",
       "      <td>0.0</td>\n",
       "      <td>0.0</td>\n",
       "      <td>.//categories/unique.session_id.parquet</td>\n",
       "      <td>0.0</td>\n",
       "      <td>19867.0</td>\n",
       "      <td>session_id</td>\n",
       "      <td>19868.0</td>\n",
       "      <td>408.0</td>\n",
       "      <td>NaN</td>\n",
       "      <td>NaN</td>\n",
       "    </tr>\n",
       "    <tr>\n",
       "      <th>1</th>\n",
       "      <td>day-first</td>\n",
       "      <td>()</td>\n",
       "      <td>int64</td>\n",
       "      <td>False</td>\n",
       "      <td>False</td>\n",
       "      <td>NaN</td>\n",
       "      <td>NaN</td>\n",
       "      <td>NaN</td>\n",
       "      <td>NaN</td>\n",
       "      <td>NaN</td>\n",
       "      <td>NaN</td>\n",
       "      <td>NaN</td>\n",
       "      <td>NaN</td>\n",
       "      <td>NaN</td>\n",
       "      <td>NaN</td>\n",
       "      <td>NaN</td>\n",
       "      <td>NaN</td>\n",
       "    </tr>\n",
       "    <tr>\n",
       "      <th>2</th>\n",
       "      <td>item_id-count</td>\n",
       "      <td>(Tags.CATEGORICAL)</td>\n",
       "      <td>int32</td>\n",
       "      <td>False</td>\n",
       "      <td>False</td>\n",
       "      <td>NaN</td>\n",
       "      <td>0.0</td>\n",
       "      <td>0.0</td>\n",
       "      <td>0.0</td>\n",
       "      <td>.//categories/unique.item_id.parquet</td>\n",
       "      <td>0.0</td>\n",
       "      <td>490.0</td>\n",
       "      <td>item_id</td>\n",
       "      <td>491.0</td>\n",
       "      <td>51.0</td>\n",
       "      <td>NaN</td>\n",
       "      <td>NaN</td>\n",
       "    </tr>\n",
       "    <tr>\n",
       "      <th>3</th>\n",
       "      <td>item_id-list</td>\n",
       "      <td>(Tags.CATEGORICAL, Tags.LIST, Tags.ITEM_ID, Ta...</td>\n",
       "      <td>int64</td>\n",
       "      <td>True</td>\n",
       "      <td>True</td>\n",
       "      <td>NaN</td>\n",
       "      <td>0.0</td>\n",
       "      <td>0.0</td>\n",
       "      <td>0.0</td>\n",
       "      <td>.//categories/unique.item_id.parquet</td>\n",
       "      <td>0.0</td>\n",
       "      <td>490.0</td>\n",
       "      <td>item_id</td>\n",
       "      <td>491.0</td>\n",
       "      <td>51.0</td>\n",
       "      <td>2.0</td>\n",
       "      <td>16.0</td>\n",
       "    </tr>\n",
       "    <tr>\n",
       "      <th>4</th>\n",
       "      <td>category-list</td>\n",
       "      <td>(Tags.CATEGORICAL, Tags.LIST)</td>\n",
       "      <td>int64</td>\n",
       "      <td>True</td>\n",
       "      <td>True</td>\n",
       "      <td>NaN</td>\n",
       "      <td>0.0</td>\n",
       "      <td>0.0</td>\n",
       "      <td>0.0</td>\n",
       "      <td>.//categories/unique.category.parquet</td>\n",
       "      <td>0.0</td>\n",
       "      <td>146.0</td>\n",
       "      <td>category</td>\n",
       "      <td>147.0</td>\n",
       "      <td>26.0</td>\n",
       "      <td>2.0</td>\n",
       "      <td>16.0</td>\n",
       "    </tr>\n",
       "    <tr>\n",
       "      <th>5</th>\n",
       "      <td>age_days-list</td>\n",
       "      <td>(Tags.CONTINUOUS, Tags.LIST)</td>\n",
       "      <td>float32</td>\n",
       "      <td>True</td>\n",
       "      <td>True</td>\n",
       "      <td>NaN</td>\n",
       "      <td>NaN</td>\n",
       "      <td>NaN</td>\n",
       "      <td>NaN</td>\n",
       "      <td>NaN</td>\n",
       "      <td>NaN</td>\n",
       "      <td>NaN</td>\n",
       "      <td>NaN</td>\n",
       "      <td>NaN</td>\n",
       "      <td>NaN</td>\n",
       "      <td>2.0</td>\n",
       "      <td>16.0</td>\n",
       "    </tr>\n",
       "    <tr>\n",
       "      <th>6</th>\n",
       "      <td>weekday_sin-list</td>\n",
       "      <td>(Tags.CONTINUOUS, Tags.LIST)</td>\n",
       "      <td>float32</td>\n",
       "      <td>True</td>\n",
       "      <td>True</td>\n",
       "      <td>NaN</td>\n",
       "      <td>NaN</td>\n",
       "      <td>NaN</td>\n",
       "      <td>NaN</td>\n",
       "      <td>NaN</td>\n",
       "      <td>NaN</td>\n",
       "      <td>NaN</td>\n",
       "      <td>NaN</td>\n",
       "      <td>NaN</td>\n",
       "      <td>NaN</td>\n",
       "      <td>2.0</td>\n",
       "      <td>16.0</td>\n",
       "    </tr>\n",
       "  </tbody>\n",
       "</table>\n",
       "</div>"
      ],
      "text/plain": [
       "[{'name': 'session_id', 'tags': {<Tags.CATEGORICAL: 'categorical'>}, 'properties': {'num_buckets': None, 'freq_threshold': 0, 'max_size': 0, 'start_index': 0, 'cat_path': './/categories/unique.session_id.parquet', 'domain': {'min': 0, 'max': 19867, 'name': 'session_id'}, 'embedding_sizes': {'cardinality': 19868, 'dimension': 408}}, 'dtype': dtype('int64'), 'is_list': False, 'is_ragged': False}, {'name': 'day-first', 'tags': set(), 'properties': {}, 'dtype': dtype('int64'), 'is_list': False, 'is_ragged': False}, {'name': 'item_id-count', 'tags': {<Tags.CATEGORICAL: 'categorical'>}, 'properties': {'num_buckets': None, 'freq_threshold': 0, 'max_size': 0, 'start_index': 0, 'cat_path': './/categories/unique.item_id.parquet', 'domain': {'min': 0, 'max': 490, 'name': 'item_id'}, 'embedding_sizes': {'cardinality': 491, 'dimension': 51}}, 'dtype': dtype('int32'), 'is_list': False, 'is_ragged': False}, {'name': 'item_id-list', 'tags': {<Tags.CATEGORICAL: 'categorical'>, <Tags.LIST: 'list'>, <Tags.ITEM_ID: 'item_id'>, <Tags.ITEM: 'item'>, <Tags.ID: 'id'>}, 'properties': {'num_buckets': None, 'freq_threshold': 0, 'max_size': 0, 'start_index': 0, 'cat_path': './/categories/unique.item_id.parquet', 'domain': {'min': 0, 'max': 490, 'name': 'item_id'}, 'embedding_sizes': {'cardinality': 491, 'dimension': 51}, 'value_count': {'min': 2, 'max': 16}}, 'dtype': dtype('int64'), 'is_list': True, 'is_ragged': True}, {'name': 'category-list', 'tags': {<Tags.CATEGORICAL: 'categorical'>, <Tags.LIST: 'list'>}, 'properties': {'num_buckets': None, 'freq_threshold': 0, 'max_size': 0, 'start_index': 0, 'cat_path': './/categories/unique.category.parquet', 'domain': {'min': 0, 'max': 146, 'name': 'category'}, 'embedding_sizes': {'cardinality': 147, 'dimension': 26}, 'value_count': {'min': 2, 'max': 16}}, 'dtype': dtype('int64'), 'is_list': True, 'is_ragged': True}, {'name': 'age_days-list', 'tags': {<Tags.CONTINUOUS: 'continuous'>, <Tags.LIST: 'list'>}, 'properties': {'value_count': {'min': 2, 'max': 16}}, 'dtype': dtype('float32'), 'is_list': True, 'is_ragged': True}, {'name': 'weekday_sin-list', 'tags': {<Tags.CONTINUOUS: 'continuous'>, <Tags.LIST: 'list'>}, 'properties': {'value_count': {'min': 2, 'max': 16}}, 'dtype': dtype('float32'), 'is_list': True, 'is_ragged': True}]"
      ]
     },
     "execution_count": 38,
     "metadata": {},
     "output_type": "execute_result"
    }
   ],
   "source": [
    "workflow.output_schema"
   ]
  },
  {
   "cell_type": "code",
   "execution_count": 39,
   "id": "437a503c-eb07-405d-8ebf-e2ea64637331",
   "metadata": {},
   "outputs": [
    {
     "name": "stderr",
     "output_type": "stream",
     "text": [
      "/usr/local/lib/python3.8/dist-packages/merlin/schema/tags.py:148: UserWarning: Compound tags like Tags.ITEM_ID have been deprecated and will be removed in a future version. Please use the atomic versions of these tags, like [<Tags.ITEM: 'item'>, <Tags.ID: 'id'>].\n",
      "  warnings.warn(\n"
     ]
    },
    {
     "name": "stdout",
     "output_type": "stream",
     "text": [
      "_file_list.txt\t_metadata  _metadata.json  part_0.parquet  schema.pbtxt\n"
     ]
    }
   ],
   "source": [
    "# workflow.fit_transform(dataset).to_parquet(os.path.join(INPUT_DATA_DIR, \"processed_nvt\"))\n",
    "\n",
    "workflow.fit_transform(dataset).to_parquet(TRANSFORMED_WORKFLOW)\n",
    "\n",
    "!ls $TRANSFORMED_WORKFLOW"
   ]
  },
  {
   "cell_type": "code",
   "execution_count": 40,
   "id": "2e1758d1-d6a0-4f51-bdf8-63035aa6d9ff",
   "metadata": {},
   "outputs": [
    {
     "name": "stdout",
     "output_type": "stream",
     "text": [
      "categories  metadata.json  workflow.pkl\n"
     ]
    }
   ],
   "source": [
    "# workflow.save(os.path.join(INPUT_DATA_DIR, \"workflow_etl\"))\n",
    "\n",
    "workflow.save(OUTPUT_WORKFLOW_DIR)\n",
    "\n",
    "!ls $OUTPUT_WORKFLOW_DIR"
   ]
  },
  {
   "cell_type": "markdown",
   "id": "ed7410d3-4e56-4fa3-839a-64010a65bfaf",
   "metadata": {},
   "source": [
    "## Export pre-processed data by day"
   ]
  },
  {
   "cell_type": "code",
   "execution_count": 41,
   "id": "2e6bd2a9-e5f5-40a2-bcae-f0ba3b410660",
   "metadata": {},
   "outputs": [
    {
     "name": "stdout",
     "output_type": "stream",
     "text": [
      "1\n"
     ]
    }
   ],
   "source": [
    "# OUTPUT_DIR = os.environ.get(\"OUTPUT_DIR\",os.path.join(INPUT_DATA_DIR, \"sessions_by_day\"))\n",
    "\n",
    "!ls $OUTPUT_DIR"
   ]
  },
  {
   "cell_type": "code",
   "execution_count": 42,
   "id": "03aaef13-bb1e-4244-8158-2629fb5aeca3",
   "metadata": {},
   "outputs": [
    {
     "name": "stderr",
     "output_type": "stream",
     "text": [
      "Creating time-based splits: 100% 9/9 [00:00<00:00, 26.74it/s]\n"
     ]
    }
   ],
   "source": [
    "from transformers4rec.data.preprocessing import save_time_based_splits\n",
    "\n",
    "save_time_based_splits(\n",
    "    data=nvt.Dataset(sessions_gdf),\n",
    "    output_dir= OUTPUT_DIR,\n",
    "    partition_col='day-first',\n",
    "    timestamp_col='session_id', \n",
    ")"
   ]
  },
  {
   "cell_type": "markdown",
   "id": "1d19e4e5-232d-4ed2-9d0f-38d5ac5a62d8",
   "metadata": {},
   "source": [
    "## Checking the preprocessed outputs"
   ]
  },
  {
   "cell_type": "code",
   "execution_count": 43,
   "id": "8b0016a1-0f70-45b8-934a-b3e9cc0e1928",
   "metadata": {},
   "outputs": [
    {
     "name": "stdout",
     "output_type": "stream",
     "text": [
      "TRAIN_DATA: workspace/data/sessions_by_day/1/train.parquet\n"
     ]
    }
   ],
   "source": [
    "# TRAIN_PATHS = os.path.join(OUTPUT_DIR, \"1\", \"train.parquet\")\n",
    "\n",
    "TRAIN_DATA = f'{TRAIN_PATHS}/train.parquet'\n",
    "print(f\"TRAIN_DATA: {TRAIN_DATA}\")"
   ]
  },
  {
   "cell_type": "code",
   "execution_count": 44,
   "id": "1a1a9b47-cf70-4735-9fb9-30219b7e9519",
   "metadata": {},
   "outputs": [
    {
     "data": {
      "text/html": [
       "<div>\n",
       "<style scoped>\n",
       "    .dataframe tbody tr th:only-of-type {\n",
       "        vertical-align: middle;\n",
       "    }\n",
       "\n",
       "    .dataframe tbody tr th {\n",
       "        vertical-align: top;\n",
       "    }\n",
       "\n",
       "    .dataframe thead th {\n",
       "        text-align: right;\n",
       "    }\n",
       "</style>\n",
       "<table border=\"1\" class=\"dataframe\">\n",
       "  <thead>\n",
       "    <tr style=\"text-align: right;\">\n",
       "      <th></th>\n",
       "      <th>session_id</th>\n",
       "      <th>item_id-count</th>\n",
       "      <th>item_id-list</th>\n",
       "      <th>category-list</th>\n",
       "      <th>age_days-list</th>\n",
       "      <th>weekday_sin-list</th>\n",
       "    </tr>\n",
       "  </thead>\n",
       "  <tbody>\n",
       "    <tr>\n",
       "      <th>0</th>\n",
       "      <td>9</td>\n",
       "      <td>14</td>\n",
       "      <td>[49, 36, 130, 20, 48, 15, 3, 126, 96, 31, 24, ...</td>\n",
       "      <td>[10, 8, 26, 3, 10, 4, 1, 23, 20, 6, 5, 4, 1, 4]</td>\n",
       "      <td>[0.48491085, 0.86484003, 0.13697912, 0.6252731...</td>\n",
       "      <td>[0.014036216, 0.3720214, 0.5400261, 0.6242002,...</td>\n",
       "    </tr>\n",
       "    <tr>\n",
       "      <th>1</th>\n",
       "      <td>35</td>\n",
       "      <td>12</td>\n",
       "      <td>[34, 16, 34, 7, 6, 9, 24, 37, 3, 48, 1, 9]</td>\n",
       "      <td>[6, 4, 6, 2, 1, 2, 5, 8, 1, 10, 1, 2]</td>\n",
       "      <td>[0.9514152, 0.9970582, 0.5264118, 0.057201244,...</td>\n",
       "      <td>[0.5489233, 0.3369006, 0.80283314, 0.9907031, ...</td>\n",
       "    </tr>\n",
       "    <tr>\n",
       "      <th>2</th>\n",
       "      <td>66</td>\n",
       "      <td>12</td>\n",
       "      <td>[3, 8, 14, 63, 20, 25, 36, 12, 52, 18, 2, 30]</td>\n",
       "      <td>[1, 3, 3, 14, 3, 7, 8, 2, 12, 4, 1, 6]</td>\n",
       "      <td>[0.59860885, 0.7828945, 0.8959286, 0.59513724,...</td>\n",
       "      <td>[0.28273273, 0.8098918, 0.86178094, 0.30507022...</td>\n",
       "    </tr>\n",
       "    <tr>\n",
       "      <th>4</th>\n",
       "      <td>86</td>\n",
       "      <td>12</td>\n",
       "      <td>[38, 62, 12, 35, 27, 15, 16, 46, 17, 8, 12, 58]</td>\n",
       "      <td>[8, 13, 2, 8, 7, 4, 4, 10, 4, 3, 2, 13]</td>\n",
       "      <td>[0.06666987, 0.7871961, 0.8365424, 0.49183917,...</td>\n",
       "      <td>[0.47157973, 0.78612095, 0.30395415, 0.6325353...</td>\n",
       "    </tr>\n",
       "    <tr>\n",
       "      <th>5</th>\n",
       "      <td>87</td>\n",
       "      <td>12</td>\n",
       "      <td>[94, 20, 23, 31, 24, 22, 72, 7, 11, 4, 43, 6]</td>\n",
       "      <td>[20, 3, 5, 6, 5, 5, 15, 2, 2, 1, 9, 1]</td>\n",
       "      <td>[0.43543532, 0.4677896, 0.531344, 0.97253376, ...</td>\n",
       "      <td>[0.058378555, 0.07599554, 0.87675023, 0.737522...</td>\n",
       "    </tr>\n",
       "    <tr>\n",
       "      <th>...</th>\n",
       "      <td>...</td>\n",
       "      <td>...</td>\n",
       "      <td>...</td>\n",
       "      <td>...</td>\n",
       "      <td>...</td>\n",
       "      <td>...</td>\n",
       "    </tr>\n",
       "    <tr>\n",
       "      <th>2016</th>\n",
       "      <td>19137</td>\n",
       "      <td>2</td>\n",
       "      <td>[1, 2]</td>\n",
       "      <td>[1, 1]</td>\n",
       "      <td>[0.6261729, 0.4914603]</td>\n",
       "      <td>[0.9872869, 0.33724102]</td>\n",
       "    </tr>\n",
       "    <tr>\n",
       "      <th>2017</th>\n",
       "      <td>19138</td>\n",
       "      <td>2</td>\n",
       "      <td>[354, 99]</td>\n",
       "      <td>[73, 22]</td>\n",
       "      <td>[0.527412, 0.34500536]</td>\n",
       "      <td>[0.6040353, 0.14440879]</td>\n",
       "    </tr>\n",
       "    <tr>\n",
       "      <th>2018</th>\n",
       "      <td>19139</td>\n",
       "      <td>2</td>\n",
       "      <td>[32, 239]</td>\n",
       "      <td>[6, 58]</td>\n",
       "      <td>[0.97328794, 0.52698237]</td>\n",
       "      <td>[0.6735554, 0.0022826127]</td>\n",
       "    </tr>\n",
       "    <tr>\n",
       "      <th>2019</th>\n",
       "      <td>19140</td>\n",
       "      <td>2</td>\n",
       "      <td>[15, 36]</td>\n",
       "      <td>[4, 8]</td>\n",
       "      <td>[0.33646894, 0.19001935]</td>\n",
       "      <td>[0.8783984, 0.05833189]</td>\n",
       "    </tr>\n",
       "    <tr>\n",
       "      <th>2020</th>\n",
       "      <td>19151</td>\n",
       "      <td>2</td>\n",
       "      <td>[18, 41]</td>\n",
       "      <td>[4, 9]</td>\n",
       "      <td>[0.46051687, 0.19171064]</td>\n",
       "      <td>[0.070279695, 0.17126353]</td>\n",
       "    </tr>\n",
       "  </tbody>\n",
       "</table>\n",
       "<p>1611 rows × 6 columns</p>\n",
       "</div>"
      ],
      "text/plain": [
       "      session_id  item_id-count  \\\n",
       "0              9             14   \n",
       "1             35             12   \n",
       "2             66             12   \n",
       "4             86             12   \n",
       "5             87             12   \n",
       "...          ...            ...   \n",
       "2016       19137              2   \n",
       "2017       19138              2   \n",
       "2018       19139              2   \n",
       "2019       19140              2   \n",
       "2020       19151              2   \n",
       "\n",
       "                                           item_id-list  \\\n",
       "0     [49, 36, 130, 20, 48, 15, 3, 126, 96, 31, 24, ...   \n",
       "1            [34, 16, 34, 7, 6, 9, 24, 37, 3, 48, 1, 9]   \n",
       "2         [3, 8, 14, 63, 20, 25, 36, 12, 52, 18, 2, 30]   \n",
       "4       [38, 62, 12, 35, 27, 15, 16, 46, 17, 8, 12, 58]   \n",
       "5         [94, 20, 23, 31, 24, 22, 72, 7, 11, 4, 43, 6]   \n",
       "...                                                 ...   \n",
       "2016                                             [1, 2]   \n",
       "2017                                          [354, 99]   \n",
       "2018                                          [32, 239]   \n",
       "2019                                           [15, 36]   \n",
       "2020                                           [18, 41]   \n",
       "\n",
       "                                        category-list  \\\n",
       "0     [10, 8, 26, 3, 10, 4, 1, 23, 20, 6, 5, 4, 1, 4]   \n",
       "1               [6, 4, 6, 2, 1, 2, 5, 8, 1, 10, 1, 2]   \n",
       "2              [1, 3, 3, 14, 3, 7, 8, 2, 12, 4, 1, 6]   \n",
       "4             [8, 13, 2, 8, 7, 4, 4, 10, 4, 3, 2, 13]   \n",
       "5              [20, 3, 5, 6, 5, 5, 15, 2, 2, 1, 9, 1]   \n",
       "...                                               ...   \n",
       "2016                                           [1, 1]   \n",
       "2017                                         [73, 22]   \n",
       "2018                                          [6, 58]   \n",
       "2019                                           [4, 8]   \n",
       "2020                                           [4, 9]   \n",
       "\n",
       "                                          age_days-list  \\\n",
       "0     [0.48491085, 0.86484003, 0.13697912, 0.6252731...   \n",
       "1     [0.9514152, 0.9970582, 0.5264118, 0.057201244,...   \n",
       "2     [0.59860885, 0.7828945, 0.8959286, 0.59513724,...   \n",
       "4     [0.06666987, 0.7871961, 0.8365424, 0.49183917,...   \n",
       "5     [0.43543532, 0.4677896, 0.531344, 0.97253376, ...   \n",
       "...                                                 ...   \n",
       "2016                             [0.6261729, 0.4914603]   \n",
       "2017                             [0.527412, 0.34500536]   \n",
       "2018                           [0.97328794, 0.52698237]   \n",
       "2019                           [0.33646894, 0.19001935]   \n",
       "2020                           [0.46051687, 0.19171064]   \n",
       "\n",
       "                                       weekday_sin-list  \n",
       "0     [0.014036216, 0.3720214, 0.5400261, 0.6242002,...  \n",
       "1     [0.5489233, 0.3369006, 0.80283314, 0.9907031, ...  \n",
       "2     [0.28273273, 0.8098918, 0.86178094, 0.30507022...  \n",
       "4     [0.47157973, 0.78612095, 0.30395415, 0.6325353...  \n",
       "5     [0.058378555, 0.07599554, 0.87675023, 0.737522...  \n",
       "...                                                 ...  \n",
       "2016                            [0.9872869, 0.33724102]  \n",
       "2017                            [0.6040353, 0.14440879]  \n",
       "2018                          [0.6735554, 0.0022826127]  \n",
       "2019                            [0.8783984, 0.05833189]  \n",
       "2020                          [0.070279695, 0.17126353]  \n",
       "\n",
       "[1611 rows x 6 columns]"
      ]
     },
     "execution_count": 44,
     "metadata": {},
     "output_type": "execute_result"
    }
   ],
   "source": [
    "df = pd.read_parquet(TRAIN_DATA)\n",
    "df"
   ]
  },
  {
   "cell_type": "code",
   "execution_count": 45,
   "id": "6c0fb78d-2ebc-40c7-b09b-0e8352862ec3",
   "metadata": {},
   "outputs": [
    {
     "data": {
      "text/plain": [
       "1501"
      ]
     },
     "execution_count": 45,
     "metadata": {},
     "output_type": "execute_result"
    }
   ],
   "source": [
    "import gc\n",
    "del df\n",
    "gc.collect()"
   ]
  },
  {
   "cell_type": "code",
   "execution_count": null,
   "id": "1cffc5cf-ef8f-4006-b5df-3651afd17527",
   "metadata": {},
   "outputs": [],
   "source": []
  }
 ],
 "metadata": {
  "kernelspec": {
   "display_name": "Python 3 (ipykernel)",
   "language": "python",
   "name": "python3"
  },
  "language_info": {
   "codemirror_mode": {
    "name": "ipython",
    "version": 3
   },
   "file_extension": ".py",
   "mimetype": "text/x-python",
   "name": "python",
   "nbconvert_exporter": "python",
   "pygments_lexer": "ipython3",
   "version": "3.8.10"
  }
 },
 "nbformat": 4,
 "nbformat_minor": 5
}
